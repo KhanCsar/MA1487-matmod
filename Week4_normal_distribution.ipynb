{
 "cells": [
  {
   "cell_type": "markdown",
   "metadata": {},
   "source": [
    "# Normalfördelningen\n",
    "Normalfördelningen är kanske den vanligast förekommande sannolikhetsfördelningen i naturen. Den är också den som används som utgångspunkt för många andra fördelningar. \n",
    "\n",
    "Normalfördelningen är en kontinuerlig fördelning och har en s.k. \"klockform\". Normalfördelningen har ett medelvärde $\\mu$ och en standardavvikelse $\\sigma$. Normalfördelningen är definierad som\n",
    "$$ f(x) = \\frac{1}{\\sqrt{2\\pi}\\sigma} e^{-\\frac{(x-\\mu)^2}{2\\sigma^2}} $$\n",
    "\n"
   ]
  },
  {
   "cell_type": "code",
   "execution_count": 14,
   "metadata": {},
   "outputs": [],
   "source": [
    "# Create a figure using opencv tarckbar to show normal distribution with different parameters\n",
    "import numpy as np\n",
    "import cv2 \n",
    "import matplotlib.pyplot as plt\n",
    "\n",
    "%matplotlib qt\n",
    "\n",
    "# Empty function for opencv trackbar\n",
    "def nothing(x):\n",
    "    pass\n",
    "\n",
    "# Create a normal distribution with mean mu and standard deviation sigma\n",
    "def normal_distribution(mu, sigma, start=-10, end=10, step=0.1):\n",
    "    x = np.arange(start=start, stop=end, step=step)\n",
    "    y = 1/(sigma * np.sqrt(2 * np.pi)) * np.exp( - (x - mu)**2 / (2 * sigma**2) )\n",
    "    return x, y\n",
    "\n",
    "# Create a figure using opencv tarckbar to show normal distribution with different parameters\n",
    "def draw_normal_dist(start, end, step, mu, sigma):\n",
    "    # Create a black image to inialized the figure\n",
    "    img = np.zeros((1,512,3), np.uint8)\n",
    "    # Create a window\n",
    "    cv2.namedWindow('image')\n",
    "    # Create trackbars for color change\n",
    "    cv2.createTrackbar('mu','image',start*10,end*10,nothing)\n",
    "    cv2.setTrackbarMin('mu','image',start * 10)\n",
    "    cv2.createTrackbar('sigma','image',1,30,nothing)\n",
    "    cv2.setTrackbarMin('sigma','image',1)\n",
    "    \n",
    "    # Create plot\n",
    "    try:\n",
    "        while(1):\n",
    "            cv2.imshow('image',img)\n",
    "            k = cv2.waitKey(1) & 0xFF\n",
    "            if k == 27:\n",
    "                break\n",
    "\n",
    "            # get current positions of four trackbars\n",
    "            mu_10 = cv2.getTrackbarPos('mu','image')\n",
    "            sigma_10 = cv2.getTrackbarPos('sigma','image')\n",
    "            mu = mu_10 / 10\n",
    "            sigma = sigma_10 / 10\n",
    "            \n",
    "            # Get the normal distribution\n",
    "            x, y = normal_distribution(mu, sigma, start, end, step)\n",
    "            # Plot the normal distribution\n",
    "            plt.plot(x, y)\n",
    "            plt.title(f'Normal Distribution with mu={mu} and sigma={sigma}')\n",
    "            plt.xlim(start, end)\n",
    "            plt.ylim(0, 1)\n",
    "            plt.draw()\n",
    "            plt.pause(0.0001)\n",
    "            plt.clf()\n",
    "    except:  \n",
    "        cv2.destroyAllWindows()\n",
    "        plt.close()\n",
    "\n",
    "\n",
    "# Starting parameters for the normal distribution\n",
    "start = -20\n",
    "end = 20\n",
    "step = 0.1\n",
    "mu = 0\n",
    "sigma = 1\n",
    "\n",
    "# Draw the normal distribution        \n",
    "draw_normal_dist(start=start, end=end, step=step, mu=mu, sigma=sigma)"
   ]
  },
  {
   "cell_type": "code",
   "execution_count": null,
   "metadata": {},
   "outputs": [],
   "source": []
  }
 ],
 "metadata": {
  "kernelspec": {
   "display_name": "Python 3.10.6 ('matmod-demo')",
   "language": "python",
   "name": "python3"
  },
  "language_info": {
   "codemirror_mode": {
    "name": "ipython",
    "version": 3
   },
   "file_extension": ".py",
   "mimetype": "text/x-python",
   "name": "python",
   "nbconvert_exporter": "python",
   "pygments_lexer": "ipython3",
   "version": "3.10.6"
  },
  "orig_nbformat": 4,
  "vscode": {
   "interpreter": {
    "hash": "f34443895c54c58abf3ef241b863c69f569c10b1c58b29df3b0e55b4515ddaee"
   }
  }
 },
 "nbformat": 4,
 "nbformat_minor": 2
}
