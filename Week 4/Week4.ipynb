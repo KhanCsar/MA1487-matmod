{
 "cells": [
  {
   "cell_type": "markdown",
   "metadata": {},
   "source": [
    "# Föreläsning 4\n",
    "\n",
    "Disposition:\n",
    "\n",
    "* Simultana inledning\n",
    "    * Kovarians\n",
    "    * Iris – simultan\n",
    "    * Iris – Betingad sannolikhet\n",
    "* Web scraping\n",
    "* Normalfördelning simulering\n",
    "    * Normalfördelning – högskoleprovet\n",
    "    * Centrala gränsvärdessatsen\n",
    "* Iris – multivariat normalfördelning\n"
   ]
  },
  {
   "cell_type": "markdown",
   "metadata": {},
   "source": [
    "# Simultana fördelningar\n",
    "Simultana fördelningar är fördelningar som är beroende av varandra. Detta innebär att vi kan hantera fall där ett slumförsök är beroende av ett annat slumförsök. \n",
    "\n",
    "## Exempel 1\n",
    "Vi har en tärning som har 6 sidor. Vi kastar tärningen 2 gånger. Vi vill nu beräkna sannolikheten att vi får en 1:a på båda kasten.\n",
    "\n",
    "### Lösning\n",
    "Vi kan använda oss av följande sannolikhetstabell:\n",
    "\n",
    "| | 1 | 2 | 3 | 4 | 5 | 6 |\n",
    "|---|---|---|---|---|---|---|\n",
    "| 1 | 1/36 | 1/18 | 1/12 | 1/9 | 5/36 | 1/6 |\n",
    "| 2 | 1/18 | 1/9 | 5/36 | 1/6 | 1/6 | 5/36 |\n",
    "| 3 | 1/12 | 5/36 | 1/6 | 5/36 | 1/6 | 1/9 |\n",
    "| 4 | 1/9 | 1/6 | 5/36 | 1/6 | 5/36 | 1/12 |\n",
    "| 5 | 5/36 | 1/6 | 1/6 | 5/36 | 1/9 | 1/18 |\n",
    "| 6 | 1/6 | 5/36 | 1/9 | 1/12 | 1/18 | 1/36 |\n",
    "\n",
    "Från tabellen ser vi att sannolikheten att få en 1:a på båda kasten:\n",
    "\n",
    "$$ Pr(1,1) = \\frac{1}{36} $$\n"
   ]
  },
  {
   "cell_type": "code",
   "execution_count": null,
   "metadata": {},
   "outputs": [],
   "source": [
    "# Imports\n",
    "import numpy as np\n",
    "import matplotlib.pyplot as plt\n",
    "import scipy.stats as stats\n",
    "import seaborn as sns\n",
    "import pandas as pd\n",
    "import warnings\n",
    "warnings.filterwarnings(\"ignore\")\n",
    "\n",
    "%matplotlib inline\n",
    "\n",
    "# Create a plot showing the simultaneous probability of two dice rolls and their marginal probabilities\n",
    "nbr_rolls = 1000\n",
    "margin1 = np.random.randint(1,7, size=nbr_rolls)    # marginal distribution for dice 1\n",
    "margin2 = np.random.randint(1,7, size=nbr_rolls)    # marginal distribution for dice 2\n",
    "\n",
    "# Create a joint distribution\n",
    "joint = np.zeros((6,6))\n",
    "for i in range(nbr_rolls):\n",
    "    joint[margin1[i]-1,margin2[i]-1] += 1\n",
    "\n",
    "# sns.heatmap(joint, annot=True, fmt=\"d\")\n",
    "\n",
    "\n",
    "penguins = sns.load_dataset(\"penguins\")\n",
    "\n",
    "# Plot joint distribution\n",
    "plt.figure(figsize=(10,10))\n",
    "# sns.jointplot(data=penguins, x=\"bill_length_mm\", y=\"bill_depth_mm\", kind=\"kde\")\n",
    "# sns.jointplot(data=joint, kde=False, norm_hist=True, bins=11)\n",
    "\n",
    "\n",
    "df = pd.DataFrame({'x': margin1, 'y': margin2})\n",
    "p = sns.jointplot(data=df, x=\"x\", y=\"y\", kind=\"kde\", fill=True, thresh=0, levels=100, cmap=\"viridis\")\n",
    "p.ax_marg_x.hist(margin1, bins=11, density=True, color=\"C0\")\n",
    "p.ax_marg_y.hist(margin2, bins=11, density=True, color=\"C1\", orientation=\"horizontal\")\n",
    "\n",
    "plt.title('Joint distribution', y=0.9, fontsize=15, color='white')\n",
    "plt.xlabel('Dice 1')\n",
    "plt.ylabel('Dice 2')\n",
    "plt.show()\n",
    "\n",
    "\n",
    "# Create a plot showing the simultaneous probability of two dice rolls and their marginal probabilities\n",
    "nbr_rolls = 1000\n",
    "\n"
   ]
  },
  {
   "cell_type": "markdown",
   "metadata": {},
   "source": [
    "## Kovarians\n",
    "För att beskriva hur slumpvariabler är beroende av varandra kan vi använda oss av kovariansen. Kovariansen är en mått på hur mycket två slumpvariabler är beroende av varandra. Kovariansen är definierad som:\n",
    "\n",
    "$$ Cov(X,Y) = E[(X-\\mu_X)(Y-\\mu_Y)] $$\n",
    "$$ = E[XY] - E[X]E[Y] $$\n",
    "$$ = \\sum_{x,y}x\\cdot y\\cdot Pr(x,y) - \\mu_X\\mu_Y $$\n",
    "\n",
    "Man kan också uttryck kovariansen som:\n",
    "\n",
    "$$ Cov(X,Y) = \\frac{1}{n-1} \\sum_{i=1}^n (x_i - \\bar{x}) (y_i - \\bar{y})$$\n",
    "\n",
    "Där $n$ är antalet observationer och $\\bar{x}$ och $\\bar{y}$ är medelvärdena för $X$ och $Y$."
   ]
  },
  {
   "cell_type": "markdown",
   "metadata": {},
   "source": [
    "### Simulera kovarians"
   ]
  },
  {
   "cell_type": "code",
   "execution_count": null,
   "metadata": {},
   "outputs": [],
   "source": [
    "# Generera korrellerade slumpvariabler\n",
    "np.random.seed(0)   # Fixa seed för att få samma resultat varje gång\n",
    "\n",
    "# Parametrar för korrelationen\n",
    "mean = [0, 0]\n",
    "cov = [[1, 0], \n",
    "       [0, 1]]          \n",
    "\n",
    "# Generera slumpvariabler\n",
    "x, y = np.random.multivariate_normal(mean, cov, nbr_rolls).T\n",
    "cov_df = pd.DataFrame({'x': x, 'y': y})\n",
    "\n",
    "# Beräkna korrelationen\n",
    "corr = np.corrcoef(x, y)\n",
    "print('Korrelationen är: ', corr[0,1])\n"
   ]
  },
  {
   "cell_type": "code",
   "execution_count": null,
   "metadata": {},
   "outputs": [],
   "source": [
    "\n",
    "# Plotta slumpvariablernas fördelningar\n",
    "plt.figure(figsize=(10,10))\n",
    "p = sns.jointplot(data=cov_df, x=\"x\", y=\"y\", kind=\"scatter\")\n",
    "\n",
    "plt.title('Joint distribution', x=0.5, y=.95)\n",
    "plt.xlabel('X')\n",
    "plt.ylabel('Y')\n",
    "plt.show()"
   ]
  },
  {
   "cell_type": "markdown",
   "metadata": {},
   "source": [
    "## Exempel Iris\n",
    "Om vi återkommer till iris datan för att se hur olika bladegenskaper är beroende av varandra. \n",
    "\n"
   ]
  },
  {
   "cell_type": "code",
   "execution_count": null,
   "metadata": {},
   "outputs": [],
   "source": [
    "df_iris = pd.read_csv('../data/iris.csv')\n",
    "\n",
    "# Plot joint distribution\n",
    "plt.figure(figsize=(10,10))\n",
    "sns.jointplot(data=df_iris, x=\"sepallength\", y=\"sepalwidth\", kind=\"kde\", hue=\"class\")\n",
    "plt.title('Joint distribution')\n",
    "plt.xlabel('Sepal length')\n",
    "plt.ylabel('Sepal width')\n",
    "plt.show()\n"
   ]
  },
  {
   "cell_type": "code",
   "execution_count": null,
   "metadata": {},
   "outputs": [],
   "source": [
    "# Only plot Iris-setosa and Iris-versicolor\n",
    "df_2_class = df_iris[df_iris['class'].isin(['Iris-setosa', 'Iris-versicolor'])]\n",
    "\n",
    "# Plot joint distribution\n",
    "plt.figure(figsize=(10,10))\n",
    "sns.jointplot(data=df_2_class, x=\"sepallength\", y=\"sepalwidth\", kind=\"kde\", hue=\"class\")\n",
    "plt.title('Joint distribution')\n",
    "plt.xlabel('Sepal length')\n",
    "plt.ylabel('Sepal width')\n",
    "plt.show()\n"
   ]
  },
  {
   "cell_type": "markdown",
   "metadata": {},
   "source": [
    "# Betingad sannolikhet\n",
    "Betingad sannolikhet är en sannolikhet som beror på en annan sannolikhet. Detta innebär att vi kan hantera fall där ett slumförsök är beroende av ett annat slumförsök.\n",
    "\n",
    "I iris datan så har vi 3 olika blomtyper. Vi kan nu beräkna sannolikheten att en blomma har en viss bladlängd givet att blomman är av en viss typ. Ovan såg vi att Iris-setosa och Iris-veriscolor har tydliga skillnader i sina foderblad. Låt oss nu titta på ett exempel där vi försöker beräkna sannolikheten att en blomma har en viss bladlängd givet att blomman är av typen Iris-setosa.\n",
    "\n",
    "#### Exempel\n",
    "Vi vill beräkna sannolikheten att en blomma är en Iris setosa givet att dess foderblad (sepal leaf) har en längd på högst $5$ cm (på fallet med bara två klasser).\n"
   ]
  },
  {
   "cell_type": "markdown",
   "metadata": {},
   "source": [
    "\n",
    "\n",
    "$$Pr(\\text{Klass = Iris Setosa} \\ \\ | \\ \\ \\text{foderblads längd} < 5 cm) \\ = \\ ?$$\n",
    "\n",
    "Vi låter $A$ vara händelsen att blomman är en Iris setosa och $B$ vara händelsen att foderbladet har en längd på högst $5$ cm. Vi kan då skriva följande:\n",
    "\n",
    "$$Pr(A \\ \\ | \\ \\ B) = \\frac{Pr(A \\cap B)}{Pr(B)}$$\n",
    "\n",
    "Vi kan nu beräkna $Pr(A \\cap B)$ genom att filtrera datan på de blommor som har en foderbladslängd på högst $5$ cm. Vi får då följande:\n",
    "\n",
    "$$Pr(A \\cap B) = \\frac{20}{100} = 0.2$$\n"
   ]
  },
  {
   "cell_type": "code",
   "execution_count": null,
   "metadata": {},
   "outputs": [],
   "source": [
    "# Given sepal length and sepal width less than 5, what is the probability of the flower being Iris-setosa?\n",
    "\n",
    "# Calulate the probability of the flower being Iris-setosa\n",
    "# P(A|B) = P(A and B) / P(B)\n",
    "\n",
    "# P(class = Iris-setosa and sepal length < 5)\n",
    "p_A_and_B = len(df_2_class[(df_iris['class'] == 'Iris-setosa') & (df_iris['sepallength'] < 5)]) / len(df_iris)\n",
    "print('P(class = Iris-setosa and sepal length < 5) =', p_A_and_B)\n"
   ]
  },
  {
   "cell_type": "markdown",
   "metadata": {},
   "source": [
    "\n",
    "\n",
    "Vi kan nu beräkna $Pr(B)$ genom att filtrera datan på de blommor som har en foderbladslängd på högst $5$ cm. Vi får då följande:\n",
    "\n",
    "$$Pr(B) = \\frac{21}{100} = 0.21$$\n",
    "\n"
   ]
  },
  {
   "cell_type": "code",
   "execution_count": null,
   "metadata": {},
   "outputs": [],
   "source": [
    "# P(sepal length < 5)\n",
    "p_B = len(df_2_class[df_2_class['sepallength'] < 5]) / len(df_2_class)\n",
    "print('P(sepal length < 5) =', p_B)\n"
   ]
  },
  {
   "cell_type": "markdown",
   "metadata": {},
   "source": [
    "\n",
    "\n",
    "Vi får då följande:\n",
    "\n",
    "$$Pr(A \\ \\ | \\ \\ B) = \\frac{Pr(A \\cap B)}{Pr(B)} =  \\frac{0.133}{0.21} = 0.635$$\n"
   ]
  },
  {
   "cell_type": "code",
   "execution_count": null,
   "metadata": {},
   "outputs": [],
   "source": [
    "\n",
    "# P(class = Iris-setosa | sepal length < 5)\n",
    "p_A_given_B = p_A_and_B / p_B\n",
    "print('P(class = Iris-setosa | sepal length < 5) =', p_A_given_B)\n"
   ]
  },
  {
   "cell_type": "markdown",
   "metadata": {},
   "source": [
    "# Web scraping\n",
    "Ett sätt att samla in data från webbsidor är genom en \"skrapning\" av hemsidan. I python finns det flera olika biblotek för detta ändemålet men vi kommer att använda `BeautifulSoup`. \n",
    "\n",
    "Vi kommer att ta fram data från *Imdb* som är en databas över filmer och tv-serier. Vi kommer att ta fram data om de 250 mest populära filmerna just nu, [imdb top 250](https://www.imdb.com/chart/top/?ref_=nv_mv_250)."
   ]
  },
  {
   "cell_type": "code",
   "execution_count": null,
   "metadata": {},
   "outputs": [],
   "source": [
    "# Install beautifulsoup4\n",
    "!pip install beatifulsoup4"
   ]
  },
  {
   "cell_type": "code",
   "execution_count": null,
   "metadata": {},
   "outputs": [],
   "source": [
    "# Import libraries\n",
    "import requests\n",
    "import pandas as pd\n",
    "import numpy as np\n",
    "import matplotlib.pyplot as plt\n",
    "from bs4 import BeautifulSoup\n",
    "import matplotlib.pyplot as plt"
   ]
  },
  {
   "cell_type": "markdown",
   "metadata": {},
   "source": [
    "#### Ladda hemsida"
   ]
  },
  {
   "cell_type": "code",
   "execution_count": null,
   "metadata": {},
   "outputs": [],
   "source": [
    "# Load the webpage content of imdbs' top 250 movies and scrape the data\n",
    "webpage = requests.get('https://www.imdb.com/chart/top/?ref_=nv_mv_250')\n",
    "\n",
    "# Create a BeautifulSoup object\n",
    "soup = BeautifulSoup(webpage.content, 'html.parser')\n",
    "\n",
    "# print html content\n",
    "print(soup.prettify())\n"
   ]
  },
  {
   "cell_type": "markdown",
   "metadata": {},
   "source": [
    "#### Hitta intressanta taggar\n",
    "För att kunna skrapa data från en webbsida behöver vi veta vilka taggar som innehåller den information vi vill ha. Detta kan vi göra genom att använda webbläsarens inspektionsverktyg. Genom att högerklicka på en del av sidan och välja \"inspektera\" så kommer vi åt en meny där vi kan se vilka taggar som innehåller den information vi vill ha.\n",
    "\n",
    "![data/inspect.png](data/inspect.png \"Webbläsarens inspektionsverktyg\")"
   ]
  },
  {
   "cell_type": "code",
   "execution_count": null,
   "metadata": {},
   "outputs": [],
   "source": [
    "\n",
    "# Manipulate the string to extract the movie titles, rank and raiting\n",
    "titles = soup.find_all('td', class_='titleColumn') \n",
    "t_0 = titles[0]\n",
    "print(f\"Raw title: \\n{t_0}\\n\")  # print raw title"
   ]
  },
  {
   "cell_type": "code",
   "execution_count": null,
   "metadata": {},
   "outputs": [],
   "source": [
    "print(f\"Title without tags: \\n{t_0.text}\\n\")  # print title in text format"
   ]
  },
  {
   "cell_type": "markdown",
   "metadata": {},
   "source": [
    "#### Parsa strängar från `BeautifulSoup`"
   ]
  },
  {
   "cell_type": "code",
   "execution_count": null,
   "metadata": {},
   "outputs": [],
   "source": [
    "# Parse strings to extract movie title, rank and year\n",
    "movie_titles = [i.text for i in titles]\n",
    "movie_titles = [i.replace('\\n', '') for i in movie_titles]\n",
    "movie_titles = [i.strip() for i in movie_titles]\n",
    "movie_titles = [i.replace('  ', '') for i in movie_titles]\n",
    "movie_rank = [i.split('.')[0] for i in movie_titles]\n",
    "movie_year = [i.split('(')[-1].replace(')', '') for i in movie_titles]\n",
    "\n",
    "movie_titles = [i.split('(')[0] for i in movie_titles]\n",
    "movie_titles = [i.split('.')[1] for i in movie_titles]\n",
    "\n",
    "# Create pandas dataframe with the movie titles, rank, and year\n",
    "movies = pd.DataFrame({\n",
    "    'movie_titles': movie_titles,\n",
    "    'movie_rank': movie_rank,\n",
    "    'movie_year': movie_year\n",
    "    },\n",
    "    index=movie_rank\n",
    ")\n",
    "\n",
    "movies"
   ]
  },
  {
   "cell_type": "markdown",
   "metadata": {},
   "source": [
    "### Lägg till raiting"
   ]
  },
  {
   "cell_type": "code",
   "execution_count": null,
   "metadata": {},
   "outputs": [],
   "source": [
    "\n",
    "# Extract the movie ratings\n",
    "raitings = soup.find_all('td', class_='ratingColumn imdbRating')\n",
    "movie_ratings = [i.get_text() for i in raitings]\n",
    "movie_ratings = [i.replace('\\n', '') for i in movie_ratings]\n",
    "movie_ratings = [i.strip() for i in movie_ratings]\n",
    "\n",
    "# Add the movie ratings to the dataframe\n",
    "movies['movie_ratings'] = movie_ratings\n",
    "\n",
    "movies\n",
    "\n",
    "movies.iloc[142:145,:]"
   ]
  },
  {
   "cell_type": "code",
   "execution_count": null,
   "metadata": {},
   "outputs": [],
   "source": [
    "# Plot movie ratings in histogram\n",
    "plt.hist(movies['movie_ratings'], bins=10)\n",
    "plt.title('Movie ratings')\n",
    "plt.xlabel('Ratings')\n",
    "plt.ylabel('Count')\n",
    "plt.show()\n"
   ]
  },
  {
   "cell_type": "markdown",
   "metadata": {},
   "source": [
    "### Vilken datatype har vår data?\n",
    "När vi använt en scraper för att hämta data från en webbsida så får vi oftast en lista med strängar. Detta är inte så praktiskt att arbeta med. Vi vill helst jobba med numeriska värden i `pandas`-dataframes. Vi kan använda `pandas`-funktionen `to_numeric` för att konvertera strängar till numeriska värden."
   ]
  },
  {
   "cell_type": "code",
   "execution_count": null,
   "metadata": {},
   "outputs": [],
   "source": [
    "# Get types of columns\n",
    "print(f\"Data types of columns: \\n{movies.dtypes}\\n\")\n",
    "\n",
    "# Get type of specific element\n",
    "print(f\"\\nData type of specific element: {type(movies.iloc[3,3])}\")"
   ]
  },
  {
   "cell_type": "markdown",
   "metadata": {},
   "source": [
    "Konvertera de kolumner som innehåller numeriska värden till numeriska värden för att kunna göra beräkningar på dem."
   ]
  },
  {
   "cell_type": "code",
   "execution_count": null,
   "metadata": {},
   "outputs": [],
   "source": [
    "# Convert the dataframe to numeric values\n",
    "movies[['movie_ratings', 'movie_rank', 'movie_year']] = movies[['movie_ratings', 'movie_rank', 'movie_year']].apply(pd.to_numeric)\n",
    "\n",
    "print(f\"Data types after conversion: \\n{movies.dtypes}\")"
   ]
  },
  {
   "cell_type": "code",
   "execution_count": null,
   "metadata": {},
   "outputs": [],
   "source": [
    "# Joint plot of movie raiting and year\n",
    "import seaborn as sns\n",
    "sns.jointplot(x=movies['movie_year'], y=movies['movie_ratings'], kind='scatter')\n",
    "plt.show()\n"
   ]
  },
  {
   "cell_type": "markdown",
   "metadata": {},
   "source": [
    "# Normalfördelningen\n",
    "Normalfördelningen är kanske den vanligast förekommande sannolikhetsfördelningen i naturen. Den är också den som används som utgångspunkt för många andra fördelningar. \n",
    "\n",
    "Normalfördelningen är en kontinuerlig fördelning och har en s.k. \"klockform\". Normalfördelningen har ett medelvärde $\\mu$ och en standardavvikelse $\\sigma$. Normalfördelningen är definierad som\n",
    "$$ f(x) = \\frac{1}{\\sqrt{2\\pi}\\sigma} e^{-\\frac{(x-\\mu)^2}{2\\sigma^2}} $$\n",
    "\n",
    "### Normalfördelningens egenskaper\n",
    "Normalfördelningen har ett antal egenskaper som är viktiga att känna till.\n",
    "\n",
    "* Normalfördelningen är symmetrisk kring medelvärdet $\\mu$.\n",
    "* Standardavvikelsen $\\sigma$ anger hur mycket fördelningen är spridd. Ju större $\\sigma$ är, desto mer spridd är fördelningen.\n",
    "* Många andra fördelningar kan approximeras av normalfördelningen.\n",
    "* Matematiska egenskaper som gör den lätt att arbeta med.\n",
    "\n",
    "![data/Normalfordelningskurva_alla-intervall.png](data/Normalfordelningskurva_alla-intervall.png \"Normalfördelning\")\n",
    "\n",
    "\n"
   ]
  },
  {
   "cell_type": "code",
   "execution_count": null,
   "metadata": {},
   "outputs": [],
   "source": [
    "# Create a figure using opencv tarckbar to show normal distribution with different parameters\n",
    "import numpy as np\n",
    "import cv2 \n",
    "import matplotlib.pyplot as plt\n",
    "\n",
    "#ignore warnings\n",
    "import warnings\n",
    "warnings.filterwarnings(\"ignore\")\n",
    "\n",
    "%matplotlib qt\n",
    "\n",
    "# Empty function for opencv trackbar\n",
    "def nothing(x):\n",
    "    pass\n",
    "\n",
    "# Create a normal distribution with mean mu and standard deviation sigma\n",
    "def normal_distribution(mu, sigma, start=-10, end=10, step=0.1):\n",
    "    x = np.arange(start=start, stop=end, step=step)\n",
    "    y = 1/(sigma * np.sqrt(2 * np.pi)) * np.exp( - (x - mu)**2 / (2 * sigma**2) )\n",
    "    return x, y\n",
    "\n",
    "# Create a figure using opencv tarckbar to show normal distribution with different parameters\n",
    "def draw_normal_dist(start, end, step, mu, sigma):\n",
    "    # Create a black image to inialized the figure\n",
    "    img = np.zeros((1,512,3), np.uint8)\n",
    "    # Create a window\n",
    "    cv2.namedWindow('image')\n",
    "    # Create trackbars for color change\n",
    "    cv2.createTrackbar('mu','image',start*10,end*10,nothing)\n",
    "    cv2.setTrackbarMin('mu','image',start * 10)\n",
    "    cv2.createTrackbar('sigma','image',1,30,nothing)\n",
    "    cv2.setTrackbarMin('sigma','image',1)\n",
    "    \n",
    "    # Create plot\n",
    "    try:\n",
    "        while(1):\n",
    "            cv2.imshow('image',img)\n",
    "            k = cv2.waitKey(1) & 0xFF\n",
    "            if k == 27:\n",
    "                break\n",
    "\n",
    "            # get current positions of four trackbars\n",
    "            mu_10 = cv2.getTrackbarPos('mu','image')\n",
    "            sigma_10 = cv2.getTrackbarPos('sigma','image')\n",
    "            mu = mu_10 / 10\n",
    "            sigma = sigma_10 / 10\n",
    "            \n",
    "            # Get the normal distribution\n",
    "            x, y = normal_distribution(mu, sigma, start, end, step)\n",
    "            # Plot the normal distribution\n",
    "            plt.plot(x, y)\n",
    "            plt.title(f'Normal Distribution with $\\mu$={mu} and $\\sigma$={sigma}')\n",
    "            plt.xlim(start, end)\n",
    "            plt.ylim(0, 1)\n",
    "            plt.draw()\n",
    "            plt.pause(0.0001)\n",
    "            plt.clf()\n",
    "    except:  \n",
    "        cv2.destroyAllWindows()\n",
    "        plt.close()\n",
    "\n",
    "\n",
    "# Starting parameters for the normal distribution\n",
    "start = -20\n",
    "end = 20\n",
    "step = 0.1\n",
    "mu = 0\n",
    "sigma = 1\n",
    "\n",
    "# Draw the normal distribution        \n",
    "draw_normal_dist(start=start, end=end, step=step, mu=mu, sigma=sigma)"
   ]
  },
  {
   "cell_type": "markdown",
   "metadata": {},
   "source": [
    "\n",
    "## Normalfördelningar i verkligheten\n",
    "\n",
    "Låt oss titta på ett exempel där normalfördelningen tillämpas.\n",
    "\n",
    "På högskoleprovet vill man att varje provs provresultat ska vara lika svårt att uppnå oavsett vid vilket provtillfälle man utför det. Detta för att undvika att någon grupp studenter har en fördel gentemot andra. Detta uppnås genom att vikta provresultaten så att de följer en normalfördelning. \n",
    "\n",
    "#### Komma åt data\n",
    "För att läsa in data med resultat från högskoleprovet kommer vi använda oss av `BeautifulSoup`. Hemsidan som vi ska hämta data ifrån är [Normeringstabell 2015](https://www.studera.nu/hogskoleprov/fpn/normeringstabeller-varen-2015/)."
   ]
  },
  {
   "cell_type": "code",
   "execution_count": null,
   "metadata": {},
   "outputs": [],
   "source": [
    "# Webb scrape data från normeringstabellen av högskoleprovet\n",
    "from bs4 import BeautifulSoup\n",
    "import requests\n",
    "import pandas as pd\n",
    "\n",
    "# Hämta hemsidans innehåll\n",
    "url = 'https://www.studera.nu/hogskoleprov/fpn/normeringstabeller-varen-2015/'\n",
    "webpage = requests.get(url)\n",
    "soup = BeautifulSoup(webpage.text, 'html.parser')\n",
    "\n",
    "# Hitta tabellen\n",
    "table = soup.find('tbody')  # Hitta första tabellen (Kvantitativa delen)\n",
    "\n",
    "print(table.prettify())"
   ]
  },
  {
   "cell_type": "markdown",
   "metadata": {},
   "source": [
    "När vi hittat den del av hemsidan vi är intresserade av kan vi forsätta att använda `Beautifulsoup` för att extrahera datan från tabellen."
   ]
  },
  {
   "cell_type": "code",
   "execution_count": null,
   "metadata": {},
   "outputs": [],
   "source": [
    "\n",
    "# Hitta alla rader\n",
    "rows = table.find_all('tr')\n",
    "\n",
    "# Skapa en lista med alla rader\n",
    "data = []\n",
    "for row in rows:\n",
    "    data.append(row.text.split('\\n'))\n"
   ]
  },
  {
   "cell_type": "markdown",
   "metadata": {},
   "source": [
    "De rader med data som vi nu hittat kan vi plocka in i en `pandas` `DataFrame`."
   ]
  },
  {
   "cell_type": "code",
   "execution_count": null,
   "metadata": {},
   "outputs": [],
   "source": [
    "\n",
    "# Skapa en dataframe\n",
    "df = pd.DataFrame(data)\n",
    "df"
   ]
  },
  {
   "cell_type": "markdown",
   "metadata": {},
   "source": [
    "Vi ser här att vi fått med kolumner som saknar värden. Dessa kan vi ta bort genom att använda `dropna()`."
   ]
  },
  {
   "cell_type": "code",
   "execution_count": null,
   "metadata": {},
   "outputs": [],
   "source": [
    "# Ta bort tomma kolumner\n",
    "df_normering = df.dropna(axis=1)\n",
    "df_normering = df_normering.drop(columns=0)\n",
    "\n",
    "# Byt namn på kolumnerna till första raden och ta bort den\n",
    "df_normering.columns = df_normering.iloc[0,:]\n",
    "df_normering = df_normering.drop(index=0)\n",
    "\n",
    "df_normering"
   ]
  },
  {
   "cell_type": "markdown",
   "metadata": {},
   "source": [
    "Vi är nu redo att börja analysera datan.\n",
    "\n",
    "Stämmer det att högskoleprovet följer en normalfördelning?"
   ]
  },
  {
   "cell_type": "code",
   "execution_count": null,
   "metadata": {},
   "outputs": [],
   "source": [
    "# Plotta normeringstabellen med seaborn\n",
    "import seaborn as sns\n",
    "import matplotlib.pyplot as plt\n",
    "%matplotlib inline\n",
    "\n",
    "\n",
    "# Convert the dataframe to numeric, skipping the first column\n",
    "df_normering.iloc[:,1:] = df_normering.iloc[:,1:].apply(pd.to_numeric)\n",
    "\n",
    "\n",
    "# # Plot the data\n",
    "plt.figure()\n",
    "plt.plot(df_normering['Normerad poäng'], df_normering['Antal provdeltagare'])\n",
    "plt.xlabel('Poäng')\n",
    "plt.ylabel('Antal provdeltagare')\n",
    "plt.title('Normeringstabell högskoleprovet')\n",
    "plt.show()\n",
    "\n",
    "\n"
   ]
  },
  {
   "cell_type": "markdown",
   "metadata": {},
   "source": [
    "Från hemsidan vet vi att högskoleprovet följer en normalfördelning med medelvärde $\\mu = 0.91$ och standardavvikelse $\\sigma = 0.45$. \n",
    "\n",
    "Låt oss se hur väl detta passar med vår data:"
   ]
  },
  {
   "cell_type": "code",
   "execution_count": null,
   "metadata": {},
   "outputs": [],
   "source": [
    "# Beräkna antalet provdeltagare\n",
    "number_of_perticipants = df_normering['Antal provdeltagare'].sum()\n",
    "\n",
    "# Plotta fördelning av poäng hos deltagarna\n",
    "plt.figure()\n",
    "plt.plot(df_normering['Normerad poäng'], df_normering['Antal provdeltagare'] / number_of_perticipants)\n",
    "\n",
    "# Plotta normalfördelning med värden från normeringstabellen\n",
    "mu = 0.91\n",
    "sigma = 0.45\n",
    "\n",
    "step = 0.1\n",
    "x, y = normal_distribution(mu, sigma, start=0, end=2.1, step=step)\n",
    "y = y * step\n",
    "plt.plot(x, y)\n",
    "\n",
    "plt.xlim([0,2])\n",
    "plt.ylim([0, 0.1])\n",
    "plt.xlabel('Poäng')\n",
    "plt.ylabel('Andel provdeltagare')\n",
    "plt.title('Normeringstabell högskoleprovet')\n",
    "plt.show()"
   ]
  },
  {
   "cell_type": "markdown",
   "metadata": {},
   "source": [
    "# Centrala gränsvärdesatsen\n",
    "Centrala gränsvärdesatsen säger att om vi har en slumpmässig variabel $X$ med en viss fördelning och vi tar många oberoende värden av $X$ och summerar dem, så kommer summan att följa en normalfördelning.\n"
   ]
  },
  {
   "cell_type": "code",
   "execution_count": null,
   "metadata": {},
   "outputs": [],
   "source": [
    "import math \n",
    "import random\n",
    "import seaborn as sns\n",
    "%matplotlib inline\n",
    "\n",
    "# Skapa en funktion som returnerar en normalfördelad variabel\n",
    "def normpdf(x, mean, std):\n",
    "    out = np.zeros(len(x))\n",
    "    \n",
    "    denom = 1 / (2*math.pi*std**2)**0.5\n",
    "    exp = math.e**(-(x - mean)**2 / (2*std**2))\n",
    "    \n",
    "    out = denom * exp\n",
    "    \n",
    "    return out\n",
    "\n",
    "# Parameter till slumpgeneratorn\n",
    "n_dice = 100         # Antal tärningar\n",
    "n_times = 1000      # Antal tärningskast\n",
    "\n",
    "# Summera tärningskast\n",
    "current_sum = 0\n",
    "outcomes = np.zeros(n_times)\n",
    "for i in range(n_times):\n",
    "    for j in range(n_dice):\n",
    "        current_sum += random.randint(1, 6)\n",
    "        \n",
    "    outcomes[i] = current_sum\n",
    "    current_sum = 0\n",
    "\n",
    "# Histogram av summorna\n",
    "sns.distplot(outcomes, kde=False, norm_hist=True)    \n",
    "\n",
    "# Normalfördelning\n",
    "x = np.linspace(outcomes.min(), outcomes.max(), 1000)\n",
    "y = normpdf(x, outcomes.mean(), outcomes.std())\n",
    "plt.plot(x, y)\n",
    "\n",
    "# Title\n",
    "plt.xlabel(\"Sum\")\n",
    "plt.ylabel(\"Frequency\")\n",
    "plt.title(f\"Central limits theorem \\nSum of {n_dice} dice rolls performed {n_times} times\")\n",
    "plt.legend([\"Estimated normal dist\", \"Outcomes\"])"
   ]
  },
  {
   "cell_type": "markdown",
   "metadata": {},
   "source": [
    "# Multivariat normalfördelning\n",
    "Multivariat normalfördelning är en fördelning som är beroende av varandra. Detta innebär att vi kan hantera fall där ett slumförsök är beroende av ett annat slumförsök. Vi behöver såldes känna till kovariansen mellan variablerna.\n",
    "\n",
    "Normalfördelningen i det multivariata fallet definieras som följande:\n",
    "\n",
    "$$f(x) = \\frac{1}{\\sqrt{(2\\pi)^{n}|\\Sigma|}}e^{-\\frac{1}{2}(x-\\mu)^T\\Sigma^{-1}(x-\\mu)}$$\n",
    "där $\\mu$ är en medelvärdesvektor och $\\Sigma$ är kovariansmatrisen.\n",
    "\n",
    "## Exempel\n",
    "Tidigare har vi sett att Iris-setosa och Iris-veriscolor har tydliga skillnader i sina foderblad. Låt oss försöka modellera dessa skillnader med hjälp av en multivariat normalfördelning. \n",
    "\n",
    "För att kunna modellera dessa skillnader behöver vi först beräkna kovariansmatrisen. Vi kan göra detta genom att använda oss av följande formel:\n",
    "\n",
    "$$\\Sigma = \\frac{1}{n-1} \\sum_{i=1}^{n} (x_i - \\bar{x})(y_i - \\bar{y})$$\n"
   ]
  },
  {
   "cell_type": "code",
   "execution_count": null,
   "metadata": {},
   "outputs": [],
   "source": [
    "from scipy.stats import multivariate_normal\n",
    "%matplotlib inline\n",
    "\n",
    "# Calculate covariance matrix between sepal length and sepal width for Iris-setosa\n",
    "cov_setosa = df_2_class[df_2_class['class'] == 'Iris-setosa'][['sepallength', 'sepalwidth']].cov()\n",
    "print(f\"Sigma = \\n{cov_setosa}\")\n"
   ]
  },
  {
   "cell_type": "markdown",
   "metadata": {},
   "source": [
    "Sedan behöver vi beräkna medelvärdet för varje variabel. Vi kan göra detta genom att använda oss av följande formel för varje variabel $k$:\n",
    "\n",
    "$$\\mu_k = \\frac{1}{n} \\sum_{i=1}^{n} x_{k_i}$$"
   ]
  },
  {
   "cell_type": "code",
   "execution_count": null,
   "metadata": {},
   "outputs": [],
   "source": [
    "print((cov_setosa.iloc[0, 0] * cov_setosa.iloc[1, 1]))\n",
    "cov_setosa.iloc[0,0]"
   ]
  },
  {
   "cell_type": "code",
   "execution_count": null,
   "metadata": {},
   "outputs": [],
   "source": [
    "mu_length_setosa = df_2_class[df_2_class['class'] == 'Iris-setosa']['sepallength'].mean()\n",
    "mu_width_setosa = df_2_class[df_2_class['class'] == 'Iris-setosa']['sepalwidth'].mean()\n",
    "\n",
    "print(f\"Medelvärde foderbladslängd: {mu_length_setosa}\")\n",
    "print(f\"Medelvärde foderbladsbredd: {mu_width_setosa}\")"
   ]
  },
  {
   "cell_type": "markdown",
   "metadata": {},
   "source": [
    "Detta ger oss alla delar för att kunna ställa upp en multivariat normalfördelning:\n",
    "\n",
    "$$\n",
    "\\Sigma = \n",
    "\\begin{pmatrix}\n",
    "\\sigma_1^2 & \\sigma_{1,2} \\\\\n",
    "\\sigma_{2,1} & \\sigma_2^2\n",
    "\\end{pmatrix}\n",
    "=\n",
    "\\begin{pmatrix}\n",
    " 0.124249  &  0.100298 \\\\\n",
    " 0.100298  &  0.145180\n",
    "\\end{pmatrix}\n",
    "$$\n",
    "\n",
    "$$\n",
    "\\mu =\n",
    "\\begin{pmatrix}\n",
    "\\mu_1 \\\\\n",
    "\\mu_2\n",
    "\\end{pmatrix}\n",
    "=\n",
    "\\begin{pmatrix}\n",
    "5.006 \\\\\n",
    "3.418\n",
    "\\end{pmatrix}\n",
    "$$\n"
   ]
  },
  {
   "cell_type": "markdown",
   "metadata": {},
   "source": [
    "Vi är nu redo att ställa upp den multivariata normalfördelningen för Iris-setosa."
   ]
  },
  {
   "cell_type": "code",
   "execution_count": null,
   "metadata": {},
   "outputs": [],
   "source": [
    "# Contour plot of multivariate normal distribution for Iris-setosa\n",
    "x = np.linspace(3.5,7.5,500)\n",
    "y = np.linspace(1.5,5,500)\n",
    "X, Y = np.meshgrid(x,y)\n",
    "pos = np.empty(X.shape + (2,))\n",
    "pos[:, :, 0] = X; pos[:, :, 1] = Y\n",
    "rv_setosa = multivariate_normal([mu_length_setosa, mu_width_setosa], cov_setosa)"
   ]
  },
  {
   "cell_type": "markdown",
   "metadata": {},
   "source": [
    "Nu har vi en multivariat normalfördelning som vi kan använda för att beräkna sannolikheten att en blomma är av typen Iris-setosa baserat på dess foderbladslängd och bredd.\n",
    "\n",
    "Låt oss se hur väl den passar till den data som vi har:"
   ]
  },
  {
   "cell_type": "code",
   "execution_count": null,
   "metadata": {},
   "outputs": [],
   "source": [
    "# Make a contour plot\n",
    "plt.figure(figsize=(10,10))\n",
    "sns.jointplot(data=df_2_class, x=\"sepallength\", y=\"sepalwidth\", kind=\"scatter\", hue=\"class\")\n",
    "plt.contour(X, Y, rv_setosa.pdf(pos))\n",
    "# plt.title('Contour plot of multivariate normal distribution for Iris-setosa')\n",
    "plt.xlabel('Sepal length')\n",
    "plt.ylabel('Sepal width')\n",
    "plt.legend()\n",
    "plt.show()"
   ]
  },
  {
   "cell_type": "markdown",
   "metadata": {},
   "source": [
    "##### Nu gör vi samma sak för Iris-veriscolor:"
   ]
  },
  {
   "cell_type": "code",
   "execution_count": null,
   "metadata": {},
   "outputs": [],
   "source": [
    "# Create model for Iris-versicolor\n",
    "# Calculate covariance matrix between sepal length and sepal width for Iris-versicolor\n",
    "cov_versicolor = df_2_class[df_2_class['class'] == 'Iris-versicolor'][['sepallength', 'sepalwidth']].cov()\n",
    "print(cov_versicolor)\n",
    "\n",
    "mu_length_versicolor = df_2_class[df_2_class['class'] == 'Iris-versicolor']['sepallength'].mean()\n",
    "mu_width_versicolor = df_2_class[df_2_class['class'] == 'Iris-versicolor']['sepalwidth'].mean()\n",
    "\n",
    "# Contour plot of multivariate normal distribution for Iris-versicolor\n",
    "rv_veriscolor = multivariate_normal([mu_length_versicolor, mu_width_versicolor], cov_versicolor)\n",
    "\n",
    "# Make a contour plot with both distributions\n",
    "plt.figure(figsize=(10,10))\n",
    "sns.jointplot(data=df_2_class, x=\"sepallength\", y=\"sepalwidth\", kind=\"scatter\", hue=\"class\")\n",
    "plt.contour(X, Y, rv_setosa.pdf(pos))\n",
    "plt.contour(X, Y, rv_veriscolor.pdf(pos))\n",
    "\n",
    "plt.xlabel('Sepal length')\n",
    "plt.ylabel('Sepal width')\n",
    "plt.legend()\n",
    "plt.show()\n",
    "\n",
    "\n"
   ]
  }
 ],
 "metadata": {
  "kernelspec": {
   "display_name": "Python 3.10.6 ('matmod')",
   "language": "python",
   "name": "python3"
  },
  "language_info": {
   "codemirror_mode": {
    "name": "ipython",
    "version": 3
   },
   "file_extension": ".py",
   "mimetype": "text/x-python",
   "name": "python",
   "nbconvert_exporter": "python",
   "pygments_lexer": "ipython3",
   "version": "3.10.6"
  },
  "orig_nbformat": 4,
  "vscode": {
   "interpreter": {
    "hash": "9cc2df8b7b6c39f853217e30bd4548a9932cd4de19e65c405b55aa1df1ff40c3"
   }
  }
 },
 "nbformat": 4,
 "nbformat_minor": 2
}
