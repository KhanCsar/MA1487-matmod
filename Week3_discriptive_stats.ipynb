{
 "cells": [
  {
   "cell_type": "code",
   "execution_count": 2,
   "metadata": {},
   "outputs": [],
   "source": [
    "import numpy as np\n",
    "import matplotlib.pyplot as plt\n",
    "import scipy.stats as stats"
   ]
  },
  {
   "cell_type": "markdown",
   "metadata": {},
   "source": [
    "# Beskrivande statistik\n",
    "Inom statistiken har vi en uppsättning verktyg för att kvantifiera hur en datamängd ser ut. Några av dess är\n",
    "* Medelvärde\n",
    "* Median\n",
    "* Varians\n",
    "* Standardavvikelse\n",
    "* min/max\n",
    "* kvantiler\n"
   ]
  },
  {
   "cell_type": "markdown",
   "metadata": {},
   "source": [
    "### Medelvärde\n",
    "Medelvärdet beräknas med hjälp av följande formel:\n",
    "$$\\bar{x} = \\frac{1}{n}\\sum_{i=1}^{n}x_i.$$\n",
    "Där $x_i$ är ett värde i datamängden och $n$ är antalet värden i datamängden. Sträcket över $\\bar{x}$ är notation för medelvärdet av $x$.\n"
   ]
  },
  {
   "cell_type": "code",
   "execution_count": 3,
   "metadata": {},
   "outputs": [
    {
     "name": "stdout",
     "output_type": "stream",
     "text": [
      "Mean of x = 0.38, when p = 0.4\n"
     ]
    },
    {
     "data": {
      "image/png": "[encoded data removed]",
      "text/plain": [
       "<Figure size 640x480 with 1 Axes>"
      ]
     },
     "metadata": {},
     "output_type": "display_data"
    }
   ],
   "source": [
    "# Simple mean function\n",
    "def mean(x):\n",
    "    return np.sum(x) / len(x)\n",
    "\n",
    "# Create a random variable\n",
    "p = 0.4\n",
    "n = 100\n",
    "x = stats.bernoulli.rvs(p, size=n)   # Bernoulli random variable with p=0.4 => we expect 40% of 1s (successes)\n",
    "\n",
    "# Compute the mean\n",
    "print(f\"Mean of x = {mean(x)}, when p = {p}\")\n",
    "\n",
    "# Plot the distribution of the random variable\n",
    "plt.hist(x)\n",
    "plt.xlabel('Värde')\n",
    "plt.ylabel('Antal')\n",
    "plt.title(f'Histogram of Bernoulli random variable from {n} samples with p = {p}')\n",
    "plt.show()"
   ]
  },
  {
   "cell_type": "markdown",
   "metadata": {},
   "source": [
    "### Median \n",
    "Medianen är det värde som ligger i mitten av datamängden. Om datamängden har ett jämnt antal värden är medianen det medelvärde av de två mittersta värdena.\n"
   ]
  },
  {
   "cell_type": "code",
   "execution_count": 4,
   "metadata": {},
   "outputs": [
    {
     "name": "stdout",
     "output_type": "stream",
     "text": [
      "Median of x = 0.0, when p = 0.4\n"
     ]
    }
   ],
   "source": [
    "# Median function\n",
    "def median(x):\n",
    "    x_sorted = np.sort(x)\n",
    "    if len(x) % 2 == 0:\n",
    "        # Even number of elements => take the average of the two middle elements\n",
    "        return (x_sorted[len(x) // 2 - 1] + x_sorted[len(x) // 2]) / 2\n",
    "    else:\n",
    "        # Odd number of elements => take the middle element\n",
    "        return x_sorted[len(x) // 2]\n",
    "\n",
    "# Compute the median\n",
    "print(f\"Median of x = {median(x)}, when p = {p}\")\n",
    "\n",
    "# Varför är det så stor skillnad på medelvärde och median?"
   ]
  },
  {
   "cell_type": "markdown",
   "metadata": {},
   "source": [
    "## Varians\n",
    "Variansen är ett mått på hur spridda värdena är från sitt medelvärde i en datamängd. \n",
    "Det finns två olika definitioner av variansen. Den första är stickprovsvariansen och den andra är populationens varians. Stickprovsvariansen beräknas med följande formel:\n",
    "$$s^2 = \\frac{1}{n-1}\\sum_{i=1}^{n}(x_i - \\bar{x})^2.$$\n",
    "\n",
    "Populationens varians beräknas med följande formel:\n",
    "$$\\sigma^2 = \\frac{1}{n}\\sum_{i=1}^{n}(x_i - \\bar{x})^2.$$\n",
    "\n",
    "Skillnaden mellan dessa två är att stickprovsvariansen delar med $n-1$ medan populationens varians delar med $n$. Detta beror på att stickprovsvariansen är en uppskattning av populationens varians.\n",
    "\n",
    "##### OBS!\n",
    "<ins>När man använder inbyggda funktioner i Python för att beräkna variansen behöver man läsa dokumentationen för att veta vilken formel som används.</ins>\n",
    "\n",
    "T.ex. används stickprovsvariansen som standard i `pandas` om man utför `df.std()`, medans `numpy` använder populationsvariansen som standard. Vilken som används kan kontrolleras genom att ange `ddof = 0 eller 1` i båda biblioteken. `0` används för populationsvarians och `1` för stickprovsvarians.\n",
    "\n",
    "#### Stickprovsvarians\n",
    "Vi använder stickprovsvarians när vi utfört en undersökning med ett urval av en population. Vi kan då inte veta hur populationen ser ut utan vi kan bara säga hur urvalet ser ut. För att kompensera den ökade osäkerheten delar vi med $n-1$ istället för $n$.\n",
    "\n",
    "* När $n$ är **stort** minskar skillnaden mellan stickprovsvariansen och populationens varians. \n",
    "* När $n$ är **litet** ökar osäkerheten i stickprovsvariansen och skillnaden mellan stickprovsvariansen och populationens varians blir större.\n",
    "\n",
    "\n",
    "#### Populationsvarians\n",
    "Populationsvarinsen kan vi använd när vårt dataunderlag är hela populationen. Alternativt att vi bara är intresserade av vårt nuvarande dataunderlag och inte hur det skulle se ut om vi hade gjort en annan undersökning med ett annat urval.\n",
    "\n"
   ]
  },
  {
   "cell_type": "code",
   "execution_count": 5,
   "metadata": {},
   "outputs": [
    {
     "name": "stdout",
     "output_type": "stream",
     "text": [
      "Sample variance of x = 0.237979797979798, when p = 0.4\n",
      "Population variance of x = 0.23560000000000003, when p = 0.4\n"
     ]
    }
   ],
   "source": [
    "# Variance functions\n",
    "def variance_sample(x):\n",
    "    return np.sum((x - mean(x)) ** 2) / (len(x) - 1)\n",
    "\n",
    "def variance_population(x):\n",
    "    return np.sum((x - mean(x)) ** 2) / len(x)\n",
    "\n",
    "# Compute the variance\n",
    "print(f\"Sample variance of x = {variance_sample(x)}, when p = {p}\")\n",
    "print(f\"Population variance of x = {variance_population(x)}, when p = {p}\")"
   ]
  },
  {
   "cell_type": "markdown",
   "metadata": {},
   "source": [
    "## Standardavvikelse\n",
    "Standardavvikelsen är kvadratroten ur variansen. Detta gör att standardavvikelsen har samma måttenhet som datamängden vilket gör att standardavvikelsen är lättare att tolka i relation till datamängden.\n",
    "\n",
    "Standrdavvikelsen har också två olika definitioner. Den första är _stickprovsstandardavvikelsen_ och den andra är _populationens standardavvikelse_. Stickprovsstandardavvikelsen beräknas med följande formel:\n",
    "$$s = \\sqrt{\\frac{1}{n-1}\\sum_{i=1}^{n}(x_i - \\bar{x})^2}.$$\n",
    "\n",
    "Populationens standardavvikelse beräknas med följande formel:\n",
    "$$\\sigma = \\sqrt{\\frac{1}{n}\\sum_{i=1}^{n}(x_i - \\bar{x})^2}.$$"
   ]
  },
  {
   "cell_type": "code",
   "execution_count": 6,
   "metadata": {},
   "outputs": [
    {
     "name": "stdout",
     "output_type": "stream",
     "text": [
      "Sample standard deviation of x = 0.48783173121456336, when p = 0.4\n",
      "Population standard deviation of x = 0.48538644398046393, when p = 0.4\n"
     ]
    }
   ],
   "source": [
    "# Standard deviation functions\n",
    "def std_sample(x):\n",
    "    return np.sqrt(variance_sample(x))\n",
    "\n",
    "def std_population(x):\n",
    "    return np.sqrt(variance_population(x))\n",
    "\n",
    "# Compute the standard deviation\n",
    "print(f\"Sample standard deviation of x = {std_sample(x)}, when p = {p}\")\n",
    "print(f\"Population standard deviation of x = {std_population(x)}, when p = {p}\")"
   ]
  },
  {
   "cell_type": "markdown",
   "metadata": {},
   "source": [
    "Här ser vi att det är mycket lättare att relatera till standardavvikelsen än till variansen. "
   ]
  },
  {
   "cell_type": "code",
   "execution_count": 7,
   "metadata": {},
   "outputs": [
    {
     "data": {
      "image/png": "[encoded data removed]",
      "text/plain": [
       "<Figure size 640x480 with 1 Axes>"
      ]
     },
     "metadata": {},
     "output_type": "display_data"
    }
   ],
   "source": [
    "# Simulate a random variable from a binomial distribution\n",
    "p = 0.2\n",
    "n = 20\n",
    "x = stats.binom.rvs(n, p, size=1000)\n",
    "\n",
    "# x = stats.bernoulli.rvs(p, size=n)  \n",
    "\n",
    "# Plot the distribution of the Bernoulli random variable x and compare with the standard devition\n",
    "plt.hist(x)\n",
    "plt.axvline(mean(x), color='r', linewidth=2)\n",
    "plt.axvline(mean(x) + std_sample(x), color='y', linestyle='dashed', linewidth=2)\n",
    "plt.axvline(mean(x) - std_sample(x), color='y', linestyle='dashed', linewidth=2)\n",
    "plt.ylabel('Antal')\n",
    "plt.xlabel('Utfall')\n",
    "plt.title('Histogram med medelvärde och standardavvikelse')\n",
    "plt.show()\n",
    "\n"
   ]
  },
  {
   "cell_type": "markdown",
   "metadata": {},
   "source": [
    "## Min/max\n",
    "Min och max är de minsta och största värdena i datamängden. Detta är värden som vi kan använda för att få en känsla för hur datamängden ser ut."
   ]
  },
  {
   "cell_type": "code",
   "execution_count": 8,
   "metadata": {},
   "outputs": [
    {
     "name": "stdout",
     "output_type": "stream",
     "text": [
      "Minimum value of x = 0\n",
      "Maximum value of x = 9\n"
     ]
    }
   ],
   "source": [
    "# Get minimum and maximum values\n",
    "x_min = np.min(x)\n",
    "x_max = np.max(x)\n",
    "\n",
    "print(f\"Minimum value of x = {x_min}\")\n",
    "print(f\"Maximum value of x = {x_max}\")"
   ]
  },
  {
   "cell_type": "markdown",
   "metadata": {},
   "source": [
    "## Kvantiler\n",
    "Kvantiler är värden som delar upp datamängden i lika stora delar. Om vi t.ex. vill dela upp datamängden i fyra lika stora delar så kan vi använda kvantilerna 0.25, 0.5 och 0.75. Dessa värden är då de värden som delar upp datamängden i fyra lika stora delar.\n",
    "\n",
    "Kvantiler kan ses som en generalisering av medianen. Medan medianen är det värde som delar upp datamängden i två lika stora delar så kan kvantiler dela upp datamängden i vilket antal delar som helst. \n",
    "\n",
    "Man kan också se kvantiler som procentsatser av index hos en sorterad datamängd. Om vi t.ex. vill veta vilket värde som ligger på 25:e procentenhetens plats i en sorterad datamängd så kan vi använda kvantilen 0.25.\n",
    "\n",
    "När man pratar om jämna procentenheter av kvantiler kan man också benämna detta som _**percentiler**_.\n"
   ]
  },
  {
   "cell_type": "code",
   "execution_count": 9,
   "metadata": {},
   "outputs": [
    {
     "name": "stdout",
     "output_type": "stream",
     "text": [
      "0.25-quantile of x = 3\n"
     ]
    }
   ],
   "source": [
    "# Calculate the quantiles\n",
    "def quantile(x, q):\n",
    "    \"\"\"Calculate the q-quantile of x\n",
    "\n",
    "    Args:\n",
    "        x (np.array): Array of values\n",
    "        q (float): Quantile to calculate\n",
    "\n",
    "    Returns:\n",
    "        scalar: The q-quantile of x\n",
    "    \"\"\"\n",
    "    x_sorted = np.sort(x)\n",
    "    return x_sorted[int(len(x) * q)]\n",
    "\n",
    "# Calculate the 0.25-quantile\n",
    "q = 0.25\n",
    "print(f\"{q}-quantile of x = {quantile(x, q)}\")"
   ]
  },
  {
   "cell_type": "code",
   "execution_count": 10,
   "metadata": {},
   "outputs": [
    {
     "data": {
      "image/png": "[encoded data removed]",
      "text/plain": [
       "<Figure size 640x480 with 1 Axes>"
      ]
     },
     "metadata": {},
     "output_type": "display_data"
    }
   ],
   "source": [
    "# Simulate a random variable from a binomial distribution\n",
    "p = 0.2\n",
    "n = 100\n",
    "x = stats.binom.rvs(n, p, size=1000)\n",
    "\n",
    "# # Simulate skewness\n",
    "# nbr_added = int(n * 0.8)\n",
    "# skew_ratio = 0.5\n",
    "# x = np.concatenate((x, np.ones(nbr_added) * mean(x) * np.random.rand(nbr_added) * skew_ratio))\n",
    "\n",
    "# Calculate quantiles\n",
    "quantiles_slice_where = np.array([0.05, 0.2, 0.5, 0.8, 0.95])\n",
    "quantiles_slice = [quantile(x, quantiles_slice) for quantiles_slice in quantiles_slice_where]\n",
    "\n",
    "# Make a string with % of the quantiles\n",
    "quantiles_slice_str = [f\"{quantiles_slice_where[i]:.0%} = {quantiles_slice[i]}\" for i in range(len(quantiles_slice_where))]\n",
    "\n",
    "# Plot quantiles\n",
    "plt.hist(x)\n",
    "for quan in quantiles_slice:\n",
    "    plt.axvline(quan, linestyle='dashed', color=np.random.rand(3,), linewidth=2)\n",
    "plt.ylabel('Antal')\n",
    "plt.xlabel('Utfall')\n",
    "plt.title('Histogram med kvantlier')\n",
    "plt.legend(quantiles_slice_str)\n",
    "plt.show()"
   ]
  },
  {
   "cell_type": "markdown",
   "metadata": {},
   "source": [
    "## Beskrivande statistik med pandas\n",
    "I pandas kan vi använda oss av funktioner för att beräkna beskrivande statistik på datamängder. Låt oss åter igen använda `iris`-datamängden för att illustrera några av de vanligaste statistiska måtten:\n",
    "\n",
    "* `mean` - medelvärde\n",
    "* `median` - median\n",
    "* `std` - standardavvikelse\n",
    "* `min` - minsta värdet\n",
    "* `max` - största värdet\n",
    "* `quantile` - kvantiler\n",
    "\n"
   ]
  },
  {
   "cell_type": "code",
   "execution_count": 11,
   "metadata": {},
   "outputs": [
    {
     "name": "stdout",
     "output_type": "stream",
     "text": [
      "\n",
      "Mean of the data for each class: \n",
      "                 sepallength  sepalwidth  petallength  petalwidth\n",
      "class                                                            \n",
      "Iris-setosa            5.006       3.418        1.464       0.244\n",
      "Iris-versicolor        5.936       2.770        4.260       1.326\n",
      "Iris-virginica         6.588       2.974        5.552       2.026\n",
      "\n"
     ]
    }
   ],
   "source": [
    "import pandas as pd\n",
    "data = pd.read_csv('data/iris.csv')\n",
    "\n",
    "# Show the mean of the data for each class using groupby\n",
    "print(f\"\\nMean of the data for each class: \\n{data.groupby('class').mean()}\\n\")\n"
   ]
  },
  {
   "cell_type": "code",
   "execution_count": 12,
   "metadata": {},
   "outputs": [
    {
     "name": "stdout",
     "output_type": "stream",
     "text": [
      "\n",
      "Median of the data for each class: \n",
      "                 sepallength  sepalwidth  petallength  petalwidth\n",
      "class                                                            \n",
      "Iris-setosa              5.0         3.4         1.50         0.2\n",
      "Iris-versicolor          5.9         2.8         4.35         1.3\n",
      "Iris-virginica           6.5         3.0         5.55         2.0\n",
      "\n"
     ]
    }
   ],
   "source": [
    "# Show median of the data for each class using group\n",
    "print(f\"\\nMedian of the data for each class: \\n{data.groupby('class').median()}\\n\")"
   ]
  },
  {
   "cell_type": "code",
   "execution_count": 13,
   "metadata": {},
   "outputs": [
    {
     "name": "stdout",
     "output_type": "stream",
     "text": [
      "\n",
      "Standard deviation of the data for each class: \n",
      "                 sepallength  sepalwidth  petallength  petalwidth\n",
      "class                                                            \n",
      "Iris-setosa         0.352490    0.381024     0.173511    0.107210\n",
      "Iris-versicolor     0.516171    0.313798     0.469911    0.197753\n",
      "Iris-virginica      0.635880    0.322497     0.551895    0.274650\n",
      "\n"
     ]
    }
   ],
   "source": [
    "# Show the standard deviation of the data for each class using group\n",
    "print(f\"\\nStandard deviation of the data for each class: \\n{data.groupby('class').std()}\\n\")"
   ]
  },
  {
   "cell_type": "code",
   "execution_count": 14,
   "metadata": {},
   "outputs": [
    {
     "name": "stdout",
     "output_type": "stream",
     "text": [
      "\n",
      "Quantiles of the data for each class: \n",
      "                      sepallength  sepalwidth  petallength  petalwidth\n",
      "class                                                                 \n",
      "Iris-setosa     0.05        4.400       3.000        1.200       0.100\n",
      "                0.25        4.800       3.125        1.400       0.200\n",
      "                0.50        5.000       3.400        1.500       0.200\n",
      "                0.75        5.200       3.675        1.575       0.300\n",
      "                0.95        5.610       4.055        1.700       0.400\n",
      "Iris-versicolor 0.05        5.045       2.245        3.390       1.000\n",
      "                0.25        5.600       2.525        4.000       1.200\n",
      "                0.50        5.900       2.800        4.350       1.300\n",
      "                0.75        6.300       3.000        4.600       1.500\n",
      "                0.95        6.755       3.200        4.900       1.600\n",
      "Iris-virginica  0.05        5.745       2.500        4.845       1.545\n",
      "                0.25        6.225       2.800        5.100       1.800\n",
      "                0.50        6.500       3.000        5.550       2.000\n",
      "                0.75        6.900       3.175        5.875       2.300\n",
      "                0.95        7.700       3.510        6.655       2.455\n",
      "\n"
     ]
    }
   ],
   "source": [
    "# Calculate quantiles of the data for each class using group\n",
    "print(f\"\\nQuantiles of the data for each class: \\n{data.groupby('class').quantile([0.05, 0.25, 0.50, 0.75, 0.95])}\\n\")"
   ]
  },
  {
   "cell_type": "markdown",
   "metadata": {},
   "source": [
    "#### df.describe()\n",
    "`df.describe()` är en funktion som ger oss en sammanfattning av datamängden. Funktionen ger oss bland annat medelvärde, median, standardavvikelse, min, max och kvantiler. Genom denna funktion kan vi få en bra överblick av datamängden med en rad kod."
   ]
  },
  {
   "cell_type": "code",
   "execution_count": 15,
   "metadata": {},
   "outputs": [
    {
     "data": {
      "text/html": [
       "<div>\n",
       "<style scoped>\n",
       "    .dataframe tbody tr th:only-of-type {\n",
       "        vertical-align: middle;\n",
       "    }\n",
       "\n",
       "    .dataframe tbody tr th {\n",
       "        vertical-align: top;\n",
       "    }\n",
       "\n",
       "    .dataframe thead th {\n",
       "        text-align: right;\n",
       "    }\n",
       "</style>\n",
       "<table border=\"1\" class=\"dataframe\">\n",
       "  <thead>\n",
       "    <tr style=\"text-align: right;\">\n",
       "      <th></th>\n",
       "      <th>sepallength</th>\n",
       "      <th>sepalwidth</th>\n",
       "      <th>petallength</th>\n",
       "      <th>petalwidth</th>\n",
       "    </tr>\n",
       "  </thead>\n",
       "  <tbody>\n",
       "    <tr>\n",
       "      <th>count</th>\n",
       "      <td>150.000000</td>\n",
       "      <td>150.000000</td>\n",
       "      <td>150.000000</td>\n",
       "      <td>150.000000</td>\n",
       "    </tr>\n",
       "    <tr>\n",
       "      <th>mean</th>\n",
       "      <td>5.843333</td>\n",
       "      <td>3.054000</td>\n",
       "      <td>3.758667</td>\n",
       "      <td>1.198667</td>\n",
       "    </tr>\n",
       "    <tr>\n",
       "      <th>std</th>\n",
       "      <td>0.828066</td>\n",
       "      <td>0.433594</td>\n",
       "      <td>1.764420</td>\n",
       "      <td>0.763161</td>\n",
       "    </tr>\n",
       "    <tr>\n",
       "      <th>min</th>\n",
       "      <td>4.300000</td>\n",
       "      <td>2.000000</td>\n",
       "      <td>1.000000</td>\n",
       "      <td>0.100000</td>\n",
       "    </tr>\n",
       "    <tr>\n",
       "      <th>25%</th>\n",
       "      <td>5.100000</td>\n",
       "      <td>2.800000</td>\n",
       "      <td>1.600000</td>\n",
       "      <td>0.300000</td>\n",
       "    </tr>\n",
       "    <tr>\n",
       "      <th>50%</th>\n",
       "      <td>5.800000</td>\n",
       "      <td>3.000000</td>\n",
       "      <td>4.350000</td>\n",
       "      <td>1.300000</td>\n",
       "    </tr>\n",
       "    <tr>\n",
       "      <th>75%</th>\n",
       "      <td>6.400000</td>\n",
       "      <td>3.300000</td>\n",
       "      <td>5.100000</td>\n",
       "      <td>1.800000</td>\n",
       "    </tr>\n",
       "    <tr>\n",
       "      <th>max</th>\n",
       "      <td>7.900000</td>\n",
       "      <td>4.400000</td>\n",
       "      <td>6.900000</td>\n",
       "      <td>2.500000</td>\n",
       "    </tr>\n",
       "  </tbody>\n",
       "</table>\n",
       "</div>"
      ],
      "text/plain": [
       "       sepallength  sepalwidth  petallength  petalwidth\n",
       "count   150.000000  150.000000   150.000000  150.000000\n",
       "mean      5.843333    3.054000     3.758667    1.198667\n",
       "std       0.828066    0.433594     1.764420    0.763161\n",
       "min       4.300000    2.000000     1.000000    0.100000\n",
       "25%       5.100000    2.800000     1.600000    0.300000\n",
       "50%       5.800000    3.000000     4.350000    1.300000\n",
       "75%       6.400000    3.300000     5.100000    1.800000\n",
       "max       7.900000    4.400000     6.900000    2.500000"
      ]
     },
     "execution_count": 15,
     "metadata": {},
     "output_type": "execute_result"
    }
   ],
   "source": [
    "data.describe()"
   ]
  },
  {
   "cell_type": "markdown",
   "metadata": {},
   "source": [
    "## NaN-värden\n",
    "Ibland saknas mätvärden i datamängden. Dessa brukar ofta dyka upp som `NaN`-värden. `NaN` står för _Not a Number_ och är ett sätt att representera att ett värde saknas. Beroende på hur datamängden är konstruerad kan andra värden också representera att ett värde saknas. T.ex. kan `0` eller `-1` representera att ett värde saknas. \n",
    "\n",
    "`NaN`-värden kan vara problematiska när vi vill beräkna statistiska mått. Om vi t.ex. vill beräkna medelvärdet av en datamängd så kommer `NaN`-värden att påverka resultatet. Detta är något som vi måste tänka på när vi arbetar med datamängder.\n",
    "\n",
    "Låt oss nu se hur vi kan hantera `NaN`-värden i pandas."
   ]
  },
  {
   "cell_type": "code",
   "execution_count": 39,
   "metadata": {},
   "outputs": [
    {
     "data": {
      "text/html": [
       "<div>\n",
       "<style scoped>\n",
       "    .dataframe tbody tr th:only-of-type {\n",
       "        vertical-align: middle;\n",
       "    }\n",
       "\n",
       "    .dataframe tbody tr th {\n",
       "        vertical-align: top;\n",
       "    }\n",
       "\n",
       "    .dataframe thead th {\n",
       "        text-align: right;\n",
       "    }\n",
       "</style>\n",
       "<table border=\"1\" class=\"dataframe\">\n",
       "  <thead>\n",
       "    <tr style=\"text-align: right;\">\n",
       "      <th></th>\n",
       "      <th>sepallength</th>\n",
       "      <th>sepalwidth</th>\n",
       "      <th>petallength</th>\n",
       "      <th>petalwidth</th>\n",
       "      <th>class</th>\n",
       "    </tr>\n",
       "  </thead>\n",
       "  <tbody>\n",
       "    <tr>\n",
       "      <th>0</th>\n",
       "      <td>NaN</td>\n",
       "      <td>NaN</td>\n",
       "      <td>NaN</td>\n",
       "      <td>NaN</td>\n",
       "      <td>Iris-setosa</td>\n",
       "    </tr>\n",
       "    <tr>\n",
       "      <th>1</th>\n",
       "      <td>NaN</td>\n",
       "      <td>NaN</td>\n",
       "      <td>NaN</td>\n",
       "      <td>NaN</td>\n",
       "      <td>Iris-setosa</td>\n",
       "    </tr>\n",
       "    <tr>\n",
       "      <th>2</th>\n",
       "      <td>NaN</td>\n",
       "      <td>NaN</td>\n",
       "      <td>NaN</td>\n",
       "      <td>NaN</td>\n",
       "      <td>Iris-setosa</td>\n",
       "    </tr>\n",
       "    <tr>\n",
       "      <th>3</th>\n",
       "      <td>4.6</td>\n",
       "      <td>3.1</td>\n",
       "      <td>1.5</td>\n",
       "      <td>0.2</td>\n",
       "      <td>Iris-setosa</td>\n",
       "    </tr>\n",
       "    <tr>\n",
       "      <th>4</th>\n",
       "      <td>5.0</td>\n",
       "      <td>3.6</td>\n",
       "      <td>1.4</td>\n",
       "      <td>0.2</td>\n",
       "      <td>Iris-setosa</td>\n",
       "    </tr>\n",
       "    <tr>\n",
       "      <th>5</th>\n",
       "      <td>5.4</td>\n",
       "      <td>3.9</td>\n",
       "      <td>1.7</td>\n",
       "      <td>0.4</td>\n",
       "      <td>Iris-setosa</td>\n",
       "    </tr>\n",
       "    <tr>\n",
       "      <th>6</th>\n",
       "      <td>4.6</td>\n",
       "      <td>3.4</td>\n",
       "      <td>1.4</td>\n",
       "      <td>0.3</td>\n",
       "      <td>Iris-setosa</td>\n",
       "    </tr>\n",
       "  </tbody>\n",
       "</table>\n",
       "</div>"
      ],
      "text/plain": [
       "   sepallength  sepalwidth  petallength  petalwidth        class\n",
       "0          NaN         NaN          NaN         NaN  Iris-setosa\n",
       "1          NaN         NaN          NaN         NaN  Iris-setosa\n",
       "2          NaN         NaN          NaN         NaN  Iris-setosa\n",
       "3          4.6         3.1          1.5         0.2  Iris-setosa\n",
       "4          5.0         3.6          1.4         0.2  Iris-setosa\n",
       "5          5.4         3.9          1.7         0.4  Iris-setosa\n",
       "6          4.6         3.4          1.4         0.3  Iris-setosa"
      ]
     },
     "execution_count": 39,
     "metadata": {},
     "output_type": "execute_result"
    }
   ],
   "source": [
    "# Corupt the data with NaN values\n",
    "start = 0\n",
    "stop = 3\n",
    "data_corrupt = data.copy()\n",
    "data_corrupt.iloc[start:stop, 0:-1] = np.nan\n",
    "\n",
    "data_corrupt.head(7)"
   ]
  },
  {
   "cell_type": "markdown",
   "metadata": {},
   "source": [
    "Ett sett att upptäcka `NaN`-värden är att använda funktionen `df.isna()`. Funktionen returnerar en datamängd med `True` och `False`-värden där `True` representerar att ett värde är `NaN` och `False` representerar att ett värde inte är `NaN`. Låt oss använda `df.isna()` för att se om det finns några `NaN`-värden i `iris`-datamängden:\n",
    "\n"
   ]
  },
  {
   "cell_type": "code",
   "execution_count": 40,
   "metadata": {},
   "outputs": [
    {
     "data": {
      "text/html": [
       "<div>\n",
       "<style scoped>\n",
       "    .dataframe tbody tr th:only-of-type {\n",
       "        vertical-align: middle;\n",
       "    }\n",
       "\n",
       "    .dataframe tbody tr th {\n",
       "        vertical-align: top;\n",
       "    }\n",
       "\n",
       "    .dataframe thead th {\n",
       "        text-align: right;\n",
       "    }\n",
       "</style>\n",
       "<table border=\"1\" class=\"dataframe\">\n",
       "  <thead>\n",
       "    <tr style=\"text-align: right;\">\n",
       "      <th></th>\n",
       "      <th>sepallength</th>\n",
       "      <th>sepalwidth</th>\n",
       "      <th>petallength</th>\n",
       "      <th>petalwidth</th>\n",
       "      <th>class</th>\n",
       "    </tr>\n",
       "  </thead>\n",
       "  <tbody>\n",
       "    <tr>\n",
       "      <th>0</th>\n",
       "      <td>True</td>\n",
       "      <td>True</td>\n",
       "      <td>True</td>\n",
       "      <td>True</td>\n",
       "      <td>False</td>\n",
       "    </tr>\n",
       "    <tr>\n",
       "      <th>1</th>\n",
       "      <td>True</td>\n",
       "      <td>True</td>\n",
       "      <td>True</td>\n",
       "      <td>True</td>\n",
       "      <td>False</td>\n",
       "    </tr>\n",
       "    <tr>\n",
       "      <th>2</th>\n",
       "      <td>True</td>\n",
       "      <td>True</td>\n",
       "      <td>True</td>\n",
       "      <td>True</td>\n",
       "      <td>False</td>\n",
       "    </tr>\n",
       "    <tr>\n",
       "      <th>3</th>\n",
       "      <td>False</td>\n",
       "      <td>False</td>\n",
       "      <td>False</td>\n",
       "      <td>False</td>\n",
       "      <td>False</td>\n",
       "    </tr>\n",
       "    <tr>\n",
       "      <th>4</th>\n",
       "      <td>False</td>\n",
       "      <td>False</td>\n",
       "      <td>False</td>\n",
       "      <td>False</td>\n",
       "      <td>False</td>\n",
       "    </tr>\n",
       "    <tr>\n",
       "      <th>...</th>\n",
       "      <td>...</td>\n",
       "      <td>...</td>\n",
       "      <td>...</td>\n",
       "      <td>...</td>\n",
       "      <td>...</td>\n",
       "    </tr>\n",
       "    <tr>\n",
       "      <th>145</th>\n",
       "      <td>False</td>\n",
       "      <td>False</td>\n",
       "      <td>False</td>\n",
       "      <td>False</td>\n",
       "      <td>False</td>\n",
       "    </tr>\n",
       "    <tr>\n",
       "      <th>146</th>\n",
       "      <td>False</td>\n",
       "      <td>False</td>\n",
       "      <td>False</td>\n",
       "      <td>False</td>\n",
       "      <td>False</td>\n",
       "    </tr>\n",
       "    <tr>\n",
       "      <th>147</th>\n",
       "      <td>False</td>\n",
       "      <td>False</td>\n",
       "      <td>False</td>\n",
       "      <td>False</td>\n",
       "      <td>False</td>\n",
       "    </tr>\n",
       "    <tr>\n",
       "      <th>148</th>\n",
       "      <td>False</td>\n",
       "      <td>False</td>\n",
       "      <td>False</td>\n",
       "      <td>False</td>\n",
       "      <td>False</td>\n",
       "    </tr>\n",
       "    <tr>\n",
       "      <th>149</th>\n",
       "      <td>False</td>\n",
       "      <td>False</td>\n",
       "      <td>False</td>\n",
       "      <td>False</td>\n",
       "      <td>False</td>\n",
       "    </tr>\n",
       "  </tbody>\n",
       "</table>\n",
       "<p>150 rows × 5 columns</p>\n",
       "</div>"
      ],
      "text/plain": [
       "     sepallength  sepalwidth  petallength  petalwidth  class\n",
       "0           True        True         True        True  False\n",
       "1           True        True         True        True  False\n",
       "2           True        True         True        True  False\n",
       "3          False       False        False       False  False\n",
       "4          False       False        False       False  False\n",
       "..           ...         ...          ...         ...    ...\n",
       "145        False       False        False       False  False\n",
       "146        False       False        False       False  False\n",
       "147        False       False        False       False  False\n",
       "148        False       False        False       False  False\n",
       "149        False       False        False       False  False\n",
       "\n",
       "[150 rows x 5 columns]"
      ]
     },
     "execution_count": 40,
     "metadata": {},
     "output_type": "execute_result"
    }
   ],
   "source": [
    "# Check for NaN values\n",
    "data_corrupt.isna()\n"
   ]
  },
  {
   "cell_type": "markdown",
   "metadata": {},
   "source": [
    "Det finns olika sätt att hantera dessa `NaN`-värden. Vi kan t.ex. ta bort alla rader som innehåller `NaN`-värden. Detta kan vi göra med funktionen `df.dropna()`. Låt oss använda `df.dropna()` för att ta bort alla rader som innehåller `NaN`-värden:"
   ]
  },
  {
   "cell_type": "code",
   "execution_count": 41,
   "metadata": {},
   "outputs": [
    {
     "data": {
      "text/html": [
       "<div>\n",
       "<style scoped>\n",
       "    .dataframe tbody tr th:only-of-type {\n",
       "        vertical-align: middle;\n",
       "    }\n",
       "\n",
       "    .dataframe tbody tr th {\n",
       "        vertical-align: top;\n",
       "    }\n",
       "\n",
       "    .dataframe thead th {\n",
       "        text-align: right;\n",
       "    }\n",
       "</style>\n",
       "<table border=\"1\" class=\"dataframe\">\n",
       "  <thead>\n",
       "    <tr style=\"text-align: right;\">\n",
       "      <th></th>\n",
       "      <th>sepallength</th>\n",
       "      <th>sepalwidth</th>\n",
       "      <th>petallength</th>\n",
       "      <th>petalwidth</th>\n",
       "      <th>class</th>\n",
       "    </tr>\n",
       "  </thead>\n",
       "  <tbody>\n",
       "    <tr>\n",
       "      <th>3</th>\n",
       "      <td>4.6</td>\n",
       "      <td>3.1</td>\n",
       "      <td>1.5</td>\n",
       "      <td>0.2</td>\n",
       "      <td>Iris-setosa</td>\n",
       "    </tr>\n",
       "    <tr>\n",
       "      <th>4</th>\n",
       "      <td>5.0</td>\n",
       "      <td>3.6</td>\n",
       "      <td>1.4</td>\n",
       "      <td>0.2</td>\n",
       "      <td>Iris-setosa</td>\n",
       "    </tr>\n",
       "    <tr>\n",
       "      <th>5</th>\n",
       "      <td>5.4</td>\n",
       "      <td>3.9</td>\n",
       "      <td>1.7</td>\n",
       "      <td>0.4</td>\n",
       "      <td>Iris-setosa</td>\n",
       "    </tr>\n",
       "    <tr>\n",
       "      <th>6</th>\n",
       "      <td>4.6</td>\n",
       "      <td>3.4</td>\n",
       "      <td>1.4</td>\n",
       "      <td>0.3</td>\n",
       "      <td>Iris-setosa</td>\n",
       "    </tr>\n",
       "    <tr>\n",
       "      <th>7</th>\n",
       "      <td>5.0</td>\n",
       "      <td>3.4</td>\n",
       "      <td>1.5</td>\n",
       "      <td>0.2</td>\n",
       "      <td>Iris-setosa</td>\n",
       "    </tr>\n",
       "    <tr>\n",
       "      <th>...</th>\n",
       "      <td>...</td>\n",
       "      <td>...</td>\n",
       "      <td>...</td>\n",
       "      <td>...</td>\n",
       "      <td>...</td>\n",
       "    </tr>\n",
       "    <tr>\n",
       "      <th>145</th>\n",
       "      <td>6.7</td>\n",
       "      <td>3.0</td>\n",
       "      <td>5.2</td>\n",
       "      <td>2.3</td>\n",
       "      <td>Iris-virginica</td>\n",
       "    </tr>\n",
       "    <tr>\n",
       "      <th>146</th>\n",
       "      <td>6.3</td>\n",
       "      <td>2.5</td>\n",
       "      <td>5.0</td>\n",
       "      <td>1.9</td>\n",
       "      <td>Iris-virginica</td>\n",
       "    </tr>\n",
       "    <tr>\n",
       "      <th>147</th>\n",
       "      <td>6.5</td>\n",
       "      <td>3.0</td>\n",
       "      <td>5.2</td>\n",
       "      <td>2.0</td>\n",
       "      <td>Iris-virginica</td>\n",
       "    </tr>\n",
       "    <tr>\n",
       "      <th>148</th>\n",
       "      <td>6.2</td>\n",
       "      <td>3.4</td>\n",
       "      <td>5.4</td>\n",
       "      <td>2.3</td>\n",
       "      <td>Iris-virginica</td>\n",
       "    </tr>\n",
       "    <tr>\n",
       "      <th>149</th>\n",
       "      <td>5.9</td>\n",
       "      <td>3.0</td>\n",
       "      <td>5.1</td>\n",
       "      <td>1.8</td>\n",
       "      <td>Iris-virginica</td>\n",
       "    </tr>\n",
       "  </tbody>\n",
       "</table>\n",
       "<p>147 rows × 5 columns</p>\n",
       "</div>"
      ],
      "text/plain": [
       "     sepallength  sepalwidth  petallength  petalwidth           class\n",
       "3            4.6         3.1          1.5         0.2     Iris-setosa\n",
       "4            5.0         3.6          1.4         0.2     Iris-setosa\n",
       "5            5.4         3.9          1.7         0.4     Iris-setosa\n",
       "6            4.6         3.4          1.4         0.3     Iris-setosa\n",
       "7            5.0         3.4          1.5         0.2     Iris-setosa\n",
       "..           ...         ...          ...         ...             ...\n",
       "145          6.7         3.0          5.2         2.3  Iris-virginica\n",
       "146          6.3         2.5          5.0         1.9  Iris-virginica\n",
       "147          6.5         3.0          5.2         2.0  Iris-virginica\n",
       "148          6.2         3.4          5.4         2.3  Iris-virginica\n",
       "149          5.9         3.0          5.1         1.8  Iris-virginica\n",
       "\n",
       "[147 rows x 5 columns]"
      ]
     },
     "execution_count": 41,
     "metadata": {},
     "output_type": "execute_result"
    }
   ],
   "source": [
    "# Drop rows with NaN values\n",
    "data_corrupt.dropna()"
   ]
  },
  {
   "cell_type": "markdown",
   "metadata": {},
   "source": [
    "Vi kan också fylla i `NaN`-värden med ett annat värde. Detta kan vi göra med funktionen `df.fillna()`. Låt oss använda `df.fillna()` för att fylla i alla `NaN`-värden med värdet `0`:"
   ]
  },
  {
   "cell_type": "code",
   "execution_count": 42,
   "metadata": {},
   "outputs": [
    {
     "data": {
      "text/html": [
       "<div>\n",
       "<style scoped>\n",
       "    .dataframe tbody tr th:only-of-type {\n",
       "        vertical-align: middle;\n",
       "    }\n",
       "\n",
       "    .dataframe tbody tr th {\n",
       "        vertical-align: top;\n",
       "    }\n",
       "\n",
       "    .dataframe thead th {\n",
       "        text-align: right;\n",
       "    }\n",
       "</style>\n",
       "<table border=\"1\" class=\"dataframe\">\n",
       "  <thead>\n",
       "    <tr style=\"text-align: right;\">\n",
       "      <th></th>\n",
       "      <th>sepallength</th>\n",
       "      <th>sepalwidth</th>\n",
       "      <th>petallength</th>\n",
       "      <th>petalwidth</th>\n",
       "      <th>class</th>\n",
       "    </tr>\n",
       "  </thead>\n",
       "  <tbody>\n",
       "    <tr>\n",
       "      <th>0</th>\n",
       "      <td>0.0</td>\n",
       "      <td>0.0</td>\n",
       "      <td>0.0</td>\n",
       "      <td>0.0</td>\n",
       "      <td>Iris-setosa</td>\n",
       "    </tr>\n",
       "    <tr>\n",
       "      <th>1</th>\n",
       "      <td>0.0</td>\n",
       "      <td>0.0</td>\n",
       "      <td>0.0</td>\n",
       "      <td>0.0</td>\n",
       "      <td>Iris-setosa</td>\n",
       "    </tr>\n",
       "    <tr>\n",
       "      <th>2</th>\n",
       "      <td>0.0</td>\n",
       "      <td>0.0</td>\n",
       "      <td>0.0</td>\n",
       "      <td>0.0</td>\n",
       "      <td>Iris-setosa</td>\n",
       "    </tr>\n",
       "    <tr>\n",
       "      <th>3</th>\n",
       "      <td>4.6</td>\n",
       "      <td>3.1</td>\n",
       "      <td>1.5</td>\n",
       "      <td>0.2</td>\n",
       "      <td>Iris-setosa</td>\n",
       "    </tr>\n",
       "    <tr>\n",
       "      <th>4</th>\n",
       "      <td>5.0</td>\n",
       "      <td>3.6</td>\n",
       "      <td>1.4</td>\n",
       "      <td>0.2</td>\n",
       "      <td>Iris-setosa</td>\n",
       "    </tr>\n",
       "    <tr>\n",
       "      <th>...</th>\n",
       "      <td>...</td>\n",
       "      <td>...</td>\n",
       "      <td>...</td>\n",
       "      <td>...</td>\n",
       "      <td>...</td>\n",
       "    </tr>\n",
       "    <tr>\n",
       "      <th>145</th>\n",
       "      <td>6.7</td>\n",
       "      <td>3.0</td>\n",
       "      <td>5.2</td>\n",
       "      <td>2.3</td>\n",
       "      <td>Iris-virginica</td>\n",
       "    </tr>\n",
       "    <tr>\n",
       "      <th>146</th>\n",
       "      <td>6.3</td>\n",
       "      <td>2.5</td>\n",
       "      <td>5.0</td>\n",
       "      <td>1.9</td>\n",
       "      <td>Iris-virginica</td>\n",
       "    </tr>\n",
       "    <tr>\n",
       "      <th>147</th>\n",
       "      <td>6.5</td>\n",
       "      <td>3.0</td>\n",
       "      <td>5.2</td>\n",
       "      <td>2.0</td>\n",
       "      <td>Iris-virginica</td>\n",
       "    </tr>\n",
       "    <tr>\n",
       "      <th>148</th>\n",
       "      <td>6.2</td>\n",
       "      <td>3.4</td>\n",
       "      <td>5.4</td>\n",
       "      <td>2.3</td>\n",
       "      <td>Iris-virginica</td>\n",
       "    </tr>\n",
       "    <tr>\n",
       "      <th>149</th>\n",
       "      <td>5.9</td>\n",
       "      <td>3.0</td>\n",
       "      <td>5.1</td>\n",
       "      <td>1.8</td>\n",
       "      <td>Iris-virginica</td>\n",
       "    </tr>\n",
       "  </tbody>\n",
       "</table>\n",
       "<p>150 rows × 5 columns</p>\n",
       "</div>"
      ],
      "text/plain": [
       "     sepallength  sepalwidth  petallength  petalwidth           class\n",
       "0            0.0         0.0          0.0         0.0     Iris-setosa\n",
       "1            0.0         0.0          0.0         0.0     Iris-setosa\n",
       "2            0.0         0.0          0.0         0.0     Iris-setosa\n",
       "3            4.6         3.1          1.5         0.2     Iris-setosa\n",
       "4            5.0         3.6          1.4         0.2     Iris-setosa\n",
       "..           ...         ...          ...         ...             ...\n",
       "145          6.7         3.0          5.2         2.3  Iris-virginica\n",
       "146          6.3         2.5          5.0         1.9  Iris-virginica\n",
       "147          6.5         3.0          5.2         2.0  Iris-virginica\n",
       "148          6.2         3.4          5.4         2.3  Iris-virginica\n",
       "149          5.9         3.0          5.1         1.8  Iris-virginica\n",
       "\n",
       "[150 rows x 5 columns]"
      ]
     },
     "execution_count": 42,
     "metadata": {},
     "output_type": "execute_result"
    }
   ],
   "source": [
    "data_corrupt.fillna(0)"
   ]
  },
  {
   "cell_type": "markdown",
   "metadata": {},
   "source": [
    "### Droppa kolumner\n",
    "Vi kan också ta bort kolumner som innehåller `NaN`-värden. Detta kan vi göra med funktionen `df.dropna(axis=1)`. Låt oss använda `df.dropna(axis=1)` för att ta bort kolumnerna som innehåller `NaN`-värden:"
   ]
  },
  {
   "cell_type": "code",
   "execution_count": 44,
   "metadata": {},
   "outputs": [
    {
     "data": {
      "text/html": [
       "<div>\n",
       "<style scoped>\n",
       "    .dataframe tbody tr th:only-of-type {\n",
       "        vertical-align: middle;\n",
       "    }\n",
       "\n",
       "    .dataframe tbody tr th {\n",
       "        vertical-align: top;\n",
       "    }\n",
       "\n",
       "    .dataframe thead th {\n",
       "        text-align: right;\n",
       "    }\n",
       "</style>\n",
       "<table border=\"1\" class=\"dataframe\">\n",
       "  <thead>\n",
       "    <tr style=\"text-align: right;\">\n",
       "      <th></th>\n",
       "      <th>class</th>\n",
       "    </tr>\n",
       "  </thead>\n",
       "  <tbody>\n",
       "    <tr>\n",
       "      <th>0</th>\n",
       "      <td>Iris-setosa</td>\n",
       "    </tr>\n",
       "    <tr>\n",
       "      <th>1</th>\n",
       "      <td>Iris-setosa</td>\n",
       "    </tr>\n",
       "    <tr>\n",
       "      <th>2</th>\n",
       "      <td>Iris-setosa</td>\n",
       "    </tr>\n",
       "    <tr>\n",
       "      <th>3</th>\n",
       "      <td>Iris-setosa</td>\n",
       "    </tr>\n",
       "    <tr>\n",
       "      <th>4</th>\n",
       "      <td>Iris-setosa</td>\n",
       "    </tr>\n",
       "    <tr>\n",
       "      <th>...</th>\n",
       "      <td>...</td>\n",
       "    </tr>\n",
       "    <tr>\n",
       "      <th>145</th>\n",
       "      <td>Iris-virginica</td>\n",
       "    </tr>\n",
       "    <tr>\n",
       "      <th>146</th>\n",
       "      <td>Iris-virginica</td>\n",
       "    </tr>\n",
       "    <tr>\n",
       "      <th>147</th>\n",
       "      <td>Iris-virginica</td>\n",
       "    </tr>\n",
       "    <tr>\n",
       "      <th>148</th>\n",
       "      <td>Iris-virginica</td>\n",
       "    </tr>\n",
       "    <tr>\n",
       "      <th>149</th>\n",
       "      <td>Iris-virginica</td>\n",
       "    </tr>\n",
       "  </tbody>\n",
       "</table>\n",
       "<p>150 rows × 1 columns</p>\n",
       "</div>"
      ],
      "text/plain": [
       "              class\n",
       "0       Iris-setosa\n",
       "1       Iris-setosa\n",
       "2       Iris-setosa\n",
       "3       Iris-setosa\n",
       "4       Iris-setosa\n",
       "..              ...\n",
       "145  Iris-virginica\n",
       "146  Iris-virginica\n",
       "147  Iris-virginica\n",
       "148  Iris-virginica\n",
       "149  Iris-virginica\n",
       "\n",
       "[150 rows x 1 columns]"
      ]
     },
     "execution_count": 44,
     "metadata": {},
     "output_type": "execute_result"
    }
   ],
   "source": [
    "# Drop columns with NaN values\n",
    "data_corrupt.dropna(axis=1)"
   ]
  }
 ],
 "metadata": {
  "kernelspec": {
   "display_name": "Python 3.10.6 ('test-matmod')",
   "language": "python",
   "name": "python3"
  },
  "language_info": {
   "codemirror_mode": {
    "name": "ipython",
    "version": 3
   },
   "file_extension": ".py",
   "mimetype": "text/x-python",
   "name": "python",
   "nbconvert_exporter": "python",
   "pygments_lexer": "ipython3",
   "version": "3.10.6"
  },
  "orig_nbformat": 4,
  "vscode": {
   "interpreter": {
    "hash": "3bdb670c900da11223ae57c14c0a0b51f3f7c2a0e93cbe58c2bb5ad66e95fb42"
   }
  }
 },
 "nbformat": 4,
 "nbformat_minor": 2
}
