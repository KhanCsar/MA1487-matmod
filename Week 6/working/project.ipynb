{
 "cells": [
  {
   "cell_type": "code",
   "execution_count": null,
   "metadata": {},
   "outputs": [],
   "source": []
  },
  {
   "cell_type": "markdown",
   "metadata": {},
   "source": [
    "# Testar SMHI:s API"
   ]
  },
  {
   "cell_type": "code",
   "execution_count": 31,
   "metadata": {},
   "outputs": [
    {
     "name": "stdout",
     "output_type": "stream",
     "text": [
      "{'key': 'latest-months', 'updated': 1670284800000, 'title': 'Lufttemperatur - Arvidsjaur A - Data från senaste fyra månaderna: Ladda ner data', 'summary': 'Här laddar du ner din datamängd i CSV-format. Inställningar i din Webb-läsare styr hur data presenteras. Om du väljer att arbeta i Excel kan dessa filer vara för stora och kortas av.', 'from': 1659052801000, 'to': 1670360400000, 'link': [{'rel': 'period', 'type': 'application/json', 'href': 'https://opendata-download-metobs.smhi.se/api/version/1.0/parameter/1/station/159880/period/latest-months.json'}, {'rel': 'period', 'type': 'application/xml', 'href': 'https://opendata-download-metobs.smhi.se/api/version/1.0/parameter/1/station/159880/period/latest-months.xml'}, {'rel': 'period', 'type': 'application/atom+xml', 'href': 'https://opendata-download-metobs.smhi.se/api/version/1.0/parameter/1/station/159880/period/latest-months.atom'}, {'rel': 'station', 'type': 'application/atom+xml', 'href': 'https://opendata-download-metobs.smhi.se/api/version/1.0/parameter/1/station/159880.atom'}], 'data': [{'key': None, 'updated': 1670284800000, 'title': 'Datafil', 'summary': '', 'link': [{'rel': 'data', 'type': 'application/json', 'href': 'https://opendata-download-metobs.smhi.se/api/version/1.0/parameter/1/station/159880/period/latest-months/data.json'}, {'rel': 'data', 'type': 'application/xml', 'href': 'https://opendata-download-metobs.smhi.se/api/version/1.0/parameter/1/station/159880/period/latest-months/data.xml'}, {'rel': 'data', 'type': 'text/plain', 'href': 'https://opendata-download-metobs.smhi.se/api/version/1.0/parameter/1/station/159880/period/latest-months/data.csv'}]}]}\n",
      "             key        updated  \\\n",
      "0  latest-months  1670284800000   \n",
      "\n",
      "                                               title  \\\n",
      "0  Lufttemperatur - Arvidsjaur A - Data från sena...   \n",
      "\n",
      "                                             summary           from  \\\n",
      "0  Här laddar du ner din datamängd i CSV-format. ...  1659052801000   \n",
      "\n",
      "              to                                               link  \\\n",
      "0  1670360400000  [{'rel': 'period', 'type': 'application/json',...   \n",
      "\n",
      "                                                data  \n",
      "0  [{'key': None, 'updated': 1670284800000, 'titl...  \n"
     ]
    },
    {
     "data": {
      "text/plain": [
       "[{'rel': 'period',\n",
       "  'type': 'application/json',\n",
       "  'href': 'https://opendata-download-metobs.smhi.se/api/version/1.0/parameter/1/station/159880/period/latest-months.json'},\n",
       " {'rel': 'period',\n",
       "  'type': 'application/xml',\n",
       "  'href': 'https://opendata-download-metobs.smhi.se/api/version/1.0/parameter/1/station/159880/period/latest-months.xml'},\n",
       " {'rel': 'period',\n",
       "  'type': 'application/atom+xml',\n",
       "  'href': 'https://opendata-download-metobs.smhi.se/api/version/1.0/parameter/1/station/159880/period/latest-months.atom'},\n",
       " {'rel': 'station',\n",
       "  'type': 'application/atom+xml',\n",
       "  'href': 'https://opendata-download-metobs.smhi.se/api/version/1.0/parameter/1/station/159880.atom'}]"
      ]
     },
     "execution_count": 31,
     "metadata": {},
     "output_type": "execute_result"
    }
   ],
   "source": [
    "\n",
    "# !pip install smhi-open-data\n",
    "from smhi_open_data import SMHIOpenDataClient, Parameter\n",
    "\n",
    "\n",
    "import requests\n",
    "from datetime import datetime\n",
    "import pandas as pd\n",
    "import json\n",
    "\n",
    "# Get the data from the API\n",
    "url = 'https://opendata-download-metobs.smhi.se/api'\n",
    "endpoint = '/version/1.0/parameter/1/station/159880/period/latest-months.json'\n",
    "r = requests.get(url + endpoint)\n",
    "\n",
    "# url = 'https://opendata-download-metobs.smhi.se/api/version/latest/parameter/4.json'\n",
    "# r = requests.get(url)\n",
    "\n",
    "print(r.json())\n",
    "\n",
    "# r = requests.get(url + endpoint)\n",
    "data = r.json()\n",
    "\n",
    "# data = json.dumps(data, indent=4, sort_keys=True)\n",
    "\n",
    "data = pd.json_normalize(data)\n",
    "\n",
    "# Convert the data to a pandas DataFrame\n",
    "# data = pd.read_json(data)\n",
    "\n",
    "print(data.head())\n",
    "\n",
    "data.columns\n",
    "\n",
    "data.loc[0,'link']"
   ]
  },
  {
   "cell_type": "markdown",
   "metadata": {},
   "source": [
    "## Använder färdigt bibliotek för smhi-api\n",
    "`pip install smhi-open-data`"
   ]
  },
  {
   "cell_type": "code",
   "execution_count": 32,
   "metadata": {},
   "outputs": [],
   "source": [
    "from smhi_open_data import SMHIOpenDataClient, Parameter\n",
    "\n",
    "# Get 10 stations\n",
    "client = SMHIOpenDataClient()\n",
    "\n",
    "# Get all stations\n",
    "stations = client.get_stations()\n",
    "\n",
    "# Get closest station\n",
    "closest_station = client.get_closest_station(\n",
    "    latitude=55.707722,\n",
    "    longitude=12.562119)\n",
    "\n",
    "# Get available parameters\n",
    "parameters = client.list_parameters()\n",
    "\n",
    "# Get available parameters at station\n",
    "parameters_station = client.get_station_parameters(station_id=173010)\n",
    "\n",
    "# Get temperature observations from available stations from past hour\n",
    "observations = client.get_latest_observations(\n",
    "    parameter=Parameter.TemperaturePast1h)"
   ]
  },
  {
   "cell_type": "code",
   "execution_count": 33,
   "metadata": {},
   "outputs": [
    {
     "name": "stdout",
     "output_type": "stream",
     "text": [
      "{'parameter_id': 1, 'timestamp': 1670360400000, 'value': -7.0, 'station': '188790'}\n",
      "name\n",
      "owner\n",
      "ownerCategory\n",
      "measuringStations\n",
      "id\n",
      "height\n",
      "latitude\n",
      "longitude\n",
      "active\n",
      "from\n",
      "to\n",
      "key\n",
      "updated\n",
      "title\n",
      "summary\n",
      "link\n",
      "52550\n",
      "Ven\n",
      "Temperature at Ven is -7.0.\n"
     ]
    }
   ],
   "source": [
    "# print(observations)\n",
    "print(observations[0])\n",
    "for key in closest_station.keys():\n",
    "    print(key)\n",
    "\n",
    "print(closest_station['id'])\n",
    "print(closest_station['name'])\n",
    "\n",
    "# Get temperature observations from closest station from past hour\n",
    "observations = client.get_latest_observations(\n",
    "    parameter=Parameter.TemperaturePast1h)\n",
    "\n",
    "print(f\"Temperature at {closest_station['name']} is {observations[0]['value']}.\")"
   ]
  },
  {
   "cell_type": "markdown",
   "metadata": {},
   "source": [
    "## Använder länk från `link`-fältet i API-dokumentationen\t\n",
    "\n",
    "Vi kan då få ut data från angiven station i json, xml eller csv-format."
   ]
  },
  {
   "cell_type": "code",
   "execution_count": 34,
   "metadata": {},
   "outputs": [
    {
     "name": "stdout",
     "output_type": "stream",
     "text": [
      "2022-07-29 04:00:00\n"
     ]
    },
    {
     "data": {
      "text/html": [
       "<div>\n",
       "<style scoped>\n",
       "    .dataframe tbody tr th:only-of-type {\n",
       "        vertical-align: middle;\n",
       "    }\n",
       "\n",
       "    .dataframe tbody tr th {\n",
       "        vertical-align: top;\n",
       "    }\n",
       "\n",
       "    .dataframe thead th {\n",
       "        text-align: right;\n",
       "    }\n",
       "</style>\n",
       "<table border=\"1\" class=\"dataframe\">\n",
       "  <thead>\n",
       "    <tr style=\"text-align: right;\">\n",
       "      <th></th>\n",
       "      <th>date</th>\n",
       "      <th>value</th>\n",
       "      <th>quality</th>\n",
       "    </tr>\n",
       "  </thead>\n",
       "  <tbody>\n",
       "    <tr>\n",
       "      <th>0</th>\n",
       "      <td>2022-07-29 03:00:00</td>\n",
       "      <td>7.6</td>\n",
       "      <td>G</td>\n",
       "    </tr>\n",
       "    <tr>\n",
       "      <th>1</th>\n",
       "      <td>2022-07-29 04:00:00</td>\n",
       "      <td>7.1</td>\n",
       "      <td>G</td>\n",
       "    </tr>\n",
       "    <tr>\n",
       "      <th>2</th>\n",
       "      <td>2022-07-29 05:00:00</td>\n",
       "      <td>8.1</td>\n",
       "      <td>G</td>\n",
       "    </tr>\n",
       "    <tr>\n",
       "      <th>3</th>\n",
       "      <td>2022-07-29 06:00:00</td>\n",
       "      <td>8.3</td>\n",
       "      <td>G</td>\n",
       "    </tr>\n",
       "    <tr>\n",
       "      <th>4</th>\n",
       "      <td>2022-07-29 07:00:00</td>\n",
       "      <td>9.2</td>\n",
       "      <td>G</td>\n",
       "    </tr>\n",
       "    <tr>\n",
       "      <th>...</th>\n",
       "      <td>...</td>\n",
       "      <td>...</td>\n",
       "      <td>...</td>\n",
       "    </tr>\n",
       "    <tr>\n",
       "      <th>3136</th>\n",
       "      <td>2022-12-06 19:00:00</td>\n",
       "      <td>-6.7</td>\n",
       "      <td>G</td>\n",
       "    </tr>\n",
       "    <tr>\n",
       "      <th>3137</th>\n",
       "      <td>2022-12-06 20:00:00</td>\n",
       "      <td>-7.0</td>\n",
       "      <td>G</td>\n",
       "    </tr>\n",
       "    <tr>\n",
       "      <th>3138</th>\n",
       "      <td>2022-12-06 21:00:00</td>\n",
       "      <td>-7.1</td>\n",
       "      <td>G</td>\n",
       "    </tr>\n",
       "    <tr>\n",
       "      <th>3139</th>\n",
       "      <td>2022-12-06 22:00:00</td>\n",
       "      <td>-7.1</td>\n",
       "      <td>G</td>\n",
       "    </tr>\n",
       "    <tr>\n",
       "      <th>3140</th>\n",
       "      <td>2022-12-06 23:00:00</td>\n",
       "      <td>-6.9</td>\n",
       "      <td>G</td>\n",
       "    </tr>\n",
       "  </tbody>\n",
       "</table>\n",
       "<p>3141 rows × 3 columns</p>\n",
       "</div>"
      ],
      "text/plain": [
       "                    date value quality\n",
       "0    2022-07-29 03:00:00   7.6       G\n",
       "1    2022-07-29 04:00:00   7.1       G\n",
       "2    2022-07-29 05:00:00   8.1       G\n",
       "3    2022-07-29 06:00:00   8.3       G\n",
       "4    2022-07-29 07:00:00   9.2       G\n",
       "...                  ...   ...     ...\n",
       "3136 2022-12-06 19:00:00  -6.7       G\n",
       "3137 2022-12-06 20:00:00  -7.0       G\n",
       "3138 2022-12-06 21:00:00  -7.1       G\n",
       "3139 2022-12-06 22:00:00  -7.1       G\n",
       "3140 2022-12-06 23:00:00  -6.9       G\n",
       "\n",
       "[3141 rows x 3 columns]"
      ]
     },
     "execution_count": 34,
     "metadata": {},
     "output_type": "execute_result"
    }
   ],
   "source": [
    "from datetime import datetime\n",
    "\n",
    "html_smhi = 'https://opendata-download-metobs.smhi.se/api/version/1.0/parameter/1/station/159880/period/latest-months/data.json'\n",
    "r = requests.get(html_smhi)\n",
    "data = r.json()\n",
    "\n",
    "# read data into a DataFrame from json response\n",
    "df = pd.DataFrame(data['value'])\n",
    "\n",
    "def convert_to_datetime(x):\n",
    "    return datetime.fromtimestamp(x/1000)\n",
    "\n",
    "timstamp = df['date'][1]\n",
    "\n",
    "time = convert_to_datetime(timstamp)\n",
    "\n",
    "print(time)\n",
    "\n",
    "df['date'] = df['date'].apply(convert_to_datetime)\n",
    "df\n"
   ]
  }
 ],
 "metadata": {
  "kernelspec": {
   "display_name": "Python 3.10.6 ('matmod')",
   "language": "python",
   "name": "python3"
  },
  "language_info": {
   "codemirror_mode": {
    "name": "ipython",
    "version": 3
   },
   "file_extension": ".py",
   "mimetype": "text/x-python",
   "name": "python",
   "nbconvert_exporter": "python",
   "pygments_lexer": "ipython3",
   "version": "3.10.6"
  },
  "orig_nbformat": 4,
  "vscode": {
   "interpreter": {
    "hash": "9cc2df8b7b6c39f853217e30bd4548a9932cd4de19e65c405b55aa1df1ff40c3"
   }
  }
 },
 "nbformat": 4,
 "nbformat_minor": 2
}
