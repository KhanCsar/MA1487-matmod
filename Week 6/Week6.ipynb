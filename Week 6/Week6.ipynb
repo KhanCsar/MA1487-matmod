{
 "cells": [
  {
   "cell_type": "markdown",
   "metadata": {},
   "source": [
    "# Föreläsning 6\n",
    "I dagen föreläsning kommer vi att forsätta bekanta oss med konfidensintervall och komma in på den nära besläktade hypotesprövningen:\n",
    "\n",
    "* Konfidensintervall:\n",
    "    * Populationsandel\n",
    "    * Stickprovsstorlek\n",
    "    * Parvisa observationer\n",
    "* Hypotestest:\n",
    "    * Introduktion till hypotesprövning\n",
    "    * Testfunktion\n",
    "    * Signifikansnivå"
   ]
  },
  {
   "cell_type": "markdown",
   "metadata": {},
   "source": [
    "# Konfidensintervall\n",
    "### Populationsandel\n",
    "\n",
    "När vi skattar en populationsandel $\\theta$ med en stickprovsandel $\\hat{\\theta}$ så är det vanligt att vi vill veta hur stor skillnaden mellan $\\theta$ och $\\hat{\\theta}$. Vi kan göra detta genom att beräkna ett konfidensintervall för $\\theta$. Genom att kunna svara med ett intervall så kan vi återspegla hur säkra vi är i vår skattning av andelen.\n",
    "\n",
    "I förra veckan såg vi hur vi kan beräkna konfidensintervall för medelvärdet. Vi kan använda samma princip för att beräkna konfidensintervall för andelen. Vi kan då skriva:\n",
    "\n",
    "$$ I_\\theta = \\hat{\\theta} \\pm z_{\\alpha/2} \\sqrt{\\frac{\\hat{\\theta}(1-\\hat{\\theta})}{n}}. $$\n",
    "\n",
    "Där $z_{\\alpha/2}$ är kvantilvärdet vid signifikans $\\alpha /2$ och $\\sqrt{\\frac{\\hat{\\theta}(1-\\hat{\\theta})}{n}}$ är standardavvikelsen $s$ för andelen. \n",
    "\n",
    "Inom detta intervall väntar vi oss att andelen av populationen $\\theta$ ligger. Vi kan då säga att vi är $(1-\\alpha)$ säkra på att andelen ligger inom intervallet.\n",
    "\n",
    "#### Exempel:\n",
    "\n",
    "Vi har en $n=100$ datapunkter i ett stickprov och en stickprovsandel $\\hat{\\theta} = 0.6$. Vi vill beräkna ett konfidensintervall för andelen $\\theta$ med signifikans $\\alpha = 0.05$. Vi kan då skriva:\n",
    "\n",
    "$$ I_\\theta = 0.6 \\pm z_{0.025} \\sqrt{\\frac{0.6(1-0.6)}{100}} = 0.6 \\pm 1.96 \\sqrt{\\frac{0.24}{100}} = 0.6 \\pm 0.096. $$\n",
    "\n",
    "Därmed är vi 95% säkra på att andelen ligger mellan $0.504$ och $0.696$.\n",
    "\n"
   ]
  },
  {
   "cell_type": "markdown",
   "metadata": {},
   "source": [
    "#### Exempel med iris:\n",
    "\n",
    "Vi kan använda oss av iris-datan för att beräkna konfidensintervall för andelen blommor med foderbladslängd större än 5.5 cm. \n"
   ]
  },
  {
   "cell_type": "code",
   "execution_count": 13,
   "metadata": {},
   "outputs": [
    {
     "data": {
      "text/html": [
       "<div>\n",
       "<style scoped>\n",
       "    .dataframe tbody tr th:only-of-type {\n",
       "        vertical-align: middle;\n",
       "    }\n",
       "\n",
       "    .dataframe tbody tr th {\n",
       "        vertical-align: top;\n",
       "    }\n",
       "\n",
       "    .dataframe thead th {\n",
       "        text-align: right;\n",
       "    }\n",
       "</style>\n",
       "<table border=\"1\" class=\"dataframe\">\n",
       "  <thead>\n",
       "    <tr style=\"text-align: right;\">\n",
       "      <th></th>\n",
       "      <th>sepallength</th>\n",
       "      <th>sepalwidth</th>\n",
       "      <th>petallength</th>\n",
       "      <th>petalwidth</th>\n",
       "      <th>class</th>\n",
       "    </tr>\n",
       "  </thead>\n",
       "  <tbody>\n",
       "    <tr>\n",
       "      <th>0</th>\n",
       "      <td>5.1</td>\n",
       "      <td>3.5</td>\n",
       "      <td>1.4</td>\n",
       "      <td>0.2</td>\n",
       "      <td>Iris-setosa</td>\n",
       "    </tr>\n",
       "    <tr>\n",
       "      <th>1</th>\n",
       "      <td>4.9</td>\n",
       "      <td>3.0</td>\n",
       "      <td>1.4</td>\n",
       "      <td>0.2</td>\n",
       "      <td>Iris-setosa</td>\n",
       "    </tr>\n",
       "    <tr>\n",
       "      <th>2</th>\n",
       "      <td>4.7</td>\n",
       "      <td>3.2</td>\n",
       "      <td>1.3</td>\n",
       "      <td>0.2</td>\n",
       "      <td>Iris-setosa</td>\n",
       "    </tr>\n",
       "    <tr>\n",
       "      <th>3</th>\n",
       "      <td>4.6</td>\n",
       "      <td>3.1</td>\n",
       "      <td>1.5</td>\n",
       "      <td>0.2</td>\n",
       "      <td>Iris-setosa</td>\n",
       "    </tr>\n",
       "    <tr>\n",
       "      <th>4</th>\n",
       "      <td>5.0</td>\n",
       "      <td>3.6</td>\n",
       "      <td>1.4</td>\n",
       "      <td>0.2</td>\n",
       "      <td>Iris-setosa</td>\n",
       "    </tr>\n",
       "    <tr>\n",
       "      <th>...</th>\n",
       "      <td>...</td>\n",
       "      <td>...</td>\n",
       "      <td>...</td>\n",
       "      <td>...</td>\n",
       "      <td>...</td>\n",
       "    </tr>\n",
       "    <tr>\n",
       "      <th>145</th>\n",
       "      <td>6.7</td>\n",
       "      <td>3.0</td>\n",
       "      <td>5.2</td>\n",
       "      <td>2.3</td>\n",
       "      <td>Iris-virginica</td>\n",
       "    </tr>\n",
       "    <tr>\n",
       "      <th>146</th>\n",
       "      <td>6.3</td>\n",
       "      <td>2.5</td>\n",
       "      <td>5.0</td>\n",
       "      <td>1.9</td>\n",
       "      <td>Iris-virginica</td>\n",
       "    </tr>\n",
       "    <tr>\n",
       "      <th>147</th>\n",
       "      <td>6.5</td>\n",
       "      <td>3.0</td>\n",
       "      <td>5.2</td>\n",
       "      <td>2.0</td>\n",
       "      <td>Iris-virginica</td>\n",
       "    </tr>\n",
       "    <tr>\n",
       "      <th>148</th>\n",
       "      <td>6.2</td>\n",
       "      <td>3.4</td>\n",
       "      <td>5.4</td>\n",
       "      <td>2.3</td>\n",
       "      <td>Iris-virginica</td>\n",
       "    </tr>\n",
       "    <tr>\n",
       "      <th>149</th>\n",
       "      <td>5.9</td>\n",
       "      <td>3.0</td>\n",
       "      <td>5.1</td>\n",
       "      <td>1.8</td>\n",
       "      <td>Iris-virginica</td>\n",
       "    </tr>\n",
       "  </tbody>\n",
       "</table>\n",
       "<p>150 rows × 5 columns</p>\n",
       "</div>"
      ],
      "text/plain": [
       "     sepallength  sepalwidth  petallength  petalwidth           class\n",
       "0            5.1         3.5          1.4         0.2     Iris-setosa\n",
       "1            4.9         3.0          1.4         0.2     Iris-setosa\n",
       "2            4.7         3.2          1.3         0.2     Iris-setosa\n",
       "3            4.6         3.1          1.5         0.2     Iris-setosa\n",
       "4            5.0         3.6          1.4         0.2     Iris-setosa\n",
       "..           ...         ...          ...         ...             ...\n",
       "145          6.7         3.0          5.2         2.3  Iris-virginica\n",
       "146          6.3         2.5          5.0         1.9  Iris-virginica\n",
       "147          6.5         3.0          5.2         2.0  Iris-virginica\n",
       "148          6.2         3.4          5.4         2.3  Iris-virginica\n",
       "149          5.9         3.0          5.1         1.8  Iris-virginica\n",
       "\n",
       "[150 rows x 5 columns]"
      ]
     },
     "execution_count": 13,
     "metadata": {},
     "output_type": "execute_result"
    }
   ],
   "source": [
    "import numpy as np\n",
    "import pandas as pd\n",
    "import matplotlib.pyplot as plt\n",
    "import seaborn as sns\n",
    "\n",
    "# Ladda in data\n",
    "df_iris = pd.read_csv('../data/iris.csv')\n",
    "df_iris"
   ]
  },
  {
   "cell_type": "code",
   "execution_count": 14,
   "metadata": {},
   "outputs": [
    {
     "data": {
      "text/html": [
       "<div>\n",
       "<style scoped>\n",
       "    .dataframe tbody tr th:only-of-type {\n",
       "        vertical-align: middle;\n",
       "    }\n",
       "\n",
       "    .dataframe tbody tr th {\n",
       "        vertical-align: top;\n",
       "    }\n",
       "\n",
       "    .dataframe thead th {\n",
       "        text-align: right;\n",
       "    }\n",
       "</style>\n",
       "<table border=\"1\" class=\"dataframe\">\n",
       "  <thead>\n",
       "    <tr style=\"text-align: right;\">\n",
       "      <th></th>\n",
       "      <th>sepallength</th>\n",
       "      <th>sepalwidth</th>\n",
       "      <th>petallength</th>\n",
       "      <th>petalwidth</th>\n",
       "      <th>class</th>\n",
       "      <th>longer_than_thresh</th>\n",
       "    </tr>\n",
       "  </thead>\n",
       "  <tbody>\n",
       "    <tr>\n",
       "      <th>0</th>\n",
       "      <td>5.1</td>\n",
       "      <td>3.5</td>\n",
       "      <td>1.4</td>\n",
       "      <td>0.2</td>\n",
       "      <td>Iris-setosa</td>\n",
       "      <td>False</td>\n",
       "    </tr>\n",
       "    <tr>\n",
       "      <th>1</th>\n",
       "      <td>4.9</td>\n",
       "      <td>3.0</td>\n",
       "      <td>1.4</td>\n",
       "      <td>0.2</td>\n",
       "      <td>Iris-setosa</td>\n",
       "      <td>False</td>\n",
       "    </tr>\n",
       "    <tr>\n",
       "      <th>2</th>\n",
       "      <td>4.7</td>\n",
       "      <td>3.2</td>\n",
       "      <td>1.3</td>\n",
       "      <td>0.2</td>\n",
       "      <td>Iris-setosa</td>\n",
       "      <td>False</td>\n",
       "    </tr>\n",
       "    <tr>\n",
       "      <th>3</th>\n",
       "      <td>4.6</td>\n",
       "      <td>3.1</td>\n",
       "      <td>1.5</td>\n",
       "      <td>0.2</td>\n",
       "      <td>Iris-setosa</td>\n",
       "      <td>False</td>\n",
       "    </tr>\n",
       "    <tr>\n",
       "      <th>4</th>\n",
       "      <td>5.0</td>\n",
       "      <td>3.6</td>\n",
       "      <td>1.4</td>\n",
       "      <td>0.2</td>\n",
       "      <td>Iris-setosa</td>\n",
       "      <td>False</td>\n",
       "    </tr>\n",
       "    <tr>\n",
       "      <th>...</th>\n",
       "      <td>...</td>\n",
       "      <td>...</td>\n",
       "      <td>...</td>\n",
       "      <td>...</td>\n",
       "      <td>...</td>\n",
       "      <td>...</td>\n",
       "    </tr>\n",
       "    <tr>\n",
       "      <th>145</th>\n",
       "      <td>6.7</td>\n",
       "      <td>3.0</td>\n",
       "      <td>5.2</td>\n",
       "      <td>2.3</td>\n",
       "      <td>Iris-virginica</td>\n",
       "      <td>True</td>\n",
       "    </tr>\n",
       "    <tr>\n",
       "      <th>146</th>\n",
       "      <td>6.3</td>\n",
       "      <td>2.5</td>\n",
       "      <td>5.0</td>\n",
       "      <td>1.9</td>\n",
       "      <td>Iris-virginica</td>\n",
       "      <td>True</td>\n",
       "    </tr>\n",
       "    <tr>\n",
       "      <th>147</th>\n",
       "      <td>6.5</td>\n",
       "      <td>3.0</td>\n",
       "      <td>5.2</td>\n",
       "      <td>2.0</td>\n",
       "      <td>Iris-virginica</td>\n",
       "      <td>True</td>\n",
       "    </tr>\n",
       "    <tr>\n",
       "      <th>148</th>\n",
       "      <td>6.2</td>\n",
       "      <td>3.4</td>\n",
       "      <td>5.4</td>\n",
       "      <td>2.3</td>\n",
       "      <td>Iris-virginica</td>\n",
       "      <td>True</td>\n",
       "    </tr>\n",
       "    <tr>\n",
       "      <th>149</th>\n",
       "      <td>5.9</td>\n",
       "      <td>3.0</td>\n",
       "      <td>5.1</td>\n",
       "      <td>1.8</td>\n",
       "      <td>Iris-virginica</td>\n",
       "      <td>True</td>\n",
       "    </tr>\n",
       "  </tbody>\n",
       "</table>\n",
       "<p>150 rows × 6 columns</p>\n",
       "</div>"
      ],
      "text/plain": [
       "     sepallength  sepalwidth  petallength  petalwidth           class  \\\n",
       "0            5.1         3.5          1.4         0.2     Iris-setosa   \n",
       "1            4.9         3.0          1.4         0.2     Iris-setosa   \n",
       "2            4.7         3.2          1.3         0.2     Iris-setosa   \n",
       "3            4.6         3.1          1.5         0.2     Iris-setosa   \n",
       "4            5.0         3.6          1.4         0.2     Iris-setosa   \n",
       "..           ...         ...          ...         ...             ...   \n",
       "145          6.7         3.0          5.2         2.3  Iris-virginica   \n",
       "146          6.3         2.5          5.0         1.9  Iris-virginica   \n",
       "147          6.5         3.0          5.2         2.0  Iris-virginica   \n",
       "148          6.2         3.4          5.4         2.3  Iris-virginica   \n",
       "149          5.9         3.0          5.1         1.8  Iris-virginica   \n",
       "\n",
       "     longer_than_thresh  \n",
       "0                 False  \n",
       "1                 False  \n",
       "2                 False  \n",
       "3                 False  \n",
       "4                 False  \n",
       "..                  ...  \n",
       "145                True  \n",
       "146                True  \n",
       "147                True  \n",
       "148                True  \n",
       "149                True  \n",
       "\n",
       "[150 rows x 6 columns]"
      ]
     },
     "execution_count": 14,
     "metadata": {},
     "output_type": "execute_result"
    }
   ],
   "source": [
    "\n",
    "# Beräkna andelen foderblad som är längre än 5.5 cm\n",
    "length_threshold = 5.5\n",
    "df_iris['longer_than_thresh'] = df_iris['sepallength'] > length_threshold\n",
    "df_iris"
   ]
  },
  {
   "cell_type": "code",
   "execution_count": 15,
   "metadata": {},
   "outputs": [
    {
     "name": "stdout",
     "output_type": "stream",
     "text": [
      "Andelen foderblad som är längre än 5.5 cm är 0.61\n"
     ]
    },
    {
     "data": {
      "image/png": "[encoded data removed]",
      "text/plain": [
       "<Figure size 640x480 with 1 Axes>"
      ]
     },
     "metadata": {},
     "output_type": "display_data"
    }
   ],
   "source": [
    "\n",
    "# Summera antalet blommor som är längre än 5.5 cm\n",
    "longer_than = df_iris['longer_than_thresh'].sum()\n",
    "n = len(df_iris)\n",
    "propotion_longer_than = longer_than / n\n",
    "\n",
    "# Skriv ut resultatet\n",
    "print(f'Andelen foderblad som är längre än {length_threshold} cm är {propotion_longer_than:.2f}')\n",
    "\n",
    "# Plotta histogram\n",
    "plt.hist(df_iris['sepallength'], bins=20)\n",
    "plt.axvline(x=length_threshold, color='red')\n",
    "plt.xlabel('Foderbladslängd (cm)')\n",
    "plt.ylabel('Antal')\n",
    "plt.title('Histogram över foderbladslängd')\n",
    "plt.show()\n"
   ]
  },
  {
   "cell_type": "markdown",
   "metadata": {},
   "source": [
    "Beräkna konfidensintervall för andelen blommor med foderbladslängd större än 5.5 cm med signifikans $\\alpha = 0.05$."
   ]
  },
  {
   "cell_type": "code",
   "execution_count": 16,
   "metadata": {},
   "outputs": [
    {
     "name": "stdout",
     "output_type": "stream",
     "text": [
      "Tvåsidigt konfidensintervall: [0.53, 0.68]\n"
     ]
    }
   ],
   "source": [
    "# Beräkna konfidensintervallet\n",
    "import scipy.stats as stats\n",
    "alpha = 0.05\n",
    "\n",
    "# Tvåsidigt konfidensintervall\n",
    "z = stats.norm.ppf(1 - alpha/2)\n",
    "lower = propotion_longer_than - z * np.sqrt(propotion_longer_than * (1 - propotion_longer_than) / n)\n",
    "upper = propotion_longer_than + z * np.sqrt(propotion_longer_than * (1 - propotion_longer_than) / n)\n",
    "\n",
    "# Printa resultatet\n",
    "print(f'Tvåsidigt konfidensintervall: [{lower:.2f}, {upper:.2f}]')"
   ]
  },
  {
   "cell_type": "markdown",
   "metadata": {},
   "source": [
    "### Stickprovsstorlek\n",
    "\n",
    "När man utför undersökningar vill man vara så effektiv som möjligt med de medel som man har. Om vi känner till hur brett konfidensintervall vi kan acceptera så kan vi beräkna hur många datapunkter vi behöver för att få ett visst konfidensintervall. \n",
    "\n",
    "Bredden på ett konfidensintervall kan uppskattas som:\n",
    "\n",
    "$$ I_\\theta = 2 \\cdot z_{\\alpha/2} \\cdot s. $$\n",
    "\n",
    "vilket för populationsandel blir:\n",
    "\n",
    "$$ I_\\theta = 2 \\cdot z_{\\alpha/2} \\cdot \\sqrt{\\frac{\\hat{\\theta}(1-\\hat{\\theta})}{n}}. $$\n",
    "\n",
    "där $I_\\theta$ är bredden på konfidensintervall, $z_{\\alpha/2}$ är kvantilvärdet vid signifikans $\\alpha /2$, $\\hat{\\theta}$ är stickprovsanden och $n$ är stickprovsstorleken.\n",
    "\n",
    "Då kan vi lösa ut $n$:\n"
   ]
  },
  {
   "cell_type": "markdown",
   "metadata": {},
   "source": [
    "$$ I_\\theta\\sqrt{n} = 2 \\cdot z_{\\alpha/2} \\cdot \\sqrt{\\hat{\\theta}(1-\\hat{\\theta})} $$\n",
    "$$ \\sqrt{n} = \\frac{2 \\cdot z_{\\alpha/2}}{I_\\theta} \\cdot \\sqrt{\\hat{\\theta}(1-\\hat{\\theta})} $$\n",
    "\n",
    "$$ n = \\frac{(2 \\cdot z_{\\alpha/2})^2 \\cdot \\hat{\\theta}(1-\\hat{\\theta})}{I_\\theta^2}. $$"
   ]
  },
  {
   "cell_type": "markdown",
   "metadata": {},
   "source": [
    "### Exempel:\n",
    "\n",
    "Vi vill utföra en undersökning där vi vill veta andelen av befolkningen som är för eller emot en viss fråga. Vi vill ha ett konfidensintervall på $0.1$ med signifikans $\\alpha = 0.05$. Vi vet att andelen är $0.6$ i populationen. Hur många datapunkter behöver vi då för att få ett sådant konfidensintervall?"
   ]
  },
  {
   "cell_type": "code",
   "execution_count": 17,
   "metadata": {},
   "outputs": [
    {
     "name": "stdout",
     "output_type": "stream",
     "text": [
      "Number of samples needed: 368.78004678663586\n"
     ]
    }
   ],
   "source": [
    "import scipy.stats as stats\n",
    "\n",
    "# Calculate number of samples needed to achieve a certain accuracy in confidence interval\n",
    "I_theta = 0.1\n",
    "alpha = 0.05\n",
    "p = 0.6\n",
    "\n",
    "n = (stats.norm.ppf(1 - alpha / 2) * np.sqrt(p * (1 - p)) * 2 / I_theta) ** 2\n",
    "\n",
    "print(f'Number of samples needed: {n}')"
   ]
  },
  {
   "cell_type": "markdown",
   "metadata": {},
   "source": [
    "#### Testar på riktig data:"
   ]
  },
  {
   "cell_type": "code",
   "execution_count": 28,
   "metadata": {},
   "outputs": [
    {
     "name": "stdout",
     "output_type": "stream",
     "text": [
      "Confidence interval: (0.5961625273015276, 0.6938103724274696)\n",
      "Confidence interval width: 0.09764784512594193\n"
     ]
    },
    {
     "data": {
      "image/png": "[encoded data removed]",
      "text/plain": [
       "<Figure size 640x480 with 1 Axes>"
      ]
     },
     "metadata": {},
     "output_type": "display_data"
    }
   ],
   "source": [
    "# Simulate population proportions and calculate confidence intervals\n",
    "n = 369\n",
    "p = 0.6\n",
    "alpha = 0.05\n",
    "\n",
    "# Simulate population proportions\n",
    "pop = stats.bernoulli.rvs(p, size=n)\n",
    "\n",
    "# Calculate confidence intervals\n",
    "conf_int = stats.norm.interval(1 - alpha, loc=np.mean(pop), scale=np.std(pop) / np.sqrt(n))\n",
    "\n",
    "# Bredd på intervallet\n",
    "conf_width = conf_int[1] - conf_int[0]\n",
    "\n",
    "print(f'Confidence interval: {conf_int}')\n",
    "print(f'Confidence interval width: {conf_width}')\n",
    "\n",
    "# Plot population proportions and confidence intervals\n",
    "import matplotlib.pyplot as plt\n",
    "\n",
    "plt.figure()\n",
    "plt.hist(pop, label='Simulerat stickprov')\n",
    "plt.axvline(conf_int[0], color='r', linestyle='-.', label='Undre gräns')\n",
    "plt.axvline(conf_int[1], color='c', linestyle='--', label='Övre gräns')\n",
    "plt.legend()\n",
    "plt.show()"
   ]
  },
  {
   "cell_type": "markdown",
   "metadata": {},
   "source": [
    "### Parvisa observationer\n",
    "\n",
    "När vi har stickprov från två olika populationer förutsätter vi att de är oberoende. En annan vanlig situation är att vi har två stickprov från samma population med återkommande individer. I sådana fall kan vi använda oss av parvisa observationer.\n",
    "\n",
    "Detta kan vara ett effektivt sätt att mäta påverkan av en behandling. Om vi har två stickprov från samma population där vi har mätt en variabel innan och efter en behandling så kan vi använda oss av parvisa observationer för att se om behandlingen har haft någon effekt.\n",
    "\n",
    "Detta förenklar beräkningarna då vi bara behöver titta på differensen för varje individ. \n"
   ]
  },
  {
   "cell_type": "markdown",
   "metadata": {},
   "source": [
    "#### Exempel parvisa observationer:\n",
    "\n",
    "Låt oss fortsätta använda `iris`-datan. Vi vill nu undersöka om behandlingen med en viss typ av växtmedel har haft någon effekt på foderbladslängden. Vi har två stickprov från samma population där vi har mätt foderbladslängden innan och efter behandlingen. Vi kan då använda oss av parvisa observationer för att se om behandlingen har haft någon effekt.\n",
    "\n",
    "I detta exempel antar vi de första 25 datapunkterna av `iris-setosa` är innan behandlingen och de sista 25 datapunkterna är efter behandlingen. "
   ]
  },
  {
   "cell_type": "code",
   "execution_count": 29,
   "metadata": {},
   "outputs": [
    {
     "name": "stdout",
     "output_type": "stream",
     "text": [
      "Differensen av iris setosa foderbladslängderna är:\n",
      "0    -0.1\n",
      "1     0.1\n",
      "2     0.5\n",
      "3     0.6\n",
      "4    -0.3\n",
      "5    -0.6\n",
      "6     0.8\n",
      "7     0.2\n",
      "8     1.1\n",
      "9     0.0\n",
      "10   -0.4\n",
      "11    0.7\n",
      "12    0.1\n",
      "13    0.1\n",
      "14   -0.7\n",
      "15   -0.7\n",
      "16   -0.9\n",
      "17   -0.7\n",
      "18   -0.7\n",
      "19    0.0\n",
      "20   -0.6\n",
      "21    0.0\n",
      "22    0.0\n",
      "23    0.2\n",
      "24    0.2\n",
      "Name: sepallength, dtype: float64\n"
     ]
    }
   ],
   "source": [
    "# Dela upp iris setosa i två grupper\n",
    "nbr_samples = 25\n",
    "df_setosa = df_iris[df_iris['class'] == 'Iris-setosa']\n",
    "df_setosa_before = df_setosa.iloc[:nbr_samples]\n",
    "df_setosa_after = df_setosa.iloc[nbr_samples:]\n",
    "\n",
    "# Beräkna differensen av foderbladslängderna\n",
    "diff = df_setosa_after['sepallength'].values - df_setosa_before['sepallength']\n",
    "\n",
    "print(f'Differensen av iris setosa foderbladslängderna är:\\n{diff}')"
   ]
  },
  {
   "cell_type": "code",
   "execution_count": 30,
   "metadata": {},
   "outputs": [
    {
     "data": {
      "text/plain": [
       "count    25.000000\n",
       "mean     -0.044000\n",
       "std       0.532353\n",
       "min      -0.900000\n",
       "25%      -0.600000\n",
       "50%       0.000000\n",
       "75%       0.200000\n",
       "max       1.100000\n",
       "Name: sepallength, dtype: float64"
      ]
     },
     "execution_count": 30,
     "metadata": {},
     "output_type": "execute_result"
    }
   ],
   "source": [
    "diff.describe()"
   ]
  },
  {
   "cell_type": "markdown",
   "metadata": {},
   "source": [
    "Beräkna konfidensintervall för skillnaden i foderbladslängd mellan innan och efter behandlingen med signifikans $\\alpha = 0.05$."
   ]
  },
  {
   "cell_type": "code",
   "execution_count": 31,
   "metadata": {},
   "outputs": [
    {
     "name": "stdout",
     "output_type": "stream",
     "text": [
      "Tvåsidigt konfidensintervall för medelvärdet: [-0.25, 0.16]\n"
     ]
    },
    {
     "data": {
      "image/png": "[encoded data removed]",
      "text/plain": [
       "<Figure size 640x480 with 1 Axes>"
      ]
     },
     "metadata": {},
     "output_type": "display_data"
    }
   ],
   "source": [
    "# Beräkna konfidensintervallet\n",
    "alpha = 0.05\n",
    "n = len(diff)\n",
    "mean = np.mean(diff)\n",
    "std = np.std(diff, ddof=1)\n",
    "\n",
    "# Tvåsidigt konfidensintervall\n",
    "z = stats.norm.ppf(1 - alpha/2)\n",
    "lower = mean - z * std / np.sqrt(n)\n",
    "upper = mean + z * std / np.sqrt(n)\n",
    "\n",
    "# Printa resultatet\n",
    "print(f'Tvåsidigt konfidensintervall för medelvärdet: [{lower:.2f}, {upper:.2f}]')\n",
    "\n",
    "# Plotta histogram\n",
    "plt.hist(diff, bins=12)\n",
    "plt.axvline(x=lower, color='red', linestyle='-.')\n",
    "plt.axvline(x=upper, color='c', linestyle='--')\n",
    "plt.title('Histogram över differensen av foderbladslängderna')\n",
    "plt.xlabel('Differens (cm)')\n",
    "plt.ylabel('Antal')\n",
    "plt.legend(['Undre gräns', 'Övre gräns'])\n",
    "plt.show()\n",
    "\n"
   ]
  },
  {
   "cell_type": "markdown",
   "metadata": {},
   "source": [
    "#### Slutsats:\n",
    "Då vi har ett konfidensintervall som innehåller noll $(-0.25, 0.16)$ så kan vi konstatera att behandlingen inte haft en effekt på foderbladslängden. \n",
    "\n",
    "Vi får fortsätta leta efter en bättre behandling!"
   ]
  },
  {
   "cell_type": "markdown",
   "metadata": {},
   "source": [
    "# Hypotesprövning\n",
    "### Introduktion till hypotesprövning\n",
    "\n",
    "Nu har vi sett att man kan uttrycka den osäkerhet man har från en skattning i form av ett konfidensintervall. Med samma princip kan vi uttrycka osäkerheten i en hypotes. Vår hyptes uttrycker vi som:\n",
    "\n",
    "$$ H_0: \\theta = \\theta_0 $$\n",
    "$$ H_1: \\theta \\neq \\theta_0 $$\n",
    "$$ \\alpha = 0.05 $$\n",
    "\n",
    "Där $\\theta_0$ är ett värde vi har valt ut som vi vill testa om det är sant. $\\alpha$ är signifikansnivån och är en gräns för hur stor osäkerhet vi är beredd att acceptera. Denna gräns är vanligtvis satt till 5% vilket motsvarar en konfidensgrad på 95%.\n",
    "\n",
    "Vår nollhypotes $H_0$ är antagandet att t.ex. ingen skillnad skett. Om vi inte kan avvisa $H_0$ så kan vi inte säga att det skett någon förändring. Men om vi kan avvisa $H_0$ så kan vi säga att det skett en förändring. Vi kan då säga att $H_1$ som är mothypotesen är \"sann\".\n"
   ]
  },
  {
   "cell_type": "code",
   "execution_count": 32,
   "metadata": {},
   "outputs": [
    {
     "data": {
      "image/png": "[encoded data removed]",
      "text/plain": [
       "<Figure size 500x500 with 1 Axes>"
      ]
     },
     "metadata": {},
     "output_type": "display_data"
    }
   ],
   "source": [
    "import numpy as np\n",
    "import matplotlib.pyplot as plt\n",
    "from scipy import stats\n",
    "\n",
    "# Show a normal distribution with a critical value of 1.96\n",
    "x = np.linspace(-5, 5, 100)\n",
    "y = stats.norm.pdf(x, 0, 1)\n",
    "plt.figure(figsize=(5, 5))\n",
    "plt.plot(x, y, label='Normalfördelning')\n",
    "plt.axvline(x=1.96, color='r', linestyle='--')\n",
    "plt.axvline(x=-1.96, color='r', linestyle='--')\n",
    "plt.fill_between(x, y, where=(x > 1.96), color='r', alpha=0.2, label='Kritiskt område')\n",
    "plt.fill_between(x, y, where=(x < -1.96), color='r', alpha=0.2)\n",
    "plt.title(r'Normalfördelning med kritiskt värde 1.96 $(z_{0.025})$')\n",
    "plt.xlim(-5, 5)\n",
    "plt.ylim(0, 0.5)\n",
    "plt.legend(loc='upper right')\n",
    "plt.show()\n"
   ]
  },
  {
   "cell_type": "markdown",
   "metadata": {},
   "source": [
    "### Testfunktionen\n",
    "\n",
    "Testfunktionen är ett värde som vi kan använda för att avgöra om vi kan förkasta $H_0$ eller inte. Testfunktionen är jämförs med det _kritiska värdet_ $z_{\\alpha}$ för att avgöra om vi kan förkasta $H_0$ eller inte.\n",
    "\n",
    "Testfunktionen kan beskrivas som:\n",
    "\n",
    "$$ z = \\frac{\\text{punktskattning - nollhypotes}}{\\text{standardavvikelse}} = \\frac{\\hat{\\theta} - \\theta_0}{s}. $$\n",
    "\n",
    "Vi blir alltså behöver vi veta standardavvikelsen $s$ för att kunna beräkna testfunktionen.\n",
    "\n",
    "Det kritiska värdet som vi jämför testfunktionen med är beror på vilken underliggande fördelning vi använder och vilken signifikansnivå vi har valt. T.ex. om vi använder en normalfördelning med signifikansnivån $\\alpha = 0.05$ så är kritiska värdet $z_{\\alpha/2} = 1.96$ (i det tvåsidiga fallet)."
   ]
  },
  {
   "cell_type": "markdown",
   "metadata": {},
   "source": [
    "#### Exempel\n",
    "\n",
    "Vi har en stickprovsandel $\\hat{\\theta} = 0.6$ som vi beräknat från $n=100$ datapunkter och vi vill testa om andelen är större än 0.5 vid signifikansnivå $\\alpha = 0.05$. \n",
    "Vi ställer upp följande hypoteser:\n",
    "\n",
    "$$ H_0: \\theta = 0.5 $$\n",
    "$$ H_1: \\theta > 0.5 $$\n",
    "$$ \\alpha = 0.05 $$\n",
    "\n",
    "Vi kan då beräkna testfunktionen $z$ som:\n",
    "\n",
    "$$ \n",
    "\\begin{align*}\n",
    "z &= \\frac{\\hat{\\theta} - \\theta_0}{\\sqrt{\\frac{\\hat{\\theta}(1-\\hat{\\theta})}{n}}} \\\\\n",
    "  &=\\frac{0.6 - 0.5}{\\sqrt{\\frac{0.6(1-0.6)}{100}}} \\\\\n",
    "  &=\\frac{0.1}{\\frac{\\sqrt{0.24}}{10}} \\\\\n",
    "  &=\\frac{1}{\\sqrt{0.24}} \\\\\n",
    "  &= 2.04\n",
    "\\end{align*}\n",
    "$$"
   ]
  },
  {
   "cell_type": "code",
   "execution_count": 33,
   "metadata": {},
   "outputs": [
    {
     "name": "stdout",
     "output_type": "stream",
     "text": [
      "z = 2.041241452319315\n"
     ]
    }
   ],
   "source": [
    "print(f'z = {1 / 0.24**0.5}')"
   ]
  },
  {
   "cell_type": "markdown",
   "metadata": {},
   "source": [
    "\n",
    "\n",
    "Vi antar att $z$ följer en standardnormalfördelning. Då kan vi förkasta $H_0$ om $z > z_{\\alpha}$. I vårt fall är $z_{\\alpha} = 1.645$. \n",
    "\n",
    "$$ z > z_{\\alpha} \\Rightarrow 2.04 > 1.645 \\Rightarrow \\text{Förkasta } H_0. $$\n",
    "\n",
    "Då vi kan förkasta $H_0$ kan vi säga att andelen är större än 0.5.\n"
   ]
  },
  {
   "cell_type": "markdown",
   "metadata": {},
   "source": [
    "### Exempel på iris\n",
    "\n",
    "Vi ska nu testa om medelvärdet för längden på blommornas foderblad är större än 5.7 cm. Vi använder oss av iris-datan.\n",
    "\n",
    "Vi ställer upp följande hypoteser:\n",
    "\n",
    "$$ H_0: \\mu = 5.7 $$\n",
    "$$ H_1: \\mu > 5.7 $$\n",
    "$$ \\alpha = 0.05 $$\n",
    "\n",
    "Vi kan då beräkna testfunktionen $z$ som:\n",
    "\n",
    "$$\n",
    "z = \\frac{\\hat{\\mu} - \\mu_0}{\\sqrt{\\frac{s^2}{n}}}\n",
    "$$\n",
    "<!-- $$\n",
    "\\begin{align}\n",
    "z &= \\frac{\\hat{\\mu} - \\mu_0}{\\sqrt{\\frac{s^2}{n}}} \\\\\n",
    "  &= \\frac{5.843333 - 5.0}{\\sqrt{\\frac{0.681122}{150}}} \\\\\n",
    "  &= 5.84\n",
    "\\end{align}\n",
    "$$ -->\n"
   ]
  },
  {
   "cell_type": "code",
   "execution_count": 34,
   "metadata": {},
   "outputs": [
    {
     "name": "stdout",
     "output_type": "stream",
     "text": [
      "testfunktionens värde: 2.1270627666140047\n"
     ]
    }
   ],
   "source": [
    "# Ladda in iris data\n",
    "df_iris = pd.read_csv('../data/iris.csv')\n",
    "\n",
    "# Hypotes\n",
    "# H0: μ = 5.0\n",
    "# H1: μ > 5.0\n",
    "H0 = 5.7\n",
    "alpha = 0.05\n",
    "\n",
    "# Plocka ut längden på alla foderblad (sepal length)\n",
    "sepal_length = df_iris['sepallength']\n",
    "\n",
    "# Beräkna medelvärde och standardavvikelse\n",
    "mean = np.mean(sepal_length)\n",
    "std = np.std(sepal_length)\n",
    "\n",
    "# Beräkna testfunktionens värde\n",
    "n = len(sepal_length)\n",
    "z = (mean - H0) / (std / np.sqrt(n))\n",
    "\n",
    "print(f'testfunktionens värde: {z}')"
   ]
  },
  {
   "cell_type": "markdown",
   "metadata": {},
   "source": [
    "Vi gör antagander att $z$ följer en standardnormalfördelning. Då vi också har ett ensidigt intervall så är kritiska värdet $z_{\\alpha} = 1.645$.\n",
    "\n",
    "$$ z > z_{\\alpha} \\Rightarrow 2.127 > 1.645 \\Rightarrow \\text{Förkasta } H_0. $$\n",
    "\n",
    "Då vi kan förkasta $H_0$ kan vi säga att medelvärdet för längden på blommorna är större än 5.7 cm."
   ]
  }
 ],
 "metadata": {
  "kernelspec": {
   "display_name": "Python 3.10.6 ('matmod')",
   "language": "python",
   "name": "python3"
  },
  "language_info": {
   "codemirror_mode": {
    "name": "ipython",
    "version": 3
   },
   "file_extension": ".py",
   "mimetype": "text/x-python",
   "name": "python",
   "nbconvert_exporter": "python",
   "pygments_lexer": "ipython3",
   "version": "3.12.0"
  },
  "orig_nbformat": 4,
  "vscode": {
   "interpreter": {
    "hash": "9cc2df8b7b6c39f853217e30bd4548a9932cd4de19e65c405b55aa1df1ff40c3"
   }
  }
 },
 "nbformat": 4,
 "nbformat_minor": 2
}
