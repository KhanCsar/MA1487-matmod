{
 "cells": [
  {
   "cell_type": "markdown",
   "metadata": {},
   "source": [
    "# Föreläsning 5\n",
    "\n",
    "Idag kommer vi titta på urval och konfidensintervall.\n",
    "\n",
    "#### Disposition\n",
    "* Urval\n",
    "    * Vikten av slumpmässiga urval\n",
    "    * Svarsbortfall\n",
    "    * Urvalsbias\n",
    "* Intervallskattning\n",
    "    * Konfidensintervall\n",
    "    * Signifikansnivå\n",
    "    * t-fördelning"
   ]
  }
 ],
 "metadata": {
  "language_info": {
   "name": "python"
  },
  "orig_nbformat": 4
 },
 "nbformat": 4,
 "nbformat_minor": 2
}
