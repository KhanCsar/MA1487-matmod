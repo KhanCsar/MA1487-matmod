{
 "cells": [
  {
   "cell_type": "markdown",
   "metadata": {},
   "source": [
    "# Föreläsning 5\n",
    "\n",
    "Idag kommer vi titta på skattningar och urval.\n",
    "\n",
    "#### Disposition\n",
    "* Urval\n",
    "    * Vikten av slumpmässiga urval\n",
    "    * Svarsbortfall\n",
    "    * Urvalsbias\n",
    "* Intervallskattning\n",
    "    * Konfidensintervall\n",
    "    * Signifikansnivå\n",
    "\n",
    "    https://aegis4048.github.io/comprehensive_confidence_intervals_for_python_developers"
   ]
  },
  {
   "cell_type": "markdown",
   "metadata": {},
   "source": [
    "# Urval\n",
    "När vi vill göra undersökningar eller mätningar av något så är det oftast in görbart att undersöka en hel population. Därför måste vi göra ett urval av populationen. Hur vi gör detta är viktigt för att få en bra skattning av populationen.\n",
    "\n",
    "## Vikten av slumpmässiga urval (urvalsbias)\n",
    "Det är viktigt att vi gör slumpmässiga urval. Om vi inte gör det så kan vi få ett urval som inte är representativt för populationen. Detta kan leda till att vi får felaktiga slutsatser om populationen.\n"
   ]
  },
  {
   "cell_type": "markdown",
   "metadata": {},
   "source": [
    "### Exempel\n",
    "Vi vill undersöka hur många som använder sig av olika försäkringar. Vi ringer upp 100 personer och frågar dem om de har en försäkring. Vi får följande svar:\n",
    "\n",
    "|Försäkring|Antal|\n",
    "|:---:|:---:|\n",
    "|Ingen|40|\n",
    "|Hemförsäkring|25|\n",
    "|Fordon|10|\n",
    "|Hemforsäkring och fordon|15|\n",
    "\n",
    "Vi kan se att vi fått ett urval som inte är representativt för populationen. Det är väldigt få som har en hemförsäkring och fordon. Om vi hade gjort ett slumpmässigt urval så hade vi fått ett urval som var mer representativt för populationen."
   ]
  },
  {
   "cell_type": "code",
   "execution_count": null,
   "metadata": {},
   "outputs": [],
   "source": []
  },
  {
   "cell_type": "markdown",
   "metadata": {},
   "source": [
    "\n",
    "## Svarsbortfall\n",
    "När vi gör en undersökning så kan det hända att vissa personer inte svarar. Detta kallas svarsbortfall. Precis som för urvalsbias så kan detta leda till att vi får felaktiga slutsatser om populationen."
   ]
  },
  {
   "cell_type": "code",
   "execution_count": null,
   "metadata": {},
   "outputs": [],
   "source": []
  },
  {
   "cell_type": "markdown",
   "metadata": {},
   "source": [
    "\n",
    "## Urvalsbias\n",
    "När vi gör ett urval så kan vi få ett urval som inte är representativt för populationen. Detta kallas urvalsbias. Om vi inte gör ett slumpmässigt urval så kan vi få ett urval som inte är representativt för populationen. Detta kan leda till att\n",
    "\n"
   ]
  },
  {
   "cell_type": "markdown",
   "metadata": {},
   "source": []
  },
  {
   "cell_type": "markdown",
   "metadata": {},
   "source": [
    "#### Simulering av urvalsbias !!!OBS!!! Inte klart\n",
    "\n",
    "För att få en känsla för hur stor urvalsbias kan vara så kan vi simulera ett urval och utvärdera vårt experiment.\n",
    "\n",
    "Vi börjar med att definiera hyperparametrarna för simuleringen."
   ]
  },
  {
   "cell_type": "code",
   "execution_count": null,
   "metadata": {},
   "outputs": [],
   "source": [
    "# !pip install tqdm\n",
    "# !pip install hvplot\n",
    "\n",
    "from numpy import mean, std\n",
    "import numpy as np\n",
    "from math import sqrt\n",
    "import numpy.random as npr\n",
    "import scipy.stats as stats\n",
    "from tqdm import tqdm\n",
    "import hvplot.pandas\n",
    "import pandas as pd"
   ]
  },
  {
   "cell_type": "code",
   "execution_count": null,
   "metadata": {},
   "outputs": [],
   "source": [
    "N = 1000 \t# number of features \n",
    "n = 20   \t# number of samples to draw to each feature\n",
    "a = 0.05\t# significance level\n",
    "μ_required = 1.  # improvement threshold\n",
    "Z = abs(stats.t.ppf(a, n-1)) # Z score from t-test "
   ]
  },
  {
   "cell_type": "markdown",
   "metadata": {},
   "source": [
    "Vi definerar en normalfördelad slumpvariabel ${Xᵢ}$, vars medelvärde $\\mu$ och standardavvikelse $\\sigma$ genereras från en annan fördelning."
   ]
  },
  {
   "cell_type": "code",
   "execution_count": null,
   "metadata": {},
   "outputs": [],
   "source": [
    "def make_a_feature():\n",
    "    μμ = 0.5\n",
    "    σμ = 0.5\n",
    "    μ = npr.normal(μμ, σμ)\n",
    "    σ = npr.exponential(scale=σμ)\n",
    "    return μ, σ   "
   ]
  },
  {
   "cell_type": "markdown",
   "metadata": {},
   "source": [
    "Sedan samplar vi N features, gör t-test och kontrollerar Bias > 0 ​tillstånd enligt ovan och samlar in bias_featuresoch unbias_features."
   ]
  },
  {
   "cell_type": "code",
   "execution_count": null,
   "metadata": {},
   "outputs": [
    {
     "name": "stderr",
     "output_type": "stream",
     "text": [
      "100%|██████████| 1000/1000 [00:00<00:00, 14091.16it/s]\n"
     ]
    }
   ],
   "source": [
    "bias_features = []\n",
    "bias_estimates = []\n",
    "unbias_features = []\n",
    "unbias_estimates = []\n",
    "\n",
    "for _ in tqdm(range(N)):\n",
    "    μ, σ = make_a_feature()\n",
    "    samples = [npr.normal(μ, σ) for _ in range(n)]\n",
    "    s = std(samples)\n",
    "    m = mean(samples)\n",
    "    reject_h0 = (sqrt(n) * (m - μ_required) / s) > Z  # could use this feature\n",
    "    if reject_h0:\n",
    "        if μ < s * Z / sqrt(n) + μ_required:\n",
    "            bias_features.append((μ, σ))\n",
    "            bias_estimates.append((m, s))\n",
    "        else:\n",
    "            unbias_features.append((μ, σ))\n",
    "            unbias_estimates.append((m, s))"
   ]
  },
  {
   "cell_type": "markdown",
   "metadata": {},
   "source": []
  },
  {
   "cell_type": "code",
   "execution_count": null,
   "metadata": {},
   "outputs": [
    {
     "name": "stderr",
     "output_type": "stream",
     "text": [
      "100%|██████████| 20/20 [00:06<00:00,  2.94it/s]\n"
     ]
    }
   ],
   "source": [
    "num_unbias_plot_data = []\n",
    "for n in tqdm(range(20, 601, 30)):\n",
    "    bias = 0\n",
    "    unbias = 0\n",
    "    for _ in range(N):\n",
    "        μ, σ = make_a_feature()\n",
    "        samples = [npr.normal(μ, σ) for _ in range(n)]\n",
    "        s = std(samples)\n",
    "        m = mean(samples)\n",
    "        reject_h0 = (sqrt(n) * (m - μ_required) / s) > Z  # could use this feature\n",
    "        if reject_h0:\n",
    "            if μ < s * Z / sqrt(n) + μ_required:\n",
    "                bias += 1\n",
    "            else:\n",
    "                unbias += 1\n",
    "    num_unbias_plot_data.append((n, bias, unbias))"
   ]
  },
  {
   "cell_type": "code",
   "execution_count": null,
   "metadata": {},
   "outputs": [
    {
     "data": {
      "text/html": [
       "<div>\n",
       "<style scoped>\n",
       "    .dataframe tbody tr th:only-of-type {\n",
       "        vertical-align: middle;\n",
       "    }\n",
       "\n",
       "    .dataframe tbody tr th {\n",
       "        vertical-align: top;\n",
       "    }\n",
       "\n",
       "    .dataframe thead th {\n",
       "        text-align: right;\n",
       "    }\n",
       "</style>\n",
       "<table border=\"1\" class=\"dataframe\">\n",
       "  <thead>\n",
       "    <tr style=\"text-align: right;\">\n",
       "      <th></th>\n",
       "      <th>Sample Num</th>\n",
       "      <th>Num of Bias Feat</th>\n",
       "      <th>other</th>\n",
       "    </tr>\n",
       "  </thead>\n",
       "  <tbody>\n",
       "    <tr>\n",
       "      <th>0</th>\n",
       "      <td>20</td>\n",
       "      <td>13</td>\n",
       "      <td>89</td>\n",
       "    </tr>\n",
       "    <tr>\n",
       "      <th>1</th>\n",
       "      <td>50</td>\n",
       "      <td>9</td>\n",
       "      <td>98</td>\n",
       "    </tr>\n",
       "    <tr>\n",
       "      <th>2</th>\n",
       "      <td>80</td>\n",
       "      <td>5</td>\n",
       "      <td>120</td>\n",
       "    </tr>\n",
       "    <tr>\n",
       "      <th>3</th>\n",
       "      <td>110</td>\n",
       "      <td>8</td>\n",
       "      <td>115</td>\n",
       "    </tr>\n",
       "    <tr>\n",
       "      <th>4</th>\n",
       "      <td>140</td>\n",
       "      <td>4</td>\n",
       "      <td>112</td>\n",
       "    </tr>\n",
       "    <tr>\n",
       "      <th>5</th>\n",
       "      <td>170</td>\n",
       "      <td>9</td>\n",
       "      <td>114</td>\n",
       "    </tr>\n",
       "    <tr>\n",
       "      <th>6</th>\n",
       "      <td>200</td>\n",
       "      <td>6</td>\n",
       "      <td>115</td>\n",
       "    </tr>\n",
       "    <tr>\n",
       "      <th>7</th>\n",
       "      <td>230</td>\n",
       "      <td>2</td>\n",
       "      <td>135</td>\n",
       "    </tr>\n",
       "    <tr>\n",
       "      <th>8</th>\n",
       "      <td>260</td>\n",
       "      <td>4</td>\n",
       "      <td>122</td>\n",
       "    </tr>\n",
       "    <tr>\n",
       "      <th>9</th>\n",
       "      <td>290</td>\n",
       "      <td>5</td>\n",
       "      <td>147</td>\n",
       "    </tr>\n",
       "    <tr>\n",
       "      <th>10</th>\n",
       "      <td>320</td>\n",
       "      <td>4</td>\n",
       "      <td>139</td>\n",
       "    </tr>\n",
       "    <tr>\n",
       "      <th>11</th>\n",
       "      <td>350</td>\n",
       "      <td>6</td>\n",
       "      <td>135</td>\n",
       "    </tr>\n",
       "    <tr>\n",
       "      <th>12</th>\n",
       "      <td>380</td>\n",
       "      <td>1</td>\n",
       "      <td>124</td>\n",
       "    </tr>\n",
       "    <tr>\n",
       "      <th>13</th>\n",
       "      <td>410</td>\n",
       "      <td>2</td>\n",
       "      <td>154</td>\n",
       "    </tr>\n",
       "    <tr>\n",
       "      <th>14</th>\n",
       "      <td>440</td>\n",
       "      <td>7</td>\n",
       "      <td>138</td>\n",
       "    </tr>\n",
       "    <tr>\n",
       "      <th>15</th>\n",
       "      <td>470</td>\n",
       "      <td>3</td>\n",
       "      <td>129</td>\n",
       "    </tr>\n",
       "    <tr>\n",
       "      <th>16</th>\n",
       "      <td>500</td>\n",
       "      <td>8</td>\n",
       "      <td>113</td>\n",
       "    </tr>\n",
       "    <tr>\n",
       "      <th>17</th>\n",
       "      <td>530</td>\n",
       "      <td>6</td>\n",
       "      <td>127</td>\n",
       "    </tr>\n",
       "    <tr>\n",
       "      <th>18</th>\n",
       "      <td>560</td>\n",
       "      <td>6</td>\n",
       "      <td>122</td>\n",
       "    </tr>\n",
       "    <tr>\n",
       "      <th>19</th>\n",
       "      <td>590</td>\n",
       "      <td>3</td>\n",
       "      <td>134</td>\n",
       "    </tr>\n",
       "  </tbody>\n",
       "</table>\n",
       "</div>"
      ],
      "text/plain": [
       "    Sample Num  Num of Bias Feat  other\n",
       "0           20                13     89\n",
       "1           50                 9     98\n",
       "2           80                 5    120\n",
       "3          110                 8    115\n",
       "4          140                 4    112\n",
       "5          170                 9    114\n",
       "6          200                 6    115\n",
       "7          230                 2    135\n",
       "8          260                 4    122\n",
       "9          290                 5    147\n",
       "10         320                 4    139\n",
       "11         350                 6    135\n",
       "12         380                 1    124\n",
       "13         410                 2    154\n",
       "14         440                 7    138\n",
       "15         470                 3    129\n",
       "16         500                 8    113\n",
       "17         530                 6    127\n",
       "18         560                 6    122\n",
       "19         590                 3    134"
      ]
     },
     "metadata": {},
     "output_type": "display_data"
    }
   ],
   "source": [
    "df = pd.DataFrame(num_unbias_plot_data, columns=['Sample Num', 'Num of Bias Feat', 'other'])\n",
    "df"
   ]
  },
  {
   "cell_type": "code",
   "execution_count": null,
   "metadata": {},
   "outputs": [
    {
     "name": "stdout",
     "output_type": "stream",
     "text": []
    },
    {
     "data": {
      "application/vnd.holoviews_exec.v0+json": "",
      "text/html": [
       "<div id='1002'>\n",
       "  <div class=\"bk-root\" id=\"ca9de84b-a6d3-4c73-8667-c792c8a0b3a2\" data-root-id=\"1002\"></div>\n",
       "</div>\n",
       "<script type=\"application/javascript\">(function(root) {\n",
       "  function embed_document(root) {\n",
       "    var docs_json = {\"19b8d30b-40ed-4f82-9534-5003fada3c54\":{\"defs\":[{\"extends\":null,\"module\":null,\"name\":\"ReactiveHTML1\",\"overrides\":[],\"properties\":[]},{\"extends\":null,\"module\":null,\"name\":\"FlexBox1\",\"overrides\":[],\"properties\":[{\"default\":\"flex-start\",\"kind\":null,\"name\":\"align_content\"},{\"default\":\"flex-start\",\"kind\":null,\"name\":\"align_items\"},{\"default\":\"row\",\"kind\":null,\"name\":\"flex_direction\"},{\"default\":\"wrap\",\"kind\":null,\"name\":\"flex_wrap\"},{\"default\":\"flex-start\",\"kind\":null,\"name\":\"justify_content\"}]},{\"extends\":null,\"module\":null,\"name\":\"GridStack1\",\"overrides\":[],\"properties\":[{\"default\":\"warn\",\"kind\":null,\"name\":\"mode\"},{\"default\":null,\"kind\":null,\"name\":\"ncols\"},{\"default\":null,\"kind\":null,\"name\":\"nrows\"},{\"default\":true,\"kind\":null,\"name\":\"allow_resize\"},{\"default\":true,\"kind\":null,\"name\":\"allow_drag\"},{\"default\":[],\"kind\":null,\"name\":\"state\"}]},{\"extends\":null,\"module\":null,\"name\":\"click1\",\"overrides\":[],\"properties\":[{\"default\":\"\",\"kind\":null,\"name\":\"terminal_output\"},{\"default\":\"\",\"kind\":null,\"name\":\"debug_name\"},{\"default\":0,\"kind\":null,\"name\":\"clears\"}]},{\"extends\":null,\"module\":null,\"name\":\"NotificationAreaBase1\",\"overrides\":[],\"properties\":[{\"default\":\"bottom-right\",\"kind\":null,\"name\":\"position\"},{\"default\":0,\"kind\":null,\"name\":\"_clear\"}]},{\"extends\":null,\"module\":null,\"name\":\"NotificationArea1\",\"overrides\":[],\"properties\":[{\"default\":[],\"kind\":null,\"name\":\"notifications\"},{\"default\":\"bottom-right\",\"kind\":null,\"name\":\"position\"},{\"default\":0,\"kind\":null,\"name\":\"_clear\"},{\"default\":[{\"background\":\"#ffc107\",\"icon\":{\"className\":\"fas fa-exclamation-triangle\",\"color\":\"white\",\"tagName\":\"i\"},\"type\":\"warning\"},{\"background\":\"#007bff\",\"icon\":{\"className\":\"fas fa-info-circle\",\"color\":\"white\",\"tagName\":\"i\"},\"type\":\"info\"}],\"kind\":null,\"name\":\"types\"}]},{\"extends\":null,\"module\":null,\"name\":\"Notification\",\"overrides\":[],\"properties\":[{\"default\":null,\"kind\":null,\"name\":\"background\"},{\"default\":3000,\"kind\":null,\"name\":\"duration\"},{\"default\":null,\"kind\":null,\"name\":\"icon\"},{\"default\":\"\",\"kind\":null,\"name\":\"message\"},{\"default\":null,\"kind\":null,\"name\":\"notification_type\"},{\"default\":false,\"kind\":null,\"name\":\"_destroyed\"}]},{\"extends\":null,\"module\":null,\"name\":\"TemplateActions1\",\"overrides\":[],\"properties\":[{\"default\":0,\"kind\":null,\"name\":\"open_modal\"},{\"default\":0,\"kind\":null,\"name\":\"close_modal\"}]},{\"extends\":null,\"module\":null,\"name\":\"MaterialTemplateActions1\",\"overrides\":[],\"properties\":[{\"default\":0,\"kind\":null,\"name\":\"open_modal\"},{\"default\":0,\"kind\":null,\"name\":\"close_modal\"}]}],\"roots\":{\"references\":[{\"attributes\":{},\"id\":\"1024\",\"type\":\"SaveTool\"},{\"attributes\":{\"overlay\":{\"id\":\"1029\"}},\"id\":\"1027\",\"type\":\"BoxZoomTool\"},{\"attributes\":{},\"id\":\"1028\",\"type\":\"ResetTool\"},{\"attributes\":{\"children\":[{\"id\":\"1003\"},{\"id\":\"1007\"},{\"id\":\"1062\"}],\"margin\":[0,0,0,0],\"name\":\"Row00860\",\"tags\":[\"embedded\"]},\"id\":\"1002\",\"type\":\"Row\"},{\"attributes\":{\"margin\":[5,5,5,5],\"name\":\"HSpacer00864\",\"sizing_mode\":\"stretch_width\"},\"id\":\"1003\",\"type\":\"Spacer\"},{\"attributes\":{\"bottom_units\":\"screen\",\"coordinates\":null,\"fill_alpha\":0.5,\"fill_color\":\"lightgrey\",\"group\":null,\"left_units\":\"screen\",\"level\":\"overlay\",\"line_alpha\":1.0,\"line_color\":\"black\",\"line_dash\":[4,4],\"line_width\":2,\"right_units\":\"screen\",\"syncable\":false,\"top_units\":\"screen\"},\"id\":\"1029\",\"type\":\"BoxAnnotation\"},{\"attributes\":{\"line_color\":\"#30a2da\",\"line_width\":2,\"x\":{\"field\":\"Sample Num\"},\"y\":{\"field\":\"Num of Bias Feat\"}},\"id\":\"1045\",\"type\":\"Line\"},{\"attributes\":{},\"id\":\"1038\",\"type\":\"Selection\"},{\"attributes\":{\"end\":14.2,\"reset_end\":14.2,\"reset_start\":-0.20000000000000018,\"start\":-0.20000000000000018,\"tags\":[[[\"Num of Bias Feat\",\"Num of Bias Feat\",null]]]},\"id\":\"1005\",\"type\":\"Range1d\"},{\"attributes\":{\"tools\":[{\"id\":\"1006\"},{\"id\":\"1024\"},{\"id\":\"1025\"},{\"id\":\"1026\"},{\"id\":\"1027\"},{\"id\":\"1028\"}]},\"id\":\"1030\",\"type\":\"Toolbar\"},{\"attributes\":{\"below\":[{\"id\":\"1016\"}],\"center\":[{\"id\":\"1019\"},{\"id\":\"1023\"}],\"height\":300,\"left\":[{\"id\":\"1020\"}],\"margin\":[5,5,5,5],\"min_border_bottom\":10,\"min_border_left\":10,\"min_border_right\":10,\"min_border_top\":10,\"renderers\":[{\"id\":\"1043\"}],\"sizing_mode\":\"fixed\",\"title\":{\"id\":\"1008\"},\"toolbar\":{\"id\":\"1030\"},\"width\":700,\"x_range\":{\"id\":\"1004\"},\"x_scale\":{\"id\":\"1012\"},\"y_range\":{\"id\":\"1005\"},\"y_scale\":{\"id\":\"1014\"}},\"id\":\"1007\",\"subtype\":\"Figure\",\"type\":\"Plot\"},{\"attributes\":{},\"id\":\"1047\",\"type\":\"BasicTickFormatter\"},{\"attributes\":{\"data\":{\"Num of Bias Feat\":[13,9,5,8,4,9,6,2,4,5,4,6,1,2,7,3,8,6,6,3],\"Num_of_Bias_Feat\":[13,9,5,8,4,9,6,2,4,5,4,6,1,2,7,3,8,6,6,3],\"Sample Num\":[20,50,80,110,140,170,200,230,260,290,320,350,380,410,440,470,500,530,560,590],\"Sample_Num\":[20,50,80,110,140,170,200,230,260,290,320,350,380,410,440,470,500,530,560,590]},\"selected\":{\"id\":\"1038\"},\"selection_policy\":{\"id\":\"1059\"}},\"id\":\"1037\",\"type\":\"ColumnDataSource\"},{\"attributes\":{\"line_color\":\"#30a2da\",\"line_width\":2,\"x\":{\"field\":\"Sample Num\"},\"y\":{\"field\":\"Num of Bias Feat\"}},\"id\":\"1040\",\"type\":\"Line\"},{\"attributes\":{\"callback\":null,\"renderers\":[{\"id\":\"1043\"}],\"tags\":[\"hv_created\"],\"tooltips\":[[\"Sample Num\",\"@{Sample_Num}\"],[\"Num of Bias Feat\",\"@{Num_of_Bias_Feat}\"]]},\"id\":\"1006\",\"type\":\"HoverTool\"},{\"attributes\":{\"line_alpha\":0.1,\"line_color\":\"#30a2da\",\"line_width\":2,\"x\":{\"field\":\"Sample Num\"},\"y\":{\"field\":\"Num of Bias Feat\"}},\"id\":\"1041\",\"type\":\"Line\"},{\"attributes\":{\"line_alpha\":0.2,\"line_color\":\"#30a2da\",\"line_width\":2,\"x\":{\"field\":\"Sample Num\"},\"y\":{\"field\":\"Num of Bias Feat\"}},\"id\":\"1042\",\"type\":\"Line\"},{\"attributes\":{\"source\":{\"id\":\"1037\"}},\"id\":\"1044\",\"type\":\"CDSView\"},{\"attributes\":{\"end\":590.0,\"reset_end\":590.0,\"reset_start\":20.0,\"start\":20.0,\"tags\":[[[\"Sample Num\",\"Sample Num\",null]]]},\"id\":\"1004\",\"type\":\"Range1d\"},{\"attributes\":{},\"id\":\"1012\",\"type\":\"LinearScale\"},{\"attributes\":{\"coordinates\":null,\"data_source\":{\"id\":\"1037\"},\"glyph\":{\"id\":\"1040\"},\"group\":null,\"hover_glyph\":null,\"muted_glyph\":{\"id\":\"1042\"},\"nonselection_glyph\":{\"id\":\"1041\"},\"selection_glyph\":{\"id\":\"1045\"},\"view\":{\"id\":\"1044\"}},\"id\":\"1043\",\"type\":\"GlyphRenderer\"},{\"attributes\":{},\"id\":\"1059\",\"type\":\"UnionRenderers\"},{\"attributes\":{},\"id\":\"1025\",\"type\":\"PanTool\"},{\"attributes\":{\"coordinates\":null,\"group\":null,\"text\":\"More Samples \\u2192 Less Bias\",\"text_color\":\"black\",\"text_font_size\":\"12pt\"},\"id\":\"1008\",\"type\":\"Title\"},{\"attributes\":{},\"id\":\"1050\",\"type\":\"BasicTickFormatter\"},{\"attributes\":{\"axis\":{\"id\":\"1016\"},\"coordinates\":null,\"grid_line_color\":null,\"group\":null,\"ticker\":null},\"id\":\"1019\",\"type\":\"Grid\"},{\"attributes\":{\"axis_label\":\"Sample Num\",\"coordinates\":null,\"formatter\":{\"id\":\"1047\"},\"group\":null,\"major_label_policy\":{\"id\":\"1048\"},\"ticker\":{\"id\":\"1017\"}},\"id\":\"1016\",\"type\":\"LinearAxis\"},{\"attributes\":{},\"id\":\"1017\",\"type\":\"BasicTicker\"},{\"attributes\":{\"margin\":[5,5,5,5],\"name\":\"HSpacer00865\",\"sizing_mode\":\"stretch_width\"},\"id\":\"1062\",\"type\":\"Spacer\"},{\"attributes\":{\"axis_label\":\"Num of Bias Feat\",\"coordinates\":null,\"formatter\":{\"id\":\"1050\"},\"group\":null,\"major_label_policy\":{\"id\":\"1051\"},\"ticker\":{\"id\":\"1021\"}},\"id\":\"1020\",\"type\":\"LinearAxis\"},{\"attributes\":{},\"id\":\"1048\",\"type\":\"AllLabels\"},{\"attributes\":{\"axis\":{\"id\":\"1020\"},\"coordinates\":null,\"dimension\":1,\"grid_line_color\":null,\"group\":null,\"ticker\":null},\"id\":\"1023\",\"type\":\"Grid\"},{\"attributes\":{},\"id\":\"1014\",\"type\":\"LinearScale\"},{\"attributes\":{},\"id\":\"1021\",\"type\":\"BasicTicker\"},{\"attributes\":{},\"id\":\"1026\",\"type\":\"WheelZoomTool\"},{\"attributes\":{},\"id\":\"1051\",\"type\":\"AllLabels\"}],\"root_ids\":[\"1002\"]},\"title\":\"Bokeh Application\",\"version\":\"2.4.3\"}};\n",
       "    var render_items = [{\"docid\":\"19b8d30b-40ed-4f82-9534-5003fada3c54\",\"root_ids\":[\"1002\"],\"roots\":{\"1002\":\"ca9de84b-a6d3-4c73-8667-c792c8a0b3a2\"}}];\n",
       "    root.Bokeh.embed.embed_items_notebook(docs_json, render_items);\n",
       "    for (const render_item of render_items) {\n",
       "      for (const root_id of render_item.root_ids) {\n",
       "\tconst id_el = document.getElementById(root_id)\n",
       "\tif (id_el.children.length && (id_el.children[0].className === 'bk-root')) {\n",
       "\t  const root_el = id_el.children[0]\n",
       "\t  root_el.id = root_el.id + '-rendered'\n",
       "\t}\n",
       "      }\n",
       "    }\n",
       "  }\n",
       "  if (root.Bokeh !== undefined && root.Bokeh.Panel !== undefined) {\n",
       "    embed_document(root);\n",
       "  } else {\n",
       "    var attempts = 0;\n",
       "    var timer = setInterval(function(root) {\n",
       "      if (root.Bokeh !== undefined && root.Bokeh.Panel !== undefined) {\n",
       "        clearInterval(timer);\n",
       "        embed_document(root);\n",
       "      } else if (document.readyState == \"complete\") {\n",
       "        attempts++;\n",
       "        if (attempts > 200) {\n",
       "          clearInterval(timer);\n",
       "          console.log(\"Bokeh: ERROR: Unable to run BokehJS code because BokehJS library is missing\");\n",
       "        }\n",
       "      }\n",
       "    }, 25, root)\n",
       "  }\n",
       "})(window);</script>"
      ],
      "text/plain": [
       ":Curve   [Sample Num]   (Num of Bias Feat)"
      ]
     },
     "metadata": {},
     "output_type": "display_data"
    }
   ],
   "source": [
    "df.hvplot.line(x='Sample Num', y='Num of Bias Feat', title='More Samples → Less Bias')"
   ]
  },
  {
   "cell_type": "code",
   "execution_count": null,
   "metadata": {},
   "outputs": [
    {
     "data": {
      "text/html": [
       "<div>\n",
       "<style scoped>\n",
       "    .dataframe tbody tr th:only-of-type {\n",
       "        vertical-align: middle;\n",
       "    }\n",
       "\n",
       "    .dataframe tbody tr th {\n",
       "        vertical-align: top;\n",
       "    }\n",
       "\n",
       "    .dataframe thead th {\n",
       "        text-align: right;\n",
       "    }\n",
       "</style>\n",
       "<table border=\"1\" class=\"dataframe\">\n",
       "  <thead>\n",
       "    <tr style=\"text-align: right;\">\n",
       "      <th></th>\n",
       "      <th>Est Err of Unbias Feat</th>\n",
       "      <th>Est Err of Bias Feat</th>\n",
       "    </tr>\n",
       "  </thead>\n",
       "  <tbody>\n",
       "    <tr>\n",
       "      <th>0</th>\n",
       "      <td>0.018305</td>\n",
       "      <td>0.053283</td>\n",
       "    </tr>\n",
       "    <tr>\n",
       "      <th>1</th>\n",
       "      <td>0.004885</td>\n",
       "      <td>0.228530</td>\n",
       "    </tr>\n",
       "    <tr>\n",
       "      <th>2</th>\n",
       "      <td>0.169870</td>\n",
       "      <td>0.333658</td>\n",
       "    </tr>\n",
       "    <tr>\n",
       "      <th>3</th>\n",
       "      <td>0.013642</td>\n",
       "      <td>0.211135</td>\n",
       "    </tr>\n",
       "    <tr>\n",
       "      <th>4</th>\n",
       "      <td>0.010498</td>\n",
       "      <td>0.444959</td>\n",
       "    </tr>\n",
       "    <tr>\n",
       "      <th>5</th>\n",
       "      <td>0.020296</td>\n",
       "      <td>0.049944</td>\n",
       "    </tr>\n",
       "    <tr>\n",
       "      <th>6</th>\n",
       "      <td>0.070034</td>\n",
       "      <td>0.064483</td>\n",
       "    </tr>\n",
       "    <tr>\n",
       "      <th>7</th>\n",
       "      <td>0.072487</td>\n",
       "      <td>0.017657</td>\n",
       "    </tr>\n",
       "    <tr>\n",
       "      <th>8</th>\n",
       "      <td>0.043657</td>\n",
       "      <td>0.439319</td>\n",
       "    </tr>\n",
       "    <tr>\n",
       "      <th>9</th>\n",
       "      <td>0.318930</td>\n",
       "      <td>0.164767</td>\n",
       "    </tr>\n",
       "    <tr>\n",
       "      <th>10</th>\n",
       "      <td>0.053633</td>\n",
       "      <td>0.090100</td>\n",
       "    </tr>\n",
       "  </tbody>\n",
       "</table>\n",
       "</div>"
      ],
      "text/plain": [
       "    Est Err of Unbias Feat  Est Err of Bias Feat\n",
       "0                 0.018305              0.053283\n",
       "1                 0.004885              0.228530\n",
       "2                 0.169870              0.333658\n",
       "3                 0.013642              0.211135\n",
       "4                 0.010498              0.444959\n",
       "5                 0.020296              0.049944\n",
       "6                 0.070034              0.064483\n",
       "7                 0.072487              0.017657\n",
       "8                 0.043657              0.439319\n",
       "9                 0.318930              0.164767\n",
       "10                0.053633              0.090100"
      ]
     },
     "metadata": {},
     "output_type": "display_data"
    }
   ],
   "source": [
    "df = pd.DataFrame(list(zip(abs(np.array(unbias_estimates)[:, 0] - np.array(unbias_features)[:, 0]),\n",
    "                   abs(np.array(bias_estimates)[:, 0] - np.array(bias_features)[:, 0]))), columns=['Est Err of Unbias Feat', 'Est Err of Bias Feat'])\n",
    "                   \n",
    "df"
   ]
  },
  {
   "cell_type": "code",
   "execution_count": null,
   "metadata": {},
   "outputs": [
    {
     "name": "stdout",
     "output_type": "stream",
     "text": []
    },
    {
     "data": {
      "application/vnd.holoviews_exec.v0+json": "",
      "text/html": [
       "<div id='1114'>\n",
       "  <div class=\"bk-root\" id=\"dfd1b074-6c86-4b62-aa05-50b3810c634d\" data-root-id=\"1114\"></div>\n",
       "</div>\n",
       "<script type=\"application/javascript\">(function(root) {\n",
       "  function embed_document(root) {\n",
       "    var docs_json = {\"fd47aa8c-fa33-43aa-bfdd-a198783e66ff\":{\"defs\":[{\"extends\":null,\"module\":null,\"name\":\"ReactiveHTML1\",\"overrides\":[],\"properties\":[]},{\"extends\":null,\"module\":null,\"name\":\"FlexBox1\",\"overrides\":[],\"properties\":[{\"default\":\"flex-start\",\"kind\":null,\"name\":\"align_content\"},{\"default\":\"flex-start\",\"kind\":null,\"name\":\"align_items\"},{\"default\":\"row\",\"kind\":null,\"name\":\"flex_direction\"},{\"default\":\"wrap\",\"kind\":null,\"name\":\"flex_wrap\"},{\"default\":\"flex-start\",\"kind\":null,\"name\":\"justify_content\"}]},{\"extends\":null,\"module\":null,\"name\":\"GridStack1\",\"overrides\":[],\"properties\":[{\"default\":\"warn\",\"kind\":null,\"name\":\"mode\"},{\"default\":null,\"kind\":null,\"name\":\"ncols\"},{\"default\":null,\"kind\":null,\"name\":\"nrows\"},{\"default\":true,\"kind\":null,\"name\":\"allow_resize\"},{\"default\":true,\"kind\":null,\"name\":\"allow_drag\"},{\"default\":[],\"kind\":null,\"name\":\"state\"}]},{\"extends\":null,\"module\":null,\"name\":\"click1\",\"overrides\":[],\"properties\":[{\"default\":\"\",\"kind\":null,\"name\":\"terminal_output\"},{\"default\":\"\",\"kind\":null,\"name\":\"debug_name\"},{\"default\":0,\"kind\":null,\"name\":\"clears\"}]},{\"extends\":null,\"module\":null,\"name\":\"NotificationAreaBase1\",\"overrides\":[],\"properties\":[{\"default\":\"bottom-right\",\"kind\":null,\"name\":\"position\"},{\"default\":0,\"kind\":null,\"name\":\"_clear\"}]},{\"extends\":null,\"module\":null,\"name\":\"NotificationArea1\",\"overrides\":[],\"properties\":[{\"default\":[],\"kind\":null,\"name\":\"notifications\"},{\"default\":\"bottom-right\",\"kind\":null,\"name\":\"position\"},{\"default\":0,\"kind\":null,\"name\":\"_clear\"},{\"default\":[{\"background\":\"#ffc107\",\"icon\":{\"className\":\"fas fa-exclamation-triangle\",\"color\":\"white\",\"tagName\":\"i\"},\"type\":\"warning\"},{\"background\":\"#007bff\",\"icon\":{\"className\":\"fas fa-info-circle\",\"color\":\"white\",\"tagName\":\"i\"},\"type\":\"info\"}],\"kind\":null,\"name\":\"types\"}]},{\"extends\":null,\"module\":null,\"name\":\"Notification\",\"overrides\":[],\"properties\":[{\"default\":null,\"kind\":null,\"name\":\"background\"},{\"default\":3000,\"kind\":null,\"name\":\"duration\"},{\"default\":null,\"kind\":null,\"name\":\"icon\"},{\"default\":\"\",\"kind\":null,\"name\":\"message\"},{\"default\":null,\"kind\":null,\"name\":\"notification_type\"},{\"default\":false,\"kind\":null,\"name\":\"_destroyed\"}]},{\"extends\":null,\"module\":null,\"name\":\"TemplateActions1\",\"overrides\":[],\"properties\":[{\"default\":0,\"kind\":null,\"name\":\"open_modal\"},{\"default\":0,\"kind\":null,\"name\":\"close_modal\"}]},{\"extends\":null,\"module\":null,\"name\":\"MaterialTemplateActions1\",\"overrides\":[],\"properties\":[{\"default\":0,\"kind\":null,\"name\":\"open_modal\"},{\"default\":0,\"kind\":null,\"name\":\"close_modal\"}]}],\"roots\":{\"references\":[{\"attributes\":{},\"id\":\"1127\",\"type\":\"LinearScale\"},{\"attributes\":{\"fill_alpha\":0.5,\"fill_color\":\"#fc4f30\",\"hatch_color\":\"#fc4f30\",\"x\":{\"field\":\"x\"},\"y\":{\"field\":\"y\"}},\"id\":\"1198\",\"type\":\"Patch\"},{\"attributes\":{},\"id\":\"1178\",\"type\":\"Selection\"},{\"attributes\":{},\"id\":\"1151\",\"type\":\"BasicTickFormatter\"},{\"attributes\":{\"callback\":null,\"renderers\":[{\"id\":\"1162\"},{\"id\":\"1183\"}],\"tags\":[\"hv_created\"],\"tooltips\":[[\"Variable\",\"@{Variable}\"],[\"value\",\"@{value}\"],[\"Density\",\"@{value_density}\"]]},\"id\":\"1118\",\"type\":\"HoverTool\"},{\"attributes\":{\"fill_alpha\":0.5,\"fill_color\":\"#fc4f30\",\"hatch_color\":\"#fc4f30\",\"x\":{\"field\":\"x\"},\"y\":{\"field\":\"y\"}},\"id\":\"1180\",\"type\":\"Patch\"},{\"attributes\":{\"fill_alpha\":0.5,\"fill_color\":\"#30a2da\",\"hatch_color\":\"#30a2da\",\"x\":{\"field\":\"x\"},\"y\":{\"field\":\"y\"}},\"id\":\"1159\",\"type\":\"Patch\"},{\"attributes\":{\"below\":[{\"id\":\"1129\"}],\"center\":[{\"id\":\"1132\"},{\"id\":\"1136\"}],\"height\":300,\"left\":[{\"id\":\"1133\"}],\"margin\":[5,5,5,5],\"min_border_bottom\":10,\"min_border_left\":10,\"min_border_right\":10,\"min_border_top\":10,\"renderers\":[{\"id\":\"1162\"},{\"id\":\"1183\"}],\"right\":[{\"id\":\"1174\"}],\"sizing_mode\":\"fixed\",\"title\":{\"id\":\"1121\"},\"toolbar\":{\"id\":\"1143\"},\"width\":700,\"x_range\":{\"id\":\"1116\"},\"x_scale\":{\"id\":\"1125\"},\"y_range\":{\"id\":\"1117\"},\"y_scale\":{\"id\":\"1127\"}},\"id\":\"1120\",\"subtype\":\"Figure\",\"type\":\"Plot\"},{\"attributes\":{},\"id\":\"1194\",\"type\":\"UnionRenderers\"},{\"attributes\":{\"coordinates\":null,\"group\":null,\"text\":\"Histogram of Esimation Error\",\"text_color\":\"black\",\"text_font_size\":\"12pt\"},\"id\":\"1121\",\"type\":\"Title\"},{\"attributes\":{\"label\":{\"value\":\"Est Err of Bias Feat\"},\"renderers\":[{\"id\":\"1183\"}]},\"id\":\"1197\",\"type\":\"LegendItem\"},{\"attributes\":{\"fill_alpha\":0.2,\"fill_color\":\"#fc4f30\",\"hatch_alpha\":0.2,\"hatch_color\":\"#fc4f30\",\"line_alpha\":0.2,\"x\":{\"field\":\"x\"},\"y\":{\"field\":\"y\"}},\"id\":\"1182\",\"type\":\"Patch\"},{\"attributes\":{\"axis_label\":\"value\",\"coordinates\":null,\"formatter\":{\"id\":\"1151\"},\"group\":null,\"major_label_policy\":{\"id\":\"1152\"},\"ticker\":{\"id\":\"1130\"}},\"id\":\"1129\",\"type\":\"LinearAxis\"},{\"attributes\":{\"fill_alpha\":0.5,\"fill_color\":\"#30a2da\",\"hatch_alpha\":0.1,\"hatch_color\":\"#30a2da\",\"line_alpha\":1,\"x\":{\"field\":\"x\"},\"y\":{\"field\":\"y\"}},\"id\":\"1160\",\"type\":\"Patch\"},{\"attributes\":{},\"id\":\"1138\",\"type\":\"PanTool\"},{\"attributes\":{},\"id\":\"1157\",\"type\":\"Selection\"},{\"attributes\":{\"axis\":{\"id\":\"1129\"},\"coordinates\":null,\"grid_line_color\":null,\"group\":null,\"ticker\":null},\"id\":\"1132\",\"type\":\"Grid\"},{\"attributes\":{\"source\":{\"id\":\"1177\"}},\"id\":\"1184\",\"type\":\"CDSView\"},{\"attributes\":{},\"id\":\"1130\",\"type\":\"BasicTicker\"},{\"attributes\":{\"coordinates\":null,\"data_source\":{\"id\":\"1156\"},\"glyph\":{\"id\":\"1159\"},\"group\":null,\"hover_glyph\":null,\"muted_glyph\":{\"id\":\"1161\"},\"nonselection_glyph\":{\"id\":\"1160\"},\"selection_glyph\":{\"id\":\"1176\"},\"view\":{\"id\":\"1163\"}},\"id\":\"1162\",\"type\":\"GlyphRenderer\"},{\"attributes\":{},\"id\":\"1152\",\"type\":\"AllLabels\"},{\"attributes\":{\"axis_label\":\"Density\",\"coordinates\":null,\"formatter\":{\"id\":\"1154\"},\"group\":null,\"major_label_policy\":{\"id\":\"1155\"},\"ticker\":{\"id\":\"1134\"}},\"id\":\"1133\",\"type\":\"LinearAxis\"},{\"attributes\":{\"margin\":[5,5,5,5],\"name\":\"HSpacer01009\",\"sizing_mode\":\"stretch_width\"},\"id\":\"1211\",\"type\":\"Spacer\"},{\"attributes\":{\"fill_alpha\":0.2,\"fill_color\":\"#30a2da\",\"hatch_alpha\":0.2,\"hatch_color\":\"#30a2da\",\"line_alpha\":0.2,\"x\":{\"field\":\"x\"},\"y\":{\"field\":\"y\"}},\"id\":\"1161\",\"type\":\"Patch\"},{\"attributes\":{\"axis\":{\"id\":\"1133\"},\"coordinates\":null,\"dimension\":1,\"grid_line_color\":null,\"group\":null,\"ticker\":null},\"id\":\"1136\",\"type\":\"Grid\"},{\"attributes\":{\"coordinates\":null,\"data_source\":{\"id\":\"1177\"},\"glyph\":{\"id\":\"1180\"},\"group\":null,\"hover_glyph\":null,\"muted_glyph\":{\"id\":\"1182\"},\"nonselection_glyph\":{\"id\":\"1181\"},\"selection_glyph\":{\"id\":\"1198\"},\"view\":{\"id\":\"1184\"}},\"id\":\"1183\",\"type\":\"GlyphRenderer\"},{\"attributes\":{\"source\":{\"id\":\"1156\"}},\"id\":\"1163\",\"type\":\"CDSView\"},{\"attributes\":{},\"id\":\"1134\",\"type\":\"BasicTicker\"},{\"attributes\":{},\"id\":\"1139\",\"type\":\"WheelZoomTool\"},{\"attributes\":{},\"id\":\"1137\",\"type\":\"SaveTool\"},{\"attributes\":{\"end\":5.672694982139228,\"reset_end\":5.672694982139228,\"reset_start\":0.0,\"tags\":[[[\"value_density\",\"Density\",null]]]},\"id\":\"1117\",\"type\":\"Range1d\"},{\"attributes\":{\"children\":[{\"id\":\"1115\"},{\"id\":\"1120\"},{\"id\":\"1211\"}],\"margin\":[0,0,0,0],\"name\":\"Row01004\",\"tags\":[\"embedded\"]},\"id\":\"1114\",\"type\":\"Row\"},{\"attributes\":{\"margin\":[5,5,5,5],\"name\":\"HSpacer01008\",\"sizing_mode\":\"stretch_width\"},\"id\":\"1115\",\"type\":\"Spacer\"},{\"attributes\":{\"data\":{\"x\":{\"__ndarray__\":\"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\",\"dtype\":\"float64\",\"order\":\"little\",\"shape\":[200]},\"y\":{\"__ndarray__\":\"AAAAAAAAAAAAAAAAAAAAAAAAAAAAAAAAAAAAAAAAAAAAAAAAAAAAAAAAAAAAAAAAAAAAAAAAAAAAAAAAAAAAAAAAAAAAAAAAAAAAAAAAAAAAAAAAAAAAAAAAAAAAAAAAAAAAAAAAAAAAAAAAAAAAAAAAAAAAAAAAAAAAAAAAAAAAAAAAAAAAAAAAAAAAAAAAAAAAAAAAAAAAAAAAAAAAAAAAAAAAAAAAAAAAAAAAAAAAAAAAAAAAAAAAAAAAAAAAAAAAAAAAAAAAAAAAAAAAAAAAAAAAAAAAAAAAAAAAAAAAAAAAAAAAAAAAAAAAAAAAAAAAAAAAAAAAAAAAAAAAAAAAAAAAAAAAAAAAAAAAAAAAAAAAAAAAAAAAAAAAAAAAAAAAAAAAAAAAAAAAAAAAAAAAAAAAAAAAAAAAAAAAAAAAAAAAAAAAAAAAAAAAAAAAAAAAAAAAAAAAAAAAAAAAAAAAAAAAAAAAAAAAAAAAAAAAAAAAAAAAAAAAAAAAAAAAAAAAAAAAAAAAAAAAAAAAAAAAAAAAAAAAAAAAAAAAAAAAAAAAAAAAAAAAAAAAAAAAAAAAAAAAAAAAAAAAAAAAAAAAAAAAAAAAAAAAAAAAAAAAAAAAAAAAAAAAAAAAAAAAAAAAAAAAAAAAAAAAAAAAAAAAAAAAAAAAAAAAAAAAAAAAAAAAAAAAAAAAAAAAAAAAAAAAAAAAAAAAAAAAAAAAAAAAAAAAAAAAAAAAAAAAAAAAAAAAAAAAAAAAAAAAAAAAAAAAAAAAAAAAAAAAAAAAAAAAAAAAAAAAAAAAAAAAAAAAAAAAAAAAAAAAAAAAAAAAAAAAAAAAAAAAAAAAAAAAAAAAAAAAAAAAAAAAAAAAAAAAAAAAAAAAAAAAAAAAAAAAAAAAAAAAAAAAAAAAAAAAAAAAAAAAAAAAAAAAAAAAAAAAAAAAAAAAAAAAAAAAAAAAAAAAAAAAAAAAAAAAAAAAAAAAAAAAAAAAAAAAAAAAAAAAAAAAAAAAAAAAAAAAAAAAAAAAAAAAAAAAAAAAAAAAAAAAAAAAAAAAAAAAAAAAAADeDP8yT0R8P4K3pFdJ0oM/YwtPcg5viz/l5NTjWbySPxeHaCtRQZk/n9pfVVjMoD+mlwdhoA2mP/25fa+Lkqw/J3HYHEdEsj9GICpk0wy3PzZJLcR5tLw/mcJvQLijwT8uGmshTGXFP84MsMvJnMk/FY1viZFCzj+zomiefqTRP90ShJAQTtQ/EdSKafwQ1z/LQ+ECiN3ZP33aflTWodw/iCqaQbpK3z8YK+nXXuLgPz7hxJum/uE/ANpqtPnx4j+wAcZ7xbXjP6Uxg9ymReQ/TkzRyNOf5D8FP7omXMXkP9O5KNI6uuQ/zX+jYzOF5D/6duIBfi/kPxnl0S1HxOM/W7kZuw1Q4z9dCq6T7N/iPxmnoSHggOI/WhYcCxg/4j9/jPM1ZSXiP0KBvdHRPOI/OAphlm2M4j/GiSG8UxnjP/I3hcnq5uM/JMhWllj35D9W1AtJH0zmP5zVahvT5uc/DISH2dTJ6T8/DUbF+vjrP5ZIViwReu4/lU8X5I6q8D/PCi19KkryP5gdd/zaIfQ/FtsEUiU49j+5+P42iJP4P8G/iF3MOfs/AHx5xTsv/j8NTcuQ57oAQM27BlMxhgJAIASmUgJ3BEA4p93vt4gGQNSDdKpgtAhAtVzv6rrwCkAL+5lnWzINQCAjJQz8aw9AcTudnnjHEEBrWfsj4MURQAFPqIJnqRJAUOCtNpFqE0D1WocckAIUQAkxXnWjaxRAV4Ku32ehFECZd6GWF6EUQL1fKFK1aRRAQ3vgjx78E0AUOqPGA1sTQAlHTunGihJAXPGsf0KREUDBUj5TfXUQQLsPCSCgfg5AtIoFTAbuC0Dj5gMx10kJQJvYOmoaogZAQeWC3I8FBEBq7qDEKYEBQB0RlVRYP/4/zM0q3ujS+T8M5UDP0Mj1P5I69wETKPI/pbBYlJjm7T8rp5cfiFLoP+2Q/ks1i+M/x2Qv4hUG3z+DsaS4KlLYP+cIRoTB1NI/3Sg7MrXMzD+5pLUJt7/FP+fS4NcvOMA/Gz8R8Jvjtz+YqhD5Ol+xP9ctj3ih8qg/A/kMNRCwoT8MTVFRjsOYPw==\",\"dtype\":\"float64\",\"order\":\"little\",\"shape\":[200]}},\"selected\":{\"id\":\"1157\"},\"selection_policy\":{\"id\":\"1171\"}},\"id\":\"1156\",\"type\":\"ColumnDataSource\"},{\"attributes\":{\"fill_alpha\":0.5,\"fill_color\":\"#30a2da\",\"hatch_color\":\"#30a2da\",\"x\":{\"field\":\"x\"},\"y\":{\"field\":\"y\"}},\"id\":\"1176\",\"type\":\"Patch\"},{\"attributes\":{\"overlay\":{\"id\":\"1142\"}},\"id\":\"1140\",\"type\":\"BoxZoomTool\"},{\"attributes\":{},\"id\":\"1141\",\"type\":\"ResetTool\"},{\"attributes\":{\"end\":0.7351166472619832,\"reset_end\":0.7351166472619832,\"reset_start\":-0.2724999784957518,\"start\":-0.2724999784957518,\"tags\":[[[\"value\",\"value\",null]]]},\"id\":\"1116\",\"type\":\"Range1d\"},{\"attributes\":{\"bottom_units\":\"screen\",\"coordinates\":null,\"fill_alpha\":0.5,\"fill_color\":\"lightgrey\",\"group\":null,\"left_units\":\"screen\",\"level\":\"overlay\",\"line_alpha\":1.0,\"line_color\":\"black\",\"line_dash\":[4,4],\"line_width\":2,\"right_units\":\"screen\",\"syncable\":false,\"top_units\":\"screen\"},\"id\":\"1142\",\"type\":\"BoxAnnotation\"},{\"attributes\":{\"fill_alpha\":0.5,\"fill_color\":\"#fc4f30\",\"hatch_alpha\":0.1,\"hatch_color\":\"#fc4f30\",\"line_alpha\":1,\"x\":{\"field\":\"x\"},\"y\":{\"field\":\"y\"}},\"id\":\"1181\",\"type\":\"Patch\"},{\"attributes\":{\"click_policy\":\"mute\",\"coordinates\":null,\"group\":null,\"items\":[{\"id\":\"1175\"},{\"id\":\"1197\"}],\"location\":[0,0],\"title\":\"Variable\"},\"id\":\"1174\",\"type\":\"Legend\"},{\"attributes\":{\"data\":{\"x\":{\"__ndarray__\":\"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\",\"dtype\":\"float64\",\"order\":\"little\",\"shape\":[200]},\"y\":{\"__ndarray__\":\"AAAAAAAAAAAAAAAAAAAAAAAAAAAAAAAAAAAAAAAAAAAAAAAAAAAAAAAAAAAAAAAAAAAAAAAAAAAAAAAAAAAAAAAAAAAAAAAAAAAAAAAAAAAAAAAAAAAAAAAAAAAAAAAAAAAAAAAAAAAAAAAAAAAAAAAAAAAAAAAAAAAAAAAAAAAAAAAAAAAAAAAAAAAAAAAAAAAAAAAAAAAAAAAAAAAAAAAAAAAAAAAAAAAAAAAAAAAAAAAAAAAAAAAAAAAAAAAAAAAAAAAAAAAAAAAAAAAAAAAAAAAAAAAAAAAAAAAAAAAAAAAAAAAAAAAAAAAAAAAAAAAAAAAAAAAAAAAAAAAAAAAAAAAAAAAAAAAAAAAAAAAAAAAAAAAAAAAAAAAAAAAAAAAAAAAAAAAAAAAAAAAAAAAAAAAAAAAAAAAAAAAAAAAAAAAAAAAAAAAAAAAAAAAAAAAAAAAAAAAAAAAAAAAAAAAAAAAAAAAAAAAAAAAAAAAAAAAAAAAAAAAAAAAAAAAAAAAAAAAAAAAAAAAAAAAAAAAAAAAAAAAAAAAAAAAAAAAAAAAAAAAAAAAAAAAAAAAAAAAAAAAAAAAAAAAAAAAAAAAAAAAAAAAAAAAAAAAAAAAAAAAAAAAAAAAAAAAAAAAAAAAAAAAAAAAAAAAAAAAAAAAAAAAAAAAAAAAAAAAAAAAAAAAAAAAAAAAAAAAAAAAAAAAAAAAAAAAAAAAAAAAAAAAAAAAAAAAAAAAAAAAAAAAAAAAAAAAAAAAAAAAAAAAAAAAAAAAAAAAAAAAAAAAAAAAAAAAAAAAAAAAAAAAAAAAAAAAAAAAAAAAAAAAAAAAAAAAAAAAAAAAAAAAAAAAAAAAAAAAAAAAAAAAAAAAAAAAAAAAAAAAAAAAAAAAAAAAAAAAAAAAAAAAAAAAAAAAAAAAAAAAAAAAAAAAAAAAAAAAAAAAAAAAAAAAAAAAAAAAAAAAAAAAAAAAAAAAAAAAAAAAAAAAAAAAAAAAAAAAAAAAAAAAAAAAAAAAAAAAAAAAAAAAAAAAAAAAAAAAAAAAAAAAAAAAAAAAAAAAAAAAAAABPKE44oKR/P/x8Iv7qqIU/Sd2GOJdUjT+UTv5ZtaSTP/H7QUPSBpo/a2gkR00OoT/G7wFHBR2mPx3upH/LXKw/6RGUnHT+sT/CgTTLjZa2P5HI0hbGDbw/6qFnF5o8wT+5wYheS/XEP06KTttyN8k/aagakXIGzj8sWTsA9bDRP2upRjKVotQ/PxnEV2vT1z/JF5GMXjzbP9gvVbr6094/LR5/3VJH4T/bRfmxfS/jP46dXS8nG+U/PmOXQKQC5z9T46wmUd7oPxQZS1nzpuo/3exJMBtW7D8VlJ2afubtP65Q1FRGVO8/7aB76aNO8D+HxjOtk+DwP3Nnar6vYPE/USSFj5bQ8T+426ajsDLyP8VuvfMNivI/OuvlRDra8j8ZBTOHCyfzP6Q67LNtdPM//Shkty/G8z+/DLC71B/0P++IZ6xshPQ/I75zE3b29D9NNveLynf1P5WoQg6WCfY/Q5y2XFis9j+DoVH07l/3P5kNniqlI/g/xC8rqUf2+D+wyYVLONb5P7Xy5I9/wfo/kplZTNm1+z/SZroou7D8PxJfr2VUr/0/R6qFn4eu/j+SAe9d4Kr/Pwcj7J1DUABABZOFEJzFAEDzIdEmHzMBQL5YwOE8lgFAkb4TdDjsAUCgR7gKODICQEOAsKpbZQJAZxNpbtqCAkCLKW+ZJIgCQDU6dUEIcwJAP8LZxdVBAkAKHqsNgfMBQIq315G8hwFAil39lgv/AECOGrSfyVoAQMDKl/hLOv8/hnHQsCaS/T8nEdhNWMT7P2383Gwb2fk/LH6q6FjZ9z8ubQjCSM71Pwl63NQRwfM/yFSwlG668T+ANHSmuITvPwEEMt2yv+s/vMxer2ox6D/L6n+o5+LkP/tQybiG2uE/Kw6NahQ43j+wbHEPkFHZPx5SHgPf/9Q/qE0dDL890T/TH9+8FgbMP5USuln+isY/qOzvhuHywT84Te+/70m8P0Ry0AVVELY/MCkymQkIsT8wERhiswWqP8vD3cCVrKM/XhrM0vFwnT/BIBGUyMyVP+DpC/7I8o8/5ctZYMAqhz8qgbJizp+APw==\",\"dtype\":\"float64\",\"order\":\"little\",\"shape\":[200]}},\"selected\":{\"id\":\"1178\"},\"selection_policy\":{\"id\":\"1194\"}},\"id\":\"1177\",\"type\":\"ColumnDataSource\"},{\"attributes\":{\"tools\":[{\"id\":\"1118\"},{\"id\":\"1137\"},{\"id\":\"1138\"},{\"id\":\"1139\"},{\"id\":\"1140\"},{\"id\":\"1141\"}]},\"id\":\"1143\",\"type\":\"Toolbar\"},{\"attributes\":{\"label\":{\"value\":\"Est Err of Unbias Feat\"},\"renderers\":[{\"id\":\"1162\"}]},\"id\":\"1175\",\"type\":\"LegendItem\"},{\"attributes\":{},\"id\":\"1171\",\"type\":\"UnionRenderers\"},{\"attributes\":{},\"id\":\"1154\",\"type\":\"BasicTickFormatter\"},{\"attributes\":{},\"id\":\"1155\",\"type\":\"AllLabels\"},{\"attributes\":{},\"id\":\"1125\",\"type\":\"LinearScale\"}],\"root_ids\":[\"1114\"]},\"title\":\"Bokeh Application\",\"version\":\"2.4.3\"}};\n",
       "    var render_items = [{\"docid\":\"fd47aa8c-fa33-43aa-bfdd-a198783e66ff\",\"root_ids\":[\"1114\"],\"roots\":{\"1114\":\"dfd1b074-6c86-4b62-aa05-50b3810c634d\"}}];\n",
       "    root.Bokeh.embed.embed_items_notebook(docs_json, render_items);\n",
       "    for (const render_item of render_items) {\n",
       "      for (const root_id of render_item.root_ids) {\n",
       "\tconst id_el = document.getElementById(root_id)\n",
       "\tif (id_el.children.length && (id_el.children[0].className === 'bk-root')) {\n",
       "\t  const root_el = id_el.children[0]\n",
       "\t  root_el.id = root_el.id + '-rendered'\n",
       "\t}\n",
       "      }\n",
       "    }\n",
       "  }\n",
       "  if (root.Bokeh !== undefined && root.Bokeh.Panel !== undefined) {\n",
       "    embed_document(root);\n",
       "  } else {\n",
       "    var attempts = 0;\n",
       "    var timer = setInterval(function(root) {\n",
       "      if (root.Bokeh !== undefined && root.Bokeh.Panel !== undefined) {\n",
       "        clearInterval(timer);\n",
       "        embed_document(root);\n",
       "      } else if (document.readyState == \"complete\") {\n",
       "        attempts++;\n",
       "        if (attempts > 200) {\n",
       "          clearInterval(timer);\n",
       "          console.log(\"Bokeh: ERROR: Unable to run BokehJS code because BokehJS library is missing\");\n",
       "        }\n",
       "      }\n",
       "    }, 25, root)\n",
       "  }\n",
       "})(window);</script>"
      ],
      "text/plain": [
       ":NdOverlay   [Variable]\n",
       "   :Distribution   [value]   (Density)"
      ]
     },
     "metadata": {},
     "output_type": "display_data"
    }
   ],
   "source": [
    "df.hvplot.density(y=['Est Err of Unbias Feat', 'Est Err of Bias Feat'], title='Histogram of Esimation Error')"
   ]
  },
  {
   "cell_type": "code",
   "execution_count": null,
   "metadata": {},
   "outputs": [
    {
     "name": "stderr",
     "output_type": "stream",
     "text": [
      "100%|██████████| 1000/1000 [03:30<00:00,  4.76it/s]\n"
     ]
    }
   ],
   "source": [
    "n = 200000\n",
    "bias = 0\n",
    "unbias = 0\n",
    "for _ in tqdm(range(N)):\n",
    "    μ, σ = make_a_feature()\n",
    "    samples = [npr.normal(μ, σ) for _ in range(n)]\n",
    "    s = std(samples)\n",
    "    m = mean(samples)\n",
    "    reject_h0 = (sqrt(n) * (m - μ_required) / s) > Z  # could use this feature\n",
    "    if reject_h0:\n",
    "        if μ < s * Z / sqrt(n) + μ_required:\n",
    "            bias += 1\n",
    "        else:\n",
    "            unbias += 1"
   ]
  },
  {
   "cell_type": "code",
   "execution_count": null,
   "metadata": {},
   "outputs": [
    {
     "data": {
      "text/plain": [
       "0"
      ]
     },
     "metadata": {},
     "output_type": "display_data"
    }
   ],
   "source": [
    "bias  # Enough Sampling => No Bias!"
   ]
  },
  {
   "cell_type": "code",
   "execution_count": 24,
   "metadata": {},
   "outputs": [
    {
     "data": {
      "text/html": [
       "<div>\n",
       "<style scoped>\n",
       "    .dataframe tbody tr th:only-of-type {\n",
       "        vertical-align: middle;\n",
       "    }\n",
       "\n",
       "    .dataframe tbody tr th {\n",
       "        vertical-align: top;\n",
       "    }\n",
       "\n",
       "    .dataframe thead th {\n",
       "        text-align: right;\n",
       "    }\n",
       "</style>\n",
       "<table border=\"1\" class=\"dataframe\">\n",
       "  <thead>\n",
       "    <tr style=\"text-align: right;\">\n",
       "      <th></th>\n",
       "      <th>Est Err of Unbias Feat</th>\n",
       "      <th>Est Err of Bias Feat</th>\n",
       "    </tr>\n",
       "  </thead>\n",
       "  <tbody>\n",
       "    <tr>\n",
       "      <th>0</th>\n",
       "      <td>0.018305</td>\n",
       "      <td>0.053283</td>\n",
       "    </tr>\n",
       "    <tr>\n",
       "      <th>1</th>\n",
       "      <td>0.004885</td>\n",
       "      <td>0.228530</td>\n",
       "    </tr>\n",
       "    <tr>\n",
       "      <th>2</th>\n",
       "      <td>0.169870</td>\n",
       "      <td>0.333658</td>\n",
       "    </tr>\n",
       "    <tr>\n",
       "      <th>3</th>\n",
       "      <td>0.013642</td>\n",
       "      <td>0.211135</td>\n",
       "    </tr>\n",
       "    <tr>\n",
       "      <th>4</th>\n",
       "      <td>0.010498</td>\n",
       "      <td>0.444959</td>\n",
       "    </tr>\n",
       "    <tr>\n",
       "      <th>5</th>\n",
       "      <td>0.020296</td>\n",
       "      <td>0.049944</td>\n",
       "    </tr>\n",
       "    <tr>\n",
       "      <th>6</th>\n",
       "      <td>0.070034</td>\n",
       "      <td>0.064483</td>\n",
       "    </tr>\n",
       "    <tr>\n",
       "      <th>7</th>\n",
       "      <td>0.072487</td>\n",
       "      <td>0.017657</td>\n",
       "    </tr>\n",
       "    <tr>\n",
       "      <th>8</th>\n",
       "      <td>0.043657</td>\n",
       "      <td>0.439319</td>\n",
       "    </tr>\n",
       "    <tr>\n",
       "      <th>9</th>\n",
       "      <td>0.318930</td>\n",
       "      <td>0.164767</td>\n",
       "    </tr>\n",
       "    <tr>\n",
       "      <th>10</th>\n",
       "      <td>0.053633</td>\n",
       "      <td>0.090100</td>\n",
       "    </tr>\n",
       "  </tbody>\n",
       "</table>\n",
       "</div>"
      ],
      "text/plain": [
       "    Est Err of Unbias Feat  Est Err of Bias Feat\n",
       "0                 0.018305              0.053283\n",
       "1                 0.004885              0.228530\n",
       "2                 0.169870              0.333658\n",
       "3                 0.013642              0.211135\n",
       "4                 0.010498              0.444959\n",
       "5                 0.020296              0.049944\n",
       "6                 0.070034              0.064483\n",
       "7                 0.072487              0.017657\n",
       "8                 0.043657              0.439319\n",
       "9                 0.318930              0.164767\n",
       "10                0.053633              0.090100"
      ]
     },
     "execution_count": 24,
     "metadata": {},
     "output_type": "execute_result"
    }
   ],
   "source": [
    "df2 = pd.DataFrame(list(zip(abs(np.array(unbias_estimates)[:, 0] - np.array(unbias_features)[:, 0]),\n",
    "                   abs(np.array(bias_estimates)[:, 0] - np.array(bias_features)[:, 0]))), columns=['Est Err of Unbias Feat', 'Est Err of Bias Feat'])\n",
    "                   \n",
    "df2"
   ]
  },
  {
   "cell_type": "code",
   "execution_count": null,
   "metadata": {},
   "outputs": [],
   "source": [
    "# Generera en normalfördelad variabel \n",
    "# Beräkna sedan konfidensintervallet för medelvärdet med olika konfidensgrader\n",
    "\n",
    "import numpy as np\n",
    "import scipy.stats as stats\n",
    "import matplotlib.pyplot as plt\n",
    "\n",
    "# Konfidensgrader\n",
    "conf = [0.95, 0.99, 0.999]\n",
    "\n",
    "# Normalfördelad variabel med medelvärde 0 och standardavvikelse 1\n",
    "mean = 0\n",
    "std = .1\n",
    "X = stats.norm(mean, std)\n",
    "\n",
    "# Beräkna konfidensintervallet för medelvärdet\n",
    "n = 100        # Antal observationer\n",
    "\n",
    "x = X.rvs(n)    # Generera n observationer\n"
   ]
  },
  {
   "cell_type": "code",
   "execution_count": null,
   "metadata": {},
   "outputs": [],
   "source": [
    "# Beräkna konfidensintervallet för medelvärdet\n",
    "xbar = np.mean(x)   # Beräkna medelvärdet\n",
    "s = np.std(x, ddof=1)   # Beräkna standardavvikelsen\n",
    "\n",
    "# Gränsvärden för konfidensintervallet vid olika konfidensgrader\n",
    "lower = []\n",
    "upper = []\n",
    "for c in conf:\n",
    "    lower.append(xbar - stats.norm.ppf((1+c)/2)*s/np.sqrt(n))\n",
    "    upper.append(xbar + stats.norm.ppf((1+c)/2)*s/np.sqrt(n))\n",
    "    print('Konfidensgrad: ', c)\n",
    "    print('Konfidensintervallet: [', lower[-1], ', ', upper[-1], ']\\n')\n",
    "\n",
    "# Plotta histogrammet för de genererade observationerna tillsammans med konfidensintervallen för medelvärdet\n",
    "height, bins, patches = plt.hist(x, bins=20, density=True, alpha=0.5)\n",
    "\n",
    "plt.fill_betweenx([0, height.max()/2], lower[0], upper[0], color='r', alpha=0.1)\n",
    "# plt.fill_betweenx([0, 1], lower[0], upper[0], color='r', alpha=0.1)\n",
    "plt.fill_betweenx([0, height.max()], lower[1], upper[1], color='b', alpha=0.1)\n",
    "plt.fill_betweenx([0, height.max()*1.5], lower[2], upper[2], color='k', alpha=0.1)\n",
    "plt.legend(['Konfidensgrad 95%', 'Konfidensgrad 99%', 'Konfidensgrad 99.9%'])\n",
    "plt.title('Konfidensintervall för medelvärdet')\n",
    "plt.show()"
   ]
  }
 ],
 "metadata": {
  "kernelspec": {
   "display_name": "Python 3.10.6 ('matmod')",
   "language": "python",
   "name": "python3"
  },
  "language_info": {
   "codemirror_mode": {
    "name": "ipython",
    "version": 3
   },
   "file_extension": ".py",
   "mimetype": "text/x-python",
   "name": "python",
   "nbconvert_exporter": "python",
   "pygments_lexer": "ipython3",
   "version": "3.10.6"
  },
  "orig_nbformat": 4,
  "vscode": {
   "interpreter": {
    "hash": "9cc2df8b7b6c39f853217e30bd4548a9932cd4de19e65c405b55aa1df1ff40c3"
   }
  }
 },
 "nbformat": 4,
 "nbformat_minor": 2
}
